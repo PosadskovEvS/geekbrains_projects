{
 "cells": [
  {
   "cell_type": "markdown",
   "metadata": {},
   "source": [
    "# Выбор локации для скважины"
   ]
  },
  {
   "cell_type": "markdown",
   "metadata": {},
   "source": [
    "Допустим, вы работаете в добывающей компании «ГлавРосГосНефть». Нужно решить, где бурить новую скважину.\n",
    "\n",
    "Вам предоставлены пробы нефти в трёх регионах: в каждом 10 000 месторождений, где измерили качество нефти и объём её запасов. Постройте модель машинного обучения, которая поможет определить регион, где добыча принесёт наибольшую прибыль. Проанализируйте возможную прибыль и риски техникой *Bootstrap.*\n",
    "\n",
    "Шаги для выбора локации:\n",
    "\n",
    "- В избранном регионе ищут месторождения, для каждого определяют значения признаков;\n",
    "- Строят модель и оценивают объём запасов;\n",
    "- Выбирают месторождения с самым высокими оценками значений. Количество месторождений зависит от бюджета компании и стоимости разработки одной скважины;\n",
    "- Прибыль равна суммарной прибыли отобранных месторождений."
   ]
  },
  {
   "cell_type": "markdown",
   "metadata": {},
   "source": [
    "## Загрузка и подготовка данных"
   ]
  },
  {
   "cell_type": "markdown",
   "metadata": {},
   "source": [
    "Подгружаем необходимые библиотеки."
   ]
  },
  {
   "cell_type": "code",
   "execution_count": 1,
   "metadata": {},
   "outputs": [],
   "source": [
    "import pandas as pd\n",
    "import numpy as np\n",
    "from sklearn.model_selection import train_test_split\n",
    "from sklearn.preprocessing import StandardScaler\n",
    "import scipy.stats as st\n",
    "from sklearn.linear_model import LinearRegression\n",
    "from sklearn.metrics import mean_squared_error\n",
    "import matplotlib.pyplot as plt\n",
    "import warnings\n",
    "warnings.filterwarnings(\"ignore\")"
   ]
  },
  {
   "cell_type": "markdown",
   "metadata": {},
   "source": [
    "## Обучение и проверка модели"
   ]
  },
  {
   "cell_type": "markdown",
   "metadata": {},
   "source": [
    "Обрабатываем данные. Удаляем лишний столбец с id скважины, который не несет в себе полезной для обучения моделей информации."
   ]
  },
  {
   "cell_type": "code",
   "execution_count": 2,
   "metadata": {},
   "outputs": [
    {
     "name": "stdout",
     "output_type": "stream",
     "text": [
      "<class 'pandas.core.frame.DataFrame'>\n",
      "RangeIndex: 100000 entries, 0 to 99999\n",
      "Data columns (total 5 columns):\n",
      " #   Column   Non-Null Count   Dtype  \n",
      "---  ------   --------------   -----  \n",
      " 0   id       100000 non-null  object \n",
      " 1   f0       100000 non-null  float64\n",
      " 2   f1       100000 non-null  float64\n",
      " 3   f2       100000 non-null  float64\n",
      " 4   product  100000 non-null  float64\n",
      "dtypes: float64(4), object(1)\n",
      "memory usage: 3.8+ MB\n",
      "None\n"
     ]
    },
    {
     "data": {
      "text/html": [
       "<div>\n",
       "<style scoped>\n",
       "    .dataframe tbody tr th:only-of-type {\n",
       "        vertical-align: middle;\n",
       "    }\n",
       "\n",
       "    .dataframe tbody tr th {\n",
       "        vertical-align: top;\n",
       "    }\n",
       "\n",
       "    .dataframe thead th {\n",
       "        text-align: right;\n",
       "    }\n",
       "</style>\n",
       "<table border=\"1\" class=\"dataframe\">\n",
       "  <thead>\n",
       "    <tr style=\"text-align: right;\">\n",
       "      <th></th>\n",
       "      <th>id</th>\n",
       "      <th>f0</th>\n",
       "      <th>f1</th>\n",
       "      <th>f2</th>\n",
       "      <th>product</th>\n",
       "    </tr>\n",
       "  </thead>\n",
       "  <tbody>\n",
       "    <tr>\n",
       "      <th>0</th>\n",
       "      <td>txEyH</td>\n",
       "      <td>0.705745</td>\n",
       "      <td>-0.497823</td>\n",
       "      <td>1.221170</td>\n",
       "      <td>105.280062</td>\n",
       "    </tr>\n",
       "    <tr>\n",
       "      <th>1</th>\n",
       "      <td>2acmU</td>\n",
       "      <td>1.334711</td>\n",
       "      <td>-0.340164</td>\n",
       "      <td>4.365080</td>\n",
       "      <td>73.037750</td>\n",
       "    </tr>\n",
       "    <tr>\n",
       "      <th>2</th>\n",
       "      <td>409Wp</td>\n",
       "      <td>1.022732</td>\n",
       "      <td>0.151990</td>\n",
       "      <td>1.419926</td>\n",
       "      <td>85.265647</td>\n",
       "    </tr>\n",
       "    <tr>\n",
       "      <th>3</th>\n",
       "      <td>iJLyR</td>\n",
       "      <td>-0.032172</td>\n",
       "      <td>0.139033</td>\n",
       "      <td>2.978566</td>\n",
       "      <td>168.620776</td>\n",
       "    </tr>\n",
       "    <tr>\n",
       "      <th>4</th>\n",
       "      <td>Xdl7t</td>\n",
       "      <td>1.988431</td>\n",
       "      <td>0.155413</td>\n",
       "      <td>4.751769</td>\n",
       "      <td>154.036647</td>\n",
       "    </tr>\n",
       "  </tbody>\n",
       "</table>\n",
       "</div>"
      ],
      "text/plain": [
       "      id        f0        f1        f2     product\n",
       "0  txEyH  0.705745 -0.497823  1.221170  105.280062\n",
       "1  2acmU  1.334711 -0.340164  4.365080   73.037750\n",
       "2  409Wp  1.022732  0.151990  1.419926   85.265647\n",
       "3  iJLyR -0.032172  0.139033  2.978566  168.620776\n",
       "4  Xdl7t  1.988431  0.155413  4.751769  154.036647"
      ]
     },
     "metadata": {},
     "output_type": "display_data"
    },
    {
     "name": "stdout",
     "output_type": "stream",
     "text": [
      "<class 'pandas.core.frame.DataFrame'>\n",
      "RangeIndex: 100000 entries, 0 to 99999\n",
      "Data columns (total 5 columns):\n",
      " #   Column   Non-Null Count   Dtype  \n",
      "---  ------   --------------   -----  \n",
      " 0   id       100000 non-null  object \n",
      " 1   f0       100000 non-null  float64\n",
      " 2   f1       100000 non-null  float64\n",
      " 3   f2       100000 non-null  float64\n",
      " 4   product  100000 non-null  float64\n",
      "dtypes: float64(4), object(1)\n",
      "memory usage: 3.8+ MB\n",
      "None\n"
     ]
    },
    {
     "data": {
      "text/html": [
       "<div>\n",
       "<style scoped>\n",
       "    .dataframe tbody tr th:only-of-type {\n",
       "        vertical-align: middle;\n",
       "    }\n",
       "\n",
       "    .dataframe tbody tr th {\n",
       "        vertical-align: top;\n",
       "    }\n",
       "\n",
       "    .dataframe thead th {\n",
       "        text-align: right;\n",
       "    }\n",
       "</style>\n",
       "<table border=\"1\" class=\"dataframe\">\n",
       "  <thead>\n",
       "    <tr style=\"text-align: right;\">\n",
       "      <th></th>\n",
       "      <th>id</th>\n",
       "      <th>f0</th>\n",
       "      <th>f1</th>\n",
       "      <th>f2</th>\n",
       "      <th>product</th>\n",
       "    </tr>\n",
       "  </thead>\n",
       "  <tbody>\n",
       "    <tr>\n",
       "      <th>0</th>\n",
       "      <td>kBEdx</td>\n",
       "      <td>-15.001348</td>\n",
       "      <td>-8.276000</td>\n",
       "      <td>-0.005876</td>\n",
       "      <td>3.179103</td>\n",
       "    </tr>\n",
       "    <tr>\n",
       "      <th>1</th>\n",
       "      <td>62mP7</td>\n",
       "      <td>14.272088</td>\n",
       "      <td>-3.475083</td>\n",
       "      <td>0.999183</td>\n",
       "      <td>26.953261</td>\n",
       "    </tr>\n",
       "    <tr>\n",
       "      <th>2</th>\n",
       "      <td>vyE1P</td>\n",
       "      <td>6.263187</td>\n",
       "      <td>-5.948386</td>\n",
       "      <td>5.001160</td>\n",
       "      <td>134.766305</td>\n",
       "    </tr>\n",
       "    <tr>\n",
       "      <th>3</th>\n",
       "      <td>KcrkZ</td>\n",
       "      <td>-13.081196</td>\n",
       "      <td>-11.506057</td>\n",
       "      <td>4.999415</td>\n",
       "      <td>137.945408</td>\n",
       "    </tr>\n",
       "    <tr>\n",
       "      <th>4</th>\n",
       "      <td>AHL4O</td>\n",
       "      <td>12.702195</td>\n",
       "      <td>-8.147433</td>\n",
       "      <td>5.004363</td>\n",
       "      <td>134.766305</td>\n",
       "    </tr>\n",
       "  </tbody>\n",
       "</table>\n",
       "</div>"
      ],
      "text/plain": [
       "      id         f0         f1        f2     product\n",
       "0  kBEdx -15.001348  -8.276000 -0.005876    3.179103\n",
       "1  62mP7  14.272088  -3.475083  0.999183   26.953261\n",
       "2  vyE1P   6.263187  -5.948386  5.001160  134.766305\n",
       "3  KcrkZ -13.081196 -11.506057  4.999415  137.945408\n",
       "4  AHL4O  12.702195  -8.147433  5.004363  134.766305"
      ]
     },
     "metadata": {},
     "output_type": "display_data"
    },
    {
     "name": "stdout",
     "output_type": "stream",
     "text": [
      "<class 'pandas.core.frame.DataFrame'>\n",
      "RangeIndex: 100000 entries, 0 to 99999\n",
      "Data columns (total 5 columns):\n",
      " #   Column   Non-Null Count   Dtype  \n",
      "---  ------   --------------   -----  \n",
      " 0   id       100000 non-null  object \n",
      " 1   f0       100000 non-null  float64\n",
      " 2   f1       100000 non-null  float64\n",
      " 3   f2       100000 non-null  float64\n",
      " 4   product  100000 non-null  float64\n",
      "dtypes: float64(4), object(1)\n",
      "memory usage: 3.8+ MB\n",
      "None\n"
     ]
    },
    {
     "data": {
      "text/html": [
       "<div>\n",
       "<style scoped>\n",
       "    .dataframe tbody tr th:only-of-type {\n",
       "        vertical-align: middle;\n",
       "    }\n",
       "\n",
       "    .dataframe tbody tr th {\n",
       "        vertical-align: top;\n",
       "    }\n",
       "\n",
       "    .dataframe thead th {\n",
       "        text-align: right;\n",
       "    }\n",
       "</style>\n",
       "<table border=\"1\" class=\"dataframe\">\n",
       "  <thead>\n",
       "    <tr style=\"text-align: right;\">\n",
       "      <th></th>\n",
       "      <th>id</th>\n",
       "      <th>f0</th>\n",
       "      <th>f1</th>\n",
       "      <th>f2</th>\n",
       "      <th>product</th>\n",
       "    </tr>\n",
       "  </thead>\n",
       "  <tbody>\n",
       "    <tr>\n",
       "      <th>0</th>\n",
       "      <td>fwXo0</td>\n",
       "      <td>-1.146987</td>\n",
       "      <td>0.963328</td>\n",
       "      <td>-0.828965</td>\n",
       "      <td>27.758673</td>\n",
       "    </tr>\n",
       "    <tr>\n",
       "      <th>1</th>\n",
       "      <td>WJtFt</td>\n",
       "      <td>0.262778</td>\n",
       "      <td>0.269839</td>\n",
       "      <td>-2.530187</td>\n",
       "      <td>56.069697</td>\n",
       "    </tr>\n",
       "    <tr>\n",
       "      <th>2</th>\n",
       "      <td>ovLUW</td>\n",
       "      <td>0.194587</td>\n",
       "      <td>0.289035</td>\n",
       "      <td>-5.586433</td>\n",
       "      <td>62.871910</td>\n",
       "    </tr>\n",
       "    <tr>\n",
       "      <th>3</th>\n",
       "      <td>q6cA6</td>\n",
       "      <td>2.236060</td>\n",
       "      <td>-0.553760</td>\n",
       "      <td>0.930038</td>\n",
       "      <td>114.572842</td>\n",
       "    </tr>\n",
       "    <tr>\n",
       "      <th>4</th>\n",
       "      <td>WPMUX</td>\n",
       "      <td>-0.515993</td>\n",
       "      <td>1.716266</td>\n",
       "      <td>5.899011</td>\n",
       "      <td>149.600746</td>\n",
       "    </tr>\n",
       "  </tbody>\n",
       "</table>\n",
       "</div>"
      ],
      "text/plain": [
       "      id        f0        f1        f2     product\n",
       "0  fwXo0 -1.146987  0.963328 -0.828965   27.758673\n",
       "1  WJtFt  0.262778  0.269839 -2.530187   56.069697\n",
       "2  ovLUW  0.194587  0.289035 -5.586433   62.871910\n",
       "3  q6cA6  2.236060 -0.553760  0.930038  114.572842\n",
       "4  WPMUX -0.515993  1.716266  5.899011  149.600746"
      ]
     },
     "metadata": {},
     "output_type": "display_data"
    }
   ],
   "source": [
    "data_1 = pd.read_csv('/datasets/geo_data_0.csv')\n",
    "print(data_1.info())\n",
    "display(data_1.head())\n",
    "data_2 = pd.read_csv('/datasets/geo_data_1.csv')\n",
    "print(data_2.info())\n",
    "display(data_2.head())\n",
    "print(data_2.info())\n",
    "data_3 = pd.read_csv('/datasets/geo_data_2.csv')\n",
    "display(data_3.head())\n",
    "\n",
    "data_1 = data_1.drop('id', axis=1)\n",
    "data_2 = data_2.drop('id', axis=1)\n",
    "data_3 = data_3.drop('id', axis=1)"
   ]
  },
  {
   "cell_type": "markdown",
   "metadata": {},
   "source": [
    "Разделяем данные на тренировочные и валидационные, нормализуем данные, затем обучаем модель линейной регресии по 1 региону. Рассчитываем ее точность и предсказание среднего объема в одной скважине. Проделываем то же самое и для других регионов."
   ]
  },
  {
   "cell_type": "code",
   "execution_count": 3,
   "metadata": {},
   "outputs": [
    {
     "name": "stdout",
     "output_type": "stream",
     "text": [
      "RMSE = 37.5794217150813\n",
      "average = 92.59256778438008\n"
     ]
    }
   ],
   "source": [
    "features_1 = data_1.drop('product', axis=1)\n",
    "target_1 = data_1['product']\n",
    "features_train_1, features_valid_1, target_train_1, target_valid_1 = train_test_split(features_1, target_1, test_size=0.25, random_state=12345)\n",
    "numeric = ['f0', 'f1', 'f2']\n",
    "scaler = StandardScaler()\n",
    "scaler.fit(features_train_1[numeric])\n",
    "features_train_1[numeric] = scaler.transform(features_train_1[numeric])\n",
    "features_valid_1[numeric] = scaler.transform(features_valid_1[numeric])\n",
    "\n",
    "model_1 = LinearRegression()\n",
    "model_1.fit(features_train_1, target_train_1)\n",
    "predictions_1 = pd.Series(model_1.predict(features_valid_1))\n",
    "rmse_1 = (mean_squared_error(predictions_1, target_valid_1))**(0.5)\n",
    "average_1 = sum(predictions_1) / len(predictions_1)\n",
    "    \n",
    "print('RMSE =', rmse_1)\n",
    "print('average =', average_1)"
   ]
  },
  {
   "cell_type": "markdown",
   "metadata": {},
   "source": [
    "1 регион. Средний прогнозируемый запас в скважине - около 92,6. При этом корень из средней квадратичной ошибки - около 37.58, то есть возможная погрешность довольно высока."
   ]
  },
  {
   "cell_type": "code",
   "execution_count": 4,
   "metadata": {},
   "outputs": [
    {
     "name": "stdout",
     "output_type": "stream",
     "text": [
      "RMSE = 0.893099286775617\n",
      "average = 68.7285468954458\n"
     ]
    }
   ],
   "source": [
    "features_2 = data_2.drop('product', axis=1)\n",
    "target_2 = data_2['product']\n",
    "features_train_2, features_valid_2, target_train_2, target_valid_2 = train_test_split(features_2, target_2, test_size=0.25, random_state=12345)\n",
    "numeric = ['f0', 'f1', 'f2']\n",
    "scaler = StandardScaler()\n",
    "scaler.fit(features_train_2[numeric])\n",
    "features_train_2[numeric] = scaler.transform(features_train_2[numeric])\n",
    "features_valid_2[numeric] = scaler.transform(features_valid_2[numeric])\n",
    "\n",
    "model_2 = LinearRegression()\n",
    "model_2.fit(features_train_2, target_train_2)\n",
    "predictions_2 = pd.Series(model_2.predict(features_valid_2))\n",
    "rmse_2 = (mean_squared_error(predictions_2, target_valid_2))**(0.5)\n",
    "average_2 = sum(predictions_2) / len(predictions_2)\n",
    "    \n",
    "print('RMSE =', rmse_2)\n",
    "print('average =', average_2)"
   ]
  },
  {
   "cell_type": "markdown",
   "metadata": {},
   "source": [
    "2 регион. Средний прогнозируемый запас в скважине - около 68,72, что значительно меньше, чем в 1. При этом корень из средней квадратичной ошибки - около 0.9, что является отличным результом. очень высокая точность."
   ]
  },
  {
   "cell_type": "code",
   "execution_count": 5,
   "metadata": {},
   "outputs": [
    {
     "name": "stdout",
     "output_type": "stream",
     "text": [
      "RMSE = 40.02970873393434\n",
      "average = 94.96504596800506\n"
     ]
    }
   ],
   "source": [
    "features_3 = data_3.drop('product', axis=1)\n",
    "target_3 = data_3['product']\n",
    "features_train_3, features_valid_3, target_train_3, target_valid_3 = train_test_split(features_3, target_3, test_size=0.25, random_state=12345)\n",
    "numeric = ['f0', 'f1', 'f2']\n",
    "scaler = StandardScaler()\n",
    "scaler.fit(features_train_3[numeric])\n",
    "features_train_3[numeric] = scaler.transform(features_train_3[numeric])\n",
    "features_valid_3[numeric] = scaler.transform(features_valid_3[numeric])\n",
    "\n",
    "model_3 = LinearRegression()\n",
    "model_3.fit(features_train_3, target_train_3)\n",
    "predictions_3 = pd.Series(model_3.predict(features_valid_3))\n",
    "rmse_3 = (mean_squared_error(predictions_3, target_valid_3))**(0.5)\n",
    "average_3 = sum(predictions_3) / len(predictions_3)\n",
    "    \n",
    "print('RMSE =', rmse_3)\n",
    "print('average =', average_3)"
   ]
  },
  {
   "cell_type": "markdown",
   "metadata": {},
   "source": [
    "1 регион. Средний прогнозируемый запас в скважине - около 94,97. При этом корень из средней квадратичной ошибки - около 40.03, то есть здесь самая высокая погрешность и самый высокий предсказанный запас."
   ]
  },
  {
   "cell_type": "markdown",
   "metadata": {},
   "source": [
    "## Подготовка к расчёту прибыли"
   ]
  },
  {
   "cell_type": "markdown",
   "metadata": {},
   "source": [
    "Найдем точку безубыточности и необходимый для безубыточности запас нефти в целом и в каждой скважине, если их 200."
   ]
  },
  {
   "cell_type": "code",
   "execution_count": 6,
   "metadata": {},
   "outputs": [
    {
     "name": "stdout",
     "output_type": "stream",
     "text": [
      "Для безубыточной разработки требуется баррелей нефти: 22222.222222222223\n",
      "В среднем с одной скважины нужно получить баррелей нефти: 111.11111111111111\n"
     ]
    }
   ],
   "source": [
    "num_of_holes = 200\n",
    "budget = 10000000000\n",
    "income_1_bar = 450000\n",
    "min_salary = budget/income_1_bar\n",
    "print('Для безубыточной разработки требуется баррелей нефти:', min_salary)\n",
    "print('В среднем с одной скважины нужно получить баррелей нефти:', min_salary/num_of_holes)"
   ]
  },
  {
   "cell_type": "markdown",
   "metadata": {},
   "source": [
    "Необходимый запас нефти в каждой скважине в среднем - 111,11, что выше, чем среднее предсказанное по скважинам число в каждом из регионов. Соответственно, для того, чтобы добыча была рентабельной, очень важно выбрать именно скважины с самым большим запасом. Случайный выбор, с большой долей вероятности, приведет к убыткам."
   ]
  },
  {
   "cell_type": "markdown",
   "metadata": {},
   "source": [
    "## Расчёт прибыли и рисков "
   ]
  },
  {
   "cell_type": "markdown",
   "metadata": {},
   "source": [
    "Создадим функция для рассчета максимальной прибыли для каждого из регионов. Для этого предскажем 200 лучших скважин, по их индексам возьмем целевые значения по емкости скважин и просуммируем. Затем вычтем себестоимость."
   ]
  },
  {
   "cell_type": "code",
   "execution_count": 7,
   "metadata": {},
   "outputs": [
    {
     "name": "stdout",
     "output_type": "stream",
     "text": [
      "Прибыль первого региона 3320826043.1398506\n",
      "Прибыль второго региона 2415086696.681511\n",
      "Прибыль третьего региона 2710349963.5998325\n"
     ]
    }
   ],
   "source": [
    "def profit(predictions, target):\n",
    "    target.reset_index(drop=True, inplace=True)\n",
    "    predictions.reset_index(drop=True, inplace=True)\n",
    "    top_preds = predictions.sort_values(ascending=False)\n",
    "    top_target = target[top_preds.index][:200]\n",
    "    revenue = top_target.sum() * income_1_bar\n",
    "    return revenue - budget\n",
    "print(\"Прибыль первого региона\", profit(predictions_1, target_valid_1))\n",
    "print(\"Прибыль второго региона\", profit(predictions_2, target_valid_2))\n",
    "print(\"Прибыль третьего региона\", profit(predictions_3, target_valid_3))"
   ]
  },
  {
   "cell_type": "markdown",
   "metadata": {},
   "source": [
    "Видно, что модель предсказывает самую высокую прибыль в 1 регионе, затем в третьем, и самую низкую во втором. При условии выбора из всех скажин 200 самых объемных."
   ]
  },
  {
   "cell_type": "markdown",
   "metadata": {},
   "source": [
    "Создадим функцию для расчета средней прибыли, доверительного 95% интервала и риска уйти в убыток. Воспользуемся техникой Bootstrap."
   ]
  },
  {
   "cell_type": "code",
   "execution_count": 8,
   "metadata": {},
   "outputs": [
    {
     "name": "stdout",
     "output_type": "stream",
     "text": [
      "(-111215545.89049526, 909766941.5534226, 396164984, 6.9)\n",
      "(78050810.7517417, 862952060.2637234, 461155817, 0.7000000000000001)\n",
      "(-112227625.37857565, 934562914.5511636, 392950475, 6.5)\n"
     ]
    }
   ],
   "source": [
    "state = np.random.RandomState(12345)\n",
    "\n",
    "def conf_interval_and_risk(predictions, target):\n",
    "    revenue = []\n",
    "    target.reset_index(drop=True, inplace=True)\n",
    "    for _ in range(1000):\n",
    "        target_sample = target.sample(n = 500, replace=True, random_state=state)\n",
    "        predictions_sample = predictions[target_sample.index]\n",
    "        revenue.append(profit(predictions_sample, target_sample))   \n",
    "      \n",
    "       \n",
    "    revenue = pd.Series(revenue)\n",
    "    lower = revenue.quantile(0.025)\n",
    "    higher = revenue.quantile(0.975)\n",
    "    mean_revenue = int(sum(revenue) / len(revenue))\n",
    "    count = 0\n",
    "    for a in revenue:\n",
    "        if a < 0:\n",
    "            count += 1\n",
    "    risk = count/len(revenue) * 100\n",
    "\n",
    "    return (lower, higher, mean_revenue, risk)\n",
    "\n",
    "print(conf_interval_and_risk(predictions_1, target_valid_1))\n",
    "print(conf_interval_and_risk(predictions_2, target_valid_2))\n",
    "print(conf_interval_and_risk(predictions_3, target_valid_3))"
   ]
  },
  {
   "cell_type": "markdown",
   "metadata": {},
   "source": [
    "По получившимся данным, единственным регионом с риском получить убытки ниже 2,5% оказался 2 регион с риском, равным 0.7%. При этом средняя предсказанная прибыль равна примерно 461 миллиону рублей, что является наибольшим значением для 3 регионов.. Кроме того, в доверительном 95-% интервале даже минимальное значение прибыли положительное, и это единственный такой регион из всех. Исходя из этих данных, очевидно, что наиболее перспективным для разработки является 2 регион."
   ]
  },
  {
   "cell_type": "markdown",
   "metadata": {},
   "source": [
    "<div style=\"background: #cceeaa; padding: 5px; border: 1px solid green; border-radius: 5px;\">\n",
    "\n",
    "Очень рекомендую посмотреть видео от Глеба Михайлова!)<br>\n",
    "**[Линейная Регрессия для Дата Саентиста](https://www.youtube.com/watch?v=QZJ94igWVxQ&t=19s)**     <br> \n",
    "    \n",
    "**[Вот здесь есть отличное объяснение с примером по мультиколлинеарности.](https://habr.com/ru/company/akbarsdigital/blog/592493/)** <br>\n",
    "    \n",
    "**[И здесь интересная статься - коротко о мультиколлинеарности и что с этим делать.](https://medium.com/analytics-vidhya/removing-multi-collinearity-for-linear-and-logistic-regression-f1fa744f3666)** <br>   \n",
    "   \n",
    "**[Для лучшего понимания статистических методов очень рекомендую посмотреть короткие видео-лекции Карпова на степике](https://stepik.org/lesson/8095/step/1?unit=1371)**    <br>\n",
    "    \n"
   ]
  },
  {
   "cell_type": "markdown",
   "metadata": {},
   "source": [
    "## Чек-лист готовности проекта"
   ]
  },
  {
   "cell_type": "markdown",
   "metadata": {},
   "source": [
    "Поставьте 'x' в выполненных пунктах. Далее нажмите Shift+Enter."
   ]
  },
  {
   "cell_type": "markdown",
   "metadata": {},
   "source": [
    "- [x]  Jupyter Notebook открыт\n",
    "- [x]  Весь код выполняется без ошибок\n",
    "- [x]  Ячейки с кодом расположены в порядке исполнения\n",
    "- [x]  Выполнен шаг 1: данные подготовлены\n",
    "- [x]  Выполнен шаг 2: модели обучены и проверены\n",
    "    - [x]  Данные корректно разбиты на обучающую и валидационную выборки\n",
    "    - [x]  Модели обучены, предсказания сделаны\n",
    "    - [x]  Предсказания и правильные ответы на валидационной выборке сохранены\n",
    "    - [x]  На экране напечатаны результаты\n",
    "    - [x]  Сделаны выводы\n",
    "- [x]  Выполнен шаг 3: проведена подготовка к расчёту прибыли\n",
    "    - [x]  Для всех ключевых значений созданы константы Python\n",
    "    - [x]  Посчитано минимальное среднее количество продукта в месторождениях региона, достаточное для разработки\n",
    "    - [x]  По предыдущему пункту сделаны выводы\n",
    "    - [x]  Написана функция расчёта прибыли\n",
    "- [x]  Выполнен шаг 4: посчитаны риски и прибыль\n",
    "    - [x]  Проведена процедура *Bootstrap*\n",
    "    - [x]  Все параметры бутстрепа соответствуют условию\n",
    "    - [x]  Найдены все нужные величины\n",
    "    - [x]  Предложен регион для разработки месторождения\n",
    "    - [x]  Выбор региона обоснован"
   ]
  }
 ],
 "metadata": {
  "ExecuteTimeLog": [
   {
    "duration": 1060,
    "start_time": "2022-12-01T10:32:26.908Z"
   },
   {
    "duration": 75,
    "start_time": "2022-12-01T10:33:23.753Z"
   },
   {
    "duration": 615,
    "start_time": "2022-12-01T10:33:41.656Z"
   },
   {
    "duration": 1289,
    "start_time": "2022-12-01T10:34:15.144Z"
   },
   {
    "duration": 391,
    "start_time": "2022-12-01T10:38:10.067Z"
   },
   {
    "duration": 374,
    "start_time": "2022-12-01T10:38:42.255Z"
   },
   {
    "duration": 472,
    "start_time": "2022-12-01T10:44:23.182Z"
   },
   {
    "duration": 402,
    "start_time": "2022-12-01T10:44:50.758Z"
   },
   {
    "duration": 9,
    "start_time": "2022-12-01T10:47:20.270Z"
   },
   {
    "duration": 13,
    "start_time": "2022-12-01T10:47:53.709Z"
   },
   {
    "duration": 28,
    "start_time": "2022-12-01T10:49:36.727Z"
   },
   {
    "duration": 21,
    "start_time": "2022-12-01T10:49:58.701Z"
   },
   {
    "duration": 23,
    "start_time": "2022-12-01T10:50:17.590Z"
   },
   {
    "duration": 392,
    "start_time": "2022-12-01T10:50:33.539Z"
   },
   {
    "duration": 369,
    "start_time": "2022-12-01T10:50:38.514Z"
   },
   {
    "duration": 22,
    "start_time": "2022-12-01T10:51:10.869Z"
   },
   {
    "duration": 1342,
    "start_time": "2022-12-01T10:51:22.581Z"
   },
   {
    "duration": 434,
    "start_time": "2022-12-01T10:51:23.925Z"
   },
   {
    "duration": 111,
    "start_time": "2022-12-01T10:51:24.361Z"
   },
   {
    "duration": 4,
    "start_time": "2022-12-01T10:52:39.525Z"
   },
   {
    "duration": 28,
    "start_time": "2022-12-01T10:52:42.713Z"
   },
   {
    "duration": 23,
    "start_time": "2022-12-01T10:53:09.841Z"
   },
   {
    "duration": 1310,
    "start_time": "2022-12-01T10:53:14.668Z"
   },
   {
    "duration": 389,
    "start_time": "2022-12-01T10:53:15.980Z"
   },
   {
    "duration": 24,
    "start_time": "2022-12-01T10:53:16.371Z"
   },
   {
    "duration": 28,
    "start_time": "2022-12-01T10:53:27.521Z"
   },
   {
    "duration": 27,
    "start_time": "2022-12-01T10:53:32.381Z"
   },
   {
    "duration": 30,
    "start_time": "2022-12-01T10:53:40.777Z"
   },
   {
    "duration": 31,
    "start_time": "2022-12-01T10:53:58.465Z"
   },
   {
    "duration": 21,
    "start_time": "2022-12-01T10:55:28.801Z"
   },
   {
    "duration": 31,
    "start_time": "2022-12-01T10:55:43.729Z"
   },
   {
    "duration": 113,
    "start_time": "2022-12-01T10:57:05.656Z"
   },
   {
    "duration": 24,
    "start_time": "2022-12-01T10:58:21.405Z"
   },
   {
    "duration": 22,
    "start_time": "2022-12-01T10:59:28.173Z"
   },
   {
    "duration": 10,
    "start_time": "2022-12-01T11:00:13.792Z"
   },
   {
    "duration": 420,
    "start_time": "2022-12-01T11:01:35.872Z"
   },
   {
    "duration": 408,
    "start_time": "2022-12-01T11:01:55.861Z"
   },
   {
    "duration": 397,
    "start_time": "2022-12-01T11:02:11.156Z"
   },
   {
    "duration": 9,
    "start_time": "2022-12-01T11:04:14.831Z"
   },
   {
    "duration": 3,
    "start_time": "2022-12-01T11:04:18.508Z"
   },
   {
    "duration": 1370,
    "start_time": "2022-12-01T11:04:24.105Z"
   },
   {
    "duration": 400,
    "start_time": "2022-12-01T11:04:25.477Z"
   },
   {
    "duration": 0,
    "start_time": "2022-12-01T11:04:25.878Z"
   },
   {
    "duration": 444,
    "start_time": "2022-12-01T11:04:51.009Z"
   },
   {
    "duration": 9,
    "start_time": "2022-12-01T11:04:55.097Z"
   },
   {
    "duration": 42,
    "start_time": "2022-12-01T11:06:11.636Z"
   },
   {
    "duration": 1335,
    "start_time": "2022-12-01T11:06:33.696Z"
   },
   {
    "duration": 433,
    "start_time": "2022-12-01T11:06:35.033Z"
   },
   {
    "duration": 42,
    "start_time": "2022-12-01T11:06:35.468Z"
   },
   {
    "duration": 287,
    "start_time": "2022-12-01T11:12:22.676Z"
   },
   {
    "duration": 91,
    "start_time": "2022-12-01T11:12:31.888Z"
   },
   {
    "duration": 86,
    "start_time": "2022-12-01T11:14:02.965Z"
   },
   {
    "duration": 54,
    "start_time": "2022-12-01T11:14:07.827Z"
   },
   {
    "duration": 72,
    "start_time": "2022-12-01T11:14:12.107Z"
   },
   {
    "duration": 82,
    "start_time": "2022-12-01T11:14:23.696Z"
   },
   {
    "duration": 82,
    "start_time": "2022-12-01T11:14:28.699Z"
   },
   {
    "duration": 72,
    "start_time": "2022-12-01T11:15:36.115Z"
   },
   {
    "duration": 54,
    "start_time": "2022-12-01T11:15:40.526Z"
   },
   {
    "duration": 58,
    "start_time": "2022-12-01T11:15:56.927Z"
   },
   {
    "duration": 99,
    "start_time": "2022-12-01T11:16:06.579Z"
   },
   {
    "duration": 3,
    "start_time": "2022-12-01T11:23:38.054Z"
   },
   {
    "duration": 3,
    "start_time": "2022-12-01T11:24:45.666Z"
   },
   {
    "duration": 4,
    "start_time": "2022-12-01T11:26:38.914Z"
   },
   {
    "duration": 4,
    "start_time": "2022-12-01T11:26:51.146Z"
   },
   {
    "duration": 9,
    "start_time": "2022-12-02T10:58:25.644Z"
   },
   {
    "duration": 44,
    "start_time": "2022-12-02T11:00:21.392Z"
   },
   {
    "duration": 1551,
    "start_time": "2022-12-02T11:00:38.560Z"
   },
   {
    "duration": 2050,
    "start_time": "2022-12-02T11:00:40.113Z"
   },
   {
    "duration": 348,
    "start_time": "2022-12-02T11:00:42.165Z"
   },
   {
    "duration": 0,
    "start_time": "2022-12-02T11:00:42.515Z"
   },
   {
    "duration": 0,
    "start_time": "2022-12-02T11:00:42.517Z"
   },
   {
    "duration": 0,
    "start_time": "2022-12-02T11:00:42.518Z"
   },
   {
    "duration": 0,
    "start_time": "2022-12-02T11:00:42.520Z"
   },
   {
    "duration": 1293,
    "start_time": "2022-12-02T11:02:13.691Z"
   },
   {
    "duration": 411,
    "start_time": "2022-12-02T11:02:14.986Z"
   },
   {
    "duration": 83,
    "start_time": "2022-12-02T11:02:15.398Z"
   },
   {
    "duration": 121,
    "start_time": "2022-12-02T11:02:15.483Z"
   },
   {
    "duration": 200,
    "start_time": "2022-12-02T11:02:15.678Z"
   },
   {
    "duration": 4,
    "start_time": "2022-12-02T11:02:15.881Z"
   },
   {
    "duration": 6,
    "start_time": "2022-12-02T11:02:15.979Z"
   },
   {
    "duration": 48,
    "start_time": "2022-12-02T11:03:57.608Z"
   },
   {
    "duration": 50,
    "start_time": "2022-12-02T11:05:03.948Z"
   },
   {
    "duration": 96,
    "start_time": "2022-12-02T11:06:18.075Z"
   },
   {
    "duration": 47,
    "start_time": "2022-12-02T11:06:23.631Z"
   },
   {
    "duration": 24,
    "start_time": "2022-12-02T11:07:10.708Z"
   },
   {
    "duration": 25,
    "start_time": "2022-12-02T11:08:11.731Z"
   },
   {
    "duration": 23,
    "start_time": "2022-12-02T11:08:28.526Z"
   },
   {
    "duration": 25,
    "start_time": "2022-12-02T11:08:39.027Z"
   },
   {
    "duration": 22,
    "start_time": "2022-12-02T11:10:03.546Z"
   },
   {
    "duration": 9,
    "start_time": "2022-12-02T11:10:49.679Z"
   },
   {
    "duration": 16,
    "start_time": "2022-12-02T11:11:30.408Z"
   },
   {
    "duration": 16,
    "start_time": "2022-12-02T11:14:57.830Z"
   },
   {
    "duration": 25,
    "start_time": "2022-12-02T11:15:07.999Z"
   },
   {
    "duration": 22,
    "start_time": "2022-12-02T11:15:11.810Z"
   },
   {
    "duration": 4,
    "start_time": "2022-12-02T11:15:21.823Z"
   },
   {
    "duration": 19,
    "start_time": "2022-12-02T11:15:23.766Z"
   },
   {
    "duration": 16,
    "start_time": "2022-12-02T11:15:36.914Z"
   },
   {
    "duration": 15,
    "start_time": "2022-12-02T11:15:46.950Z"
   },
   {
    "duration": 22,
    "start_time": "2022-12-02T11:15:54.566Z"
   },
   {
    "duration": 22,
    "start_time": "2022-12-02T11:16:02.562Z"
   },
   {
    "duration": 1388,
    "start_time": "2022-12-02T11:16:10.491Z"
   },
   {
    "duration": 480,
    "start_time": "2022-12-02T11:16:11.881Z"
   },
   {
    "duration": 119,
    "start_time": "2022-12-02T11:16:12.363Z"
   },
   {
    "duration": 195,
    "start_time": "2022-12-02T11:16:12.485Z"
   },
   {
    "duration": 138,
    "start_time": "2022-12-02T11:16:12.685Z"
   },
   {
    "duration": 99,
    "start_time": "2022-12-02T11:16:12.879Z"
   },
   {
    "duration": 133,
    "start_time": "2022-12-02T11:16:12.980Z"
   },
   {
    "duration": 3,
    "start_time": "2022-12-02T11:16:23.515Z"
   },
   {
    "duration": 23,
    "start_time": "2022-12-02T11:16:36.531Z"
   },
   {
    "duration": 18,
    "start_time": "2022-12-02T11:17:06.142Z"
   },
   {
    "duration": 15,
    "start_time": "2022-12-02T11:17:46.291Z"
   },
   {
    "duration": 14,
    "start_time": "2022-12-02T11:18:15.247Z"
   },
   {
    "duration": 24,
    "start_time": "2022-12-02T11:18:40.422Z"
   },
   {
    "duration": 15,
    "start_time": "2022-12-02T11:18:53.778Z"
   },
   {
    "duration": 15,
    "start_time": "2022-12-02T11:21:35.106Z"
   },
   {
    "duration": 26,
    "start_time": "2022-12-02T11:21:49.174Z"
   },
   {
    "duration": 14,
    "start_time": "2022-12-02T11:22:32.322Z"
   },
   {
    "duration": 12,
    "start_time": "2022-12-02T11:23:00.834Z"
   },
   {
    "duration": 12,
    "start_time": "2022-12-02T11:23:27.446Z"
   },
   {
    "duration": 12,
    "start_time": "2022-12-02T11:23:38.154Z"
   },
   {
    "duration": 11,
    "start_time": "2022-12-02T11:23:55.182Z"
   },
   {
    "duration": 13,
    "start_time": "2022-12-02T11:27:45.314Z"
   },
   {
    "duration": 24,
    "start_time": "2022-12-02T11:36:22.198Z"
   },
   {
    "duration": 22,
    "start_time": "2022-12-02T11:37:36.057Z"
   },
   {
    "duration": 19,
    "start_time": "2022-12-02T11:37:48.908Z"
   },
   {
    "duration": 18,
    "start_time": "2022-12-02T11:38:13.805Z"
   },
   {
    "duration": 17,
    "start_time": "2022-12-02T11:38:54.191Z"
   },
   {
    "duration": 17,
    "start_time": "2022-12-02T11:41:11.890Z"
   },
   {
    "duration": 35,
    "start_time": "2022-12-02T11:48:48.866Z"
   },
   {
    "duration": 70,
    "start_time": "2022-12-02T11:49:11.410Z"
   },
   {
    "duration": 61,
    "start_time": "2022-12-02T11:49:14.726Z"
   },
   {
    "duration": 222,
    "start_time": "2022-12-02T11:49:24.757Z"
   },
   {
    "duration": 15,
    "start_time": "2022-12-02T11:51:53.629Z"
   },
   {
    "duration": 72,
    "start_time": "2022-12-02T11:52:59.922Z"
   },
   {
    "duration": 12,
    "start_time": "2022-12-02T11:53:07.402Z"
   },
   {
    "duration": 20,
    "start_time": "2022-12-02T11:53:26.282Z"
   },
   {
    "duration": 16,
    "start_time": "2022-12-02T11:53:32.990Z"
   },
   {
    "duration": 1307,
    "start_time": "2022-12-02T11:53:39.391Z"
   },
   {
    "duration": 454,
    "start_time": "2022-12-02T11:53:40.700Z"
   },
   {
    "duration": 52,
    "start_time": "2022-12-02T11:53:41.156Z"
   },
   {
    "duration": 193,
    "start_time": "2022-12-02T11:53:41.210Z"
   },
   {
    "duration": 192,
    "start_time": "2022-12-02T11:53:41.405Z"
   },
   {
    "duration": 85,
    "start_time": "2022-12-02T11:53:41.599Z"
   },
   {
    "duration": 195,
    "start_time": "2022-12-02T11:53:41.686Z"
   },
   {
    "duration": 15,
    "start_time": "2022-12-02T11:53:55.395Z"
   },
   {
    "duration": 9,
    "start_time": "2022-12-02T11:54:45.399Z"
   },
   {
    "duration": 8,
    "start_time": "2022-12-02T11:54:47.495Z"
   },
   {
    "duration": 10,
    "start_time": "2022-12-02T11:55:07.003Z"
   },
   {
    "duration": 18,
    "start_time": "2022-12-02T11:55:33.127Z"
   },
   {
    "duration": 18,
    "start_time": "2022-12-02T11:58:36.435Z"
   },
   {
    "duration": 6,
    "start_time": "2022-12-02T12:04:32.998Z"
   },
   {
    "duration": 29,
    "start_time": "2022-12-02T12:05:18.579Z"
   },
   {
    "duration": 24,
    "start_time": "2022-12-02T12:06:09.983Z"
   },
   {
    "duration": 5,
    "start_time": "2022-12-02T12:06:32.811Z"
   },
   {
    "duration": 22,
    "start_time": "2022-12-02T12:06:37.070Z"
   },
   {
    "duration": 24,
    "start_time": "2022-12-02T12:08:13.418Z"
   },
   {
    "duration": 23,
    "start_time": "2022-12-02T12:11:01.890Z"
   },
   {
    "duration": 1596,
    "start_time": "2022-12-02T12:11:09.874Z"
   },
   {
    "duration": 572,
    "start_time": "2022-12-02T12:11:11.473Z"
   },
   {
    "duration": 139,
    "start_time": "2022-12-02T12:11:12.047Z"
   },
   {
    "duration": 194,
    "start_time": "2022-12-02T12:11:12.190Z"
   },
   {
    "duration": 192,
    "start_time": "2022-12-02T12:11:12.387Z"
   },
   {
    "duration": 5,
    "start_time": "2022-12-02T12:11:12.583Z"
   },
   {
    "duration": 296,
    "start_time": "2022-12-02T12:11:12.591Z"
   },
   {
    "duration": 157,
    "start_time": "2022-12-02T12:11:12.890Z"
   },
   {
    "duration": 26,
    "start_time": "2022-12-02T12:12:52.717Z"
   },
   {
    "duration": 27,
    "start_time": "2022-12-02T12:13:19.409Z"
   },
   {
    "duration": 25,
    "start_time": "2022-12-02T12:13:34.485Z"
   },
   {
    "duration": 13,
    "start_time": "2022-12-02T12:13:59.645Z"
   },
   {
    "duration": 27,
    "start_time": "2022-12-02T12:14:07.165Z"
   },
   {
    "duration": 25,
    "start_time": "2022-12-02T12:14:55.608Z"
   },
   {
    "duration": 23,
    "start_time": "2022-12-02T12:15:34.445Z"
   },
   {
    "duration": 23,
    "start_time": "2022-12-02T12:16:01.737Z"
   },
   {
    "duration": 24,
    "start_time": "2022-12-02T12:16:36.900Z"
   },
   {
    "duration": 27,
    "start_time": "2022-12-02T12:17:07.184Z"
   },
   {
    "duration": 26,
    "start_time": "2022-12-02T12:17:55.696Z"
   },
   {
    "duration": 28,
    "start_time": "2022-12-02T12:18:13.528Z"
   },
   {
    "duration": 29,
    "start_time": "2022-12-02T12:19:50.364Z"
   },
   {
    "duration": 30,
    "start_time": "2022-12-02T12:20:07.809Z"
   },
   {
    "duration": 28,
    "start_time": "2022-12-02T12:20:20.544Z"
   },
   {
    "duration": 28,
    "start_time": "2022-12-02T12:20:47.744Z"
   },
   {
    "duration": 1341,
    "start_time": "2022-12-02T12:20:59.193Z"
   },
   {
    "duration": 454,
    "start_time": "2022-12-02T12:21:00.536Z"
   },
   {
    "duration": 87,
    "start_time": "2022-12-02T12:21:00.992Z"
   },
   {
    "duration": 139,
    "start_time": "2022-12-02T12:21:01.081Z"
   },
   {
    "duration": 198,
    "start_time": "2022-12-02T12:21:01.279Z"
   },
   {
    "duration": 10,
    "start_time": "2022-12-02T12:21:01.480Z"
   },
   {
    "duration": 115,
    "start_time": "2022-12-02T12:21:01.492Z"
   },
   {
    "duration": 143,
    "start_time": "2022-12-02T12:21:01.609Z"
   },
   {
    "duration": 18,
    "start_time": "2022-12-02T12:21:52.708Z"
   },
   {
    "duration": 18,
    "start_time": "2022-12-02T12:21:56.016Z"
   },
   {
    "duration": 18,
    "start_time": "2022-12-02T12:23:02.088Z"
   },
   {
    "duration": 4682,
    "start_time": "2022-12-02T12:23:07.064Z"
   },
   {
    "duration": 3467,
    "start_time": "2022-12-02T12:23:14.744Z"
   },
   {
    "duration": 1020,
    "start_time": "2022-12-02T12:23:24.424Z"
   },
   {
    "duration": 978,
    "start_time": "2022-12-02T12:24:07.864Z"
   },
   {
    "duration": 979,
    "start_time": "2022-12-02T12:24:46.512Z"
   },
   {
    "duration": 1124,
    "start_time": "2022-12-02T12:25:03.847Z"
   },
   {
    "duration": 3028,
    "start_time": "2022-12-02T12:25:55.924Z"
   },
   {
    "duration": 3040,
    "start_time": "2022-12-05T11:18:51.428Z"
   },
   {
    "duration": 3094,
    "start_time": "2022-12-05T11:19:09.941Z"
   },
   {
    "duration": 3023,
    "start_time": "2022-12-05T11:28:28.958Z"
   },
   {
    "duration": 2967,
    "start_time": "2022-12-05T11:30:06.075Z"
   },
   {
    "duration": 3071,
    "start_time": "2022-12-05T11:31:42.877Z"
   },
   {
    "duration": 3277,
    "start_time": "2022-12-05T11:32:14.545Z"
   },
   {
    "duration": 3034,
    "start_time": "2022-12-05T12:01:43.960Z"
   },
   {
    "duration": 1948,
    "start_time": "2022-12-05T15:42:38.768Z"
   },
   {
    "duration": 456,
    "start_time": "2022-12-05T15:42:40.718Z"
   },
   {
    "duration": 78,
    "start_time": "2022-12-05T15:42:41.175Z"
   },
   {
    "duration": 196,
    "start_time": "2022-12-05T15:42:41.256Z"
   },
   {
    "duration": 194,
    "start_time": "2022-12-05T15:42:41.457Z"
   },
   {
    "duration": 5,
    "start_time": "2022-12-05T15:42:41.654Z"
   },
   {
    "duration": 118,
    "start_time": "2022-12-05T15:42:41.662Z"
   },
   {
    "duration": 3216,
    "start_time": "2022-12-05T15:42:41.782Z"
   },
   {
    "duration": 5,
    "start_time": "2022-12-05T15:50:29.198Z"
   },
   {
    "duration": 1832,
    "start_time": "2022-12-05T15:51:17.480Z"
   },
   {
    "duration": 502,
    "start_time": "2022-12-05T15:51:19.315Z"
   },
   {
    "duration": 52,
    "start_time": "2022-12-05T15:51:19.819Z"
   },
   {
    "duration": 206,
    "start_time": "2022-12-05T15:51:19.952Z"
   },
   {
    "duration": 190,
    "start_time": "2022-12-05T15:51:20.161Z"
   },
   {
    "duration": 6,
    "start_time": "2022-12-05T15:51:20.353Z"
   },
   {
    "duration": 123,
    "start_time": "2022-12-05T15:51:20.361Z"
   },
   {
    "duration": 3107,
    "start_time": "2022-12-05T15:51:20.485Z"
   }
  ],
  "kernelspec": {
   "display_name": "Python 3 (ipykernel)",
   "language": "python",
   "name": "python3"
  },
  "language_info": {
   "codemirror_mode": {
    "name": "ipython",
    "version": 3
   },
   "file_extension": ".py",
   "mimetype": "text/x-python",
   "name": "python",
   "nbconvert_exporter": "python",
   "pygments_lexer": "ipython3",
   "version": "3.9.5"
  },
  "toc": {
   "base_numbering": 1,
   "nav_menu": {},
   "number_sections": true,
   "sideBar": true,
   "skip_h1_title": true,
   "title_cell": "Table of Contents",
   "title_sidebar": "Contents",
   "toc_cell": false,
   "toc_position": {},
   "toc_section_display": true,
   "toc_window_display": true
  }
 },
 "nbformat": 4,
 "nbformat_minor": 2
}

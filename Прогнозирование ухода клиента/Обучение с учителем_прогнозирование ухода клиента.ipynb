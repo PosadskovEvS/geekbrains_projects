{
 "cells": [
  {
   "cell_type": "markdown",
   "metadata": {},
   "source": [
    "# Отток клиентов"
   ]
  },
  {
   "cell_type": "markdown",
   "metadata": {},
   "source": [
    "Из «Бета-Банка» стали уходить клиенты. Каждый месяц. Немного, но заметно. Банковские маркетологи посчитали: сохранять текущих клиентов дешевле, чем привлекать новых.\n",
    "\n",
    "Нужно спрогнозировать, уйдёт клиент из банка в ближайшее время или нет. Вам предоставлены исторические данные о поведении клиентов и расторжении договоров с банком. \n",
    "\n",
    "Постройте модель с предельно большим значением *F1*-меры. Чтобы сдать проект успешно, нужно довести метрику до 0.59. Проверьте *F1*-меру на тестовой выборке самостоятельно.\n",
    "\n",
    "Дополнительно измеряйте *AUC-ROC*, сравнивайте её значение с *F1*-мерой.\n",
    "\n",
    "Источник данных: [https://www.kaggle.com/barelydedicated/bank-customer-churn-modeling](https://www.kaggle.com/barelydedicated/bank-customer-churn-modeling)"
   ]
  },
  {
   "cell_type": "markdown",
   "metadata": {},
   "source": [
    "## Подготовка данных"
   ]
  },
  {
   "cell_type": "markdown",
   "metadata": {},
   "source": [
    "Подгружаем необходимые бибилиотеки."
   ]
  },
  {
   "cell_type": "code",
   "execution_count": 1,
   "metadata": {},
   "outputs": [],
   "source": [
    "import pandas as pd\n",
    "from sklearn.model_selection import train_test_split\n",
    "from sklearn.tree import DecisionTreeClassifier\n",
    "from sklearn.ensemble import RandomForestClassifier\n",
    "from sklearn.linear_model import LogisticRegression \n",
    "from sklearn.preprocessing import StandardScaler\n",
    "from sklearn.metrics import accuracy_score\n",
    "from sklearn.metrics import confusion_matrix\n",
    "from sklearn.metrics import recall_score\n",
    "from sklearn.metrics import precision_score\n",
    "from sklearn.metrics import f1_score\n",
    "from sklearn.metrics import roc_auc_score\n",
    "from sklearn.metrics import roc_curve\n",
    "from sklearn.utils import shuffle"
   ]
  },
  {
   "cell_type": "markdown",
   "metadata": {},
   "source": [
    "Считываем файл. Изучаем его характеристики. Видно, что столбец 'RowNumber' просто дублирует номер строки, его можно удалить. Столбец 'CustomerId' служит идентификатором. Проверяем его на дубликаты, убеждаемся, что их нет и удаляем его. Также убираем столбец с фамилиями. Видно, что в столбце 'Tenure' есть пустые значения. Столбец хранит данные о том, сколько лет пользователь является клиентом. Заполним пропуски заглушками (-1), чтобы не потерять эти данные, так как их около 10% от всех данных. Также видно, что в столбце с названием страны может быть всего 3 разные категории."
   ]
  },
  {
   "cell_type": "code",
   "execution_count": 2,
   "metadata": {},
   "outputs": [
    {
     "data": {
      "text/html": [
       "<div>\n",
       "<style scoped>\n",
       "    .dataframe tbody tr th:only-of-type {\n",
       "        vertical-align: middle;\n",
       "    }\n",
       "\n",
       "    .dataframe tbody tr th {\n",
       "        vertical-align: top;\n",
       "    }\n",
       "\n",
       "    .dataframe thead th {\n",
       "        text-align: right;\n",
       "    }\n",
       "</style>\n",
       "<table border=\"1\" class=\"dataframe\">\n",
       "  <thead>\n",
       "    <tr style=\"text-align: right;\">\n",
       "      <th></th>\n",
       "      <th>RowNumber</th>\n",
       "      <th>CustomerId</th>\n",
       "      <th>Surname</th>\n",
       "      <th>CreditScore</th>\n",
       "      <th>Geography</th>\n",
       "      <th>Gender</th>\n",
       "      <th>Age</th>\n",
       "      <th>Tenure</th>\n",
       "      <th>Balance</th>\n",
       "      <th>NumOfProducts</th>\n",
       "      <th>HasCrCard</th>\n",
       "      <th>IsActiveMember</th>\n",
       "      <th>EstimatedSalary</th>\n",
       "      <th>Exited</th>\n",
       "    </tr>\n",
       "  </thead>\n",
       "  <tbody>\n",
       "    <tr>\n",
       "      <th>0</th>\n",
       "      <td>1</td>\n",
       "      <td>15634602</td>\n",
       "      <td>Hargrave</td>\n",
       "      <td>619</td>\n",
       "      <td>France</td>\n",
       "      <td>Female</td>\n",
       "      <td>42</td>\n",
       "      <td>2.0</td>\n",
       "      <td>0.00</td>\n",
       "      <td>1</td>\n",
       "      <td>1</td>\n",
       "      <td>1</td>\n",
       "      <td>101348.88</td>\n",
       "      <td>1</td>\n",
       "    </tr>\n",
       "    <tr>\n",
       "      <th>1</th>\n",
       "      <td>2</td>\n",
       "      <td>15647311</td>\n",
       "      <td>Hill</td>\n",
       "      <td>608</td>\n",
       "      <td>Spain</td>\n",
       "      <td>Female</td>\n",
       "      <td>41</td>\n",
       "      <td>1.0</td>\n",
       "      <td>83807.86</td>\n",
       "      <td>1</td>\n",
       "      <td>0</td>\n",
       "      <td>1</td>\n",
       "      <td>112542.58</td>\n",
       "      <td>0</td>\n",
       "    </tr>\n",
       "    <tr>\n",
       "      <th>2</th>\n",
       "      <td>3</td>\n",
       "      <td>15619304</td>\n",
       "      <td>Onio</td>\n",
       "      <td>502</td>\n",
       "      <td>France</td>\n",
       "      <td>Female</td>\n",
       "      <td>42</td>\n",
       "      <td>8.0</td>\n",
       "      <td>159660.80</td>\n",
       "      <td>3</td>\n",
       "      <td>1</td>\n",
       "      <td>0</td>\n",
       "      <td>113931.57</td>\n",
       "      <td>1</td>\n",
       "    </tr>\n",
       "    <tr>\n",
       "      <th>3</th>\n",
       "      <td>4</td>\n",
       "      <td>15701354</td>\n",
       "      <td>Boni</td>\n",
       "      <td>699</td>\n",
       "      <td>France</td>\n",
       "      <td>Female</td>\n",
       "      <td>39</td>\n",
       "      <td>1.0</td>\n",
       "      <td>0.00</td>\n",
       "      <td>2</td>\n",
       "      <td>0</td>\n",
       "      <td>0</td>\n",
       "      <td>93826.63</td>\n",
       "      <td>0</td>\n",
       "    </tr>\n",
       "    <tr>\n",
       "      <th>4</th>\n",
       "      <td>5</td>\n",
       "      <td>15737888</td>\n",
       "      <td>Mitchell</td>\n",
       "      <td>850</td>\n",
       "      <td>Spain</td>\n",
       "      <td>Female</td>\n",
       "      <td>43</td>\n",
       "      <td>2.0</td>\n",
       "      <td>125510.82</td>\n",
       "      <td>1</td>\n",
       "      <td>1</td>\n",
       "      <td>1</td>\n",
       "      <td>79084.10</td>\n",
       "      <td>0</td>\n",
       "    </tr>\n",
       "  </tbody>\n",
       "</table>\n",
       "</div>"
      ],
      "text/plain": [
       "   RowNumber  CustomerId   Surname  CreditScore Geography  Gender  Age  \\\n",
       "0          1    15634602  Hargrave          619    France  Female   42   \n",
       "1          2    15647311      Hill          608     Spain  Female   41   \n",
       "2          3    15619304      Onio          502    France  Female   42   \n",
       "3          4    15701354      Boni          699    France  Female   39   \n",
       "4          5    15737888  Mitchell          850     Spain  Female   43   \n",
       "\n",
       "   Tenure    Balance  NumOfProducts  HasCrCard  IsActiveMember  \\\n",
       "0     2.0       0.00              1          1               1   \n",
       "1     1.0   83807.86              1          0               1   \n",
       "2     8.0  159660.80              3          1               0   \n",
       "3     1.0       0.00              2          0               0   \n",
       "4     2.0  125510.82              1          1               1   \n",
       "\n",
       "   EstimatedSalary  Exited  \n",
       "0        101348.88       1  \n",
       "1        112542.58       0  \n",
       "2        113931.57       1  \n",
       "3         93826.63       0  \n",
       "4         79084.10       0  "
      ]
     },
     "metadata": {},
     "output_type": "display_data"
    },
    {
     "name": "stdout",
     "output_type": "stream",
     "text": [
      "<class 'pandas.core.frame.DataFrame'>\n",
      "RangeIndex: 10000 entries, 0 to 9999\n",
      "Data columns (total 14 columns):\n",
      " #   Column           Non-Null Count  Dtype  \n",
      "---  ------           --------------  -----  \n",
      " 0   RowNumber        10000 non-null  int64  \n",
      " 1   CustomerId       10000 non-null  int64  \n",
      " 2   Surname          10000 non-null  object \n",
      " 3   CreditScore      10000 non-null  int64  \n",
      " 4   Geography        10000 non-null  object \n",
      " 5   Gender           10000 non-null  object \n",
      " 6   Age              10000 non-null  int64  \n",
      " 7   Tenure           9091 non-null   float64\n",
      " 8   Balance          10000 non-null  float64\n",
      " 9   NumOfProducts    10000 non-null  int64  \n",
      " 10  HasCrCard        10000 non-null  int64  \n",
      " 11  IsActiveMember   10000 non-null  int64  \n",
      " 12  EstimatedSalary  10000 non-null  float64\n",
      " 13  Exited           10000 non-null  int64  \n",
      "dtypes: float64(3), int64(8), object(3)\n",
      "memory usage: 1.1+ MB\n",
      "['France' 'Spain' 'Germany']\n"
     ]
    }
   ],
   "source": [
    "data = pd.read_csv('/datasets/Churn.csv')\n",
    "display(data.head()) \n",
    "data.info()\n",
    "data.shape\n",
    "data = data.drop('RowNumber', axis=1)\n",
    "data['CustomerId'].value_counts().sum()\n",
    "data = data.drop('CustomerId', axis=1)\n",
    "data = data.drop('Surname', axis=1)\n",
    "\n",
    "print(data['Geography'].unique())"
   ]
  },
  {
   "cell_type": "markdown",
   "metadata": {},
   "source": [
    "<span style=\"color:blue\">Заполним пустные значения в столбце Tenure нулями, предположив, что это новые клиенты.</span>"
   ]
  },
  {
   "cell_type": "code",
   "execution_count": 3,
   "metadata": {},
   "outputs": [],
   "source": [
    "data['Tenure'] = data['Tenure'].fillna(0)"
   ]
  },
  {
   "cell_type": "markdown",
   "metadata": {},
   "source": [
    "Проверяем обновленную таблицу. Новый размер 10000 на 11"
   ]
  },
  {
   "cell_type": "code",
   "execution_count": 4,
   "metadata": {},
   "outputs": [
    {
     "data": {
      "text/html": [
       "<div>\n",
       "<style scoped>\n",
       "    .dataframe tbody tr th:only-of-type {\n",
       "        vertical-align: middle;\n",
       "    }\n",
       "\n",
       "    .dataframe tbody tr th {\n",
       "        vertical-align: top;\n",
       "    }\n",
       "\n",
       "    .dataframe thead th {\n",
       "        text-align: right;\n",
       "    }\n",
       "</style>\n",
       "<table border=\"1\" class=\"dataframe\">\n",
       "  <thead>\n",
       "    <tr style=\"text-align: right;\">\n",
       "      <th></th>\n",
       "      <th>CreditScore</th>\n",
       "      <th>Geography</th>\n",
       "      <th>Gender</th>\n",
       "      <th>Age</th>\n",
       "      <th>Tenure</th>\n",
       "      <th>Balance</th>\n",
       "      <th>NumOfProducts</th>\n",
       "      <th>HasCrCard</th>\n",
       "      <th>IsActiveMember</th>\n",
       "      <th>EstimatedSalary</th>\n",
       "      <th>Exited</th>\n",
       "    </tr>\n",
       "  </thead>\n",
       "  <tbody>\n",
       "    <tr>\n",
       "      <th>0</th>\n",
       "      <td>619</td>\n",
       "      <td>France</td>\n",
       "      <td>Female</td>\n",
       "      <td>42</td>\n",
       "      <td>2.0</td>\n",
       "      <td>0.00</td>\n",
       "      <td>1</td>\n",
       "      <td>1</td>\n",
       "      <td>1</td>\n",
       "      <td>101348.88</td>\n",
       "      <td>1</td>\n",
       "    </tr>\n",
       "    <tr>\n",
       "      <th>1</th>\n",
       "      <td>608</td>\n",
       "      <td>Spain</td>\n",
       "      <td>Female</td>\n",
       "      <td>41</td>\n",
       "      <td>1.0</td>\n",
       "      <td>83807.86</td>\n",
       "      <td>1</td>\n",
       "      <td>0</td>\n",
       "      <td>1</td>\n",
       "      <td>112542.58</td>\n",
       "      <td>0</td>\n",
       "    </tr>\n",
       "    <tr>\n",
       "      <th>2</th>\n",
       "      <td>502</td>\n",
       "      <td>France</td>\n",
       "      <td>Female</td>\n",
       "      <td>42</td>\n",
       "      <td>8.0</td>\n",
       "      <td>159660.80</td>\n",
       "      <td>3</td>\n",
       "      <td>1</td>\n",
       "      <td>0</td>\n",
       "      <td>113931.57</td>\n",
       "      <td>1</td>\n",
       "    </tr>\n",
       "    <tr>\n",
       "      <th>3</th>\n",
       "      <td>699</td>\n",
       "      <td>France</td>\n",
       "      <td>Female</td>\n",
       "      <td>39</td>\n",
       "      <td>1.0</td>\n",
       "      <td>0.00</td>\n",
       "      <td>2</td>\n",
       "      <td>0</td>\n",
       "      <td>0</td>\n",
       "      <td>93826.63</td>\n",
       "      <td>0</td>\n",
       "    </tr>\n",
       "    <tr>\n",
       "      <th>4</th>\n",
       "      <td>850</td>\n",
       "      <td>Spain</td>\n",
       "      <td>Female</td>\n",
       "      <td>43</td>\n",
       "      <td>2.0</td>\n",
       "      <td>125510.82</td>\n",
       "      <td>1</td>\n",
       "      <td>1</td>\n",
       "      <td>1</td>\n",
       "      <td>79084.10</td>\n",
       "      <td>0</td>\n",
       "    </tr>\n",
       "  </tbody>\n",
       "</table>\n",
       "</div>"
      ],
      "text/plain": [
       "   CreditScore Geography  Gender  Age  Tenure    Balance  NumOfProducts  \\\n",
       "0          619    France  Female   42     2.0       0.00              1   \n",
       "1          608     Spain  Female   41     1.0   83807.86              1   \n",
       "2          502    France  Female   42     8.0  159660.80              3   \n",
       "3          699    France  Female   39     1.0       0.00              2   \n",
       "4          850     Spain  Female   43     2.0  125510.82              1   \n",
       "\n",
       "   HasCrCard  IsActiveMember  EstimatedSalary  Exited  \n",
       "0          1               1        101348.88       1  \n",
       "1          0               1        112542.58       0  \n",
       "2          1               0        113931.57       1  \n",
       "3          0               0         93826.63       0  \n",
       "4          1               1         79084.10       0  "
      ]
     },
     "metadata": {},
     "output_type": "display_data"
    },
    {
     "data": {
      "text/plain": [
       "(10000, 11)"
      ]
     },
     "execution_count": 4,
     "metadata": {},
     "output_type": "execute_result"
    }
   ],
   "source": [
    "display(data.head())\n",
    "data.shape"
   ]
  },
  {
   "cell_type": "markdown",
   "metadata": {},
   "source": [
    "Далее подготовим данные методом OHE, что модель могла правильно использовать категориальные данные. Он позволит использовать модели разных типов. Используем параметр drop_first=True, чтобы не попасть в дамми-ловушку. Тем самым, столбец с названием стран даст 2 столбца вместо 1, а Гендер оставит 1. Таким образом, количество столбцов увеличится на 1."
   ]
  },
  {
   "cell_type": "code",
   "execution_count": 5,
   "metadata": {},
   "outputs": [
    {
     "data": {
      "text/plain": [
       "(10000, 12)"
      ]
     },
     "execution_count": 5,
     "metadata": {},
     "output_type": "execute_result"
    }
   ],
   "source": [
    "data = pd.get_dummies(data, drop_first=True)\n",
    "data.shape"
   ]
  },
  {
   "cell_type": "markdown",
   "metadata": {},
   "source": [
    "Теперь разделим данные на тренировочную, валидационную и тренировочную выборки, в пропориии 3:1:1 и проверим размеры новых выборок. "
   ]
  },
  {
   "cell_type": "code",
   "execution_count": 6,
   "metadata": {},
   "outputs": [
    {
     "name": "stdout",
     "output_type": "stream",
     "text": [
      "(6000, 11) (2000, 11) (2000, 11)\n",
      "(6000,) (2000,) (2000,)\n"
     ]
    },
    {
     "data": {
      "text/plain": [
       "0       1\n",
       "1       0\n",
       "2       1\n",
       "3       0\n",
       "4       0\n",
       "       ..\n",
       "9995    0\n",
       "9996    0\n",
       "9997    1\n",
       "9998    1\n",
       "9999    0\n",
       "Name: Exited, Length: 10000, dtype: int64"
      ]
     },
     "metadata": {},
     "output_type": "display_data"
    }
   ],
   "source": [
    "features = data.drop('Exited', axis=1)\n",
    "target = data['Exited']\n",
    "features_train, features_x, target_train, target_x = train_test_split(features, target, test_size=0.4, random_state=12345)\n",
    "features_valid, features_test, target_valid, target_test = train_test_split(features_x, target_x, test_size=0.5, random_state=12345)\n",
    "print(features_train.shape, features_valid.shape, features_test.shape)\n",
    "print(target_train.shape, target_valid.shape, target_test.shape)\n"
   ]
  },
  {
   "cell_type": "markdown",
   "metadata": {},
   "source": [
    "Выполним масштабирование признаков во всех выборках, сперва выделив количественные признаки."
   ]
  },
  {
   "cell_type": "code",
   "execution_count": 7,
   "metadata": {},
   "outputs": [
    {
     "name": "stderr",
     "output_type": "stream",
     "text": [
      "/tmp/ipykernel_152/1289266845.py:4: SettingWithCopyWarning: \n",
      "A value is trying to be set on a copy of a slice from a DataFrame.\n",
      "Try using .loc[row_indexer,col_indexer] = value instead\n",
      "\n",
      "See the caveats in the documentation: https://pandas.pydata.org/pandas-docs/stable/user_guide/indexing.html#returning-a-view-versus-a-copy\n",
      "  features_train[numeric] = scaler.transform(features_train[numeric])\n",
      "/opt/conda/lib/python3.9/site-packages/pandas/core/indexing.py:1738: SettingWithCopyWarning: \n",
      "A value is trying to be set on a copy of a slice from a DataFrame.\n",
      "Try using .loc[row_indexer,col_indexer] = value instead\n",
      "\n",
      "See the caveats in the documentation: https://pandas.pydata.org/pandas-docs/stable/user_guide/indexing.html#returning-a-view-versus-a-copy\n",
      "  self._setitem_single_column(loc, value[:, i].tolist(), pi)\n"
     ]
    },
    {
     "data": {
      "text/html": [
       "<div>\n",
       "<style scoped>\n",
       "    .dataframe tbody tr th:only-of-type {\n",
       "        vertical-align: middle;\n",
       "    }\n",
       "\n",
       "    .dataframe tbody tr th {\n",
       "        vertical-align: top;\n",
       "    }\n",
       "\n",
       "    .dataframe thead th {\n",
       "        text-align: right;\n",
       "    }\n",
       "</style>\n",
       "<table border=\"1\" class=\"dataframe\">\n",
       "  <thead>\n",
       "    <tr style=\"text-align: right;\">\n",
       "      <th></th>\n",
       "      <th>CreditScore</th>\n",
       "      <th>Age</th>\n",
       "      <th>Tenure</th>\n",
       "      <th>Balance</th>\n",
       "      <th>NumOfProducts</th>\n",
       "      <th>HasCrCard</th>\n",
       "      <th>IsActiveMember</th>\n",
       "      <th>EstimatedSalary</th>\n",
       "      <th>Geography_Germany</th>\n",
       "      <th>Geography_Spain</th>\n",
       "      <th>Gender_Male</th>\n",
       "    </tr>\n",
       "  </thead>\n",
       "  <tbody>\n",
       "    <tr>\n",
       "      <th>7479</th>\n",
       "      <td>-0.886751</td>\n",
       "      <td>-0.373192</td>\n",
       "      <td>1.104696</td>\n",
       "      <td>1.232271</td>\n",
       "      <td>-0.891560</td>\n",
       "      <td>1</td>\n",
       "      <td>0</td>\n",
       "      <td>-0.187705</td>\n",
       "      <td>0</td>\n",
       "      <td>1</td>\n",
       "      <td>1</td>\n",
       "    </tr>\n",
       "    <tr>\n",
       "      <th>3411</th>\n",
       "      <td>0.608663</td>\n",
       "      <td>-0.183385</td>\n",
       "      <td>1.104696</td>\n",
       "      <td>0.600563</td>\n",
       "      <td>-0.891560</td>\n",
       "      <td>0</td>\n",
       "      <td>0</td>\n",
       "      <td>-0.333945</td>\n",
       "      <td>0</td>\n",
       "      <td>0</td>\n",
       "      <td>0</td>\n",
       "    </tr>\n",
       "    <tr>\n",
       "      <th>6027</th>\n",
       "      <td>2.052152</td>\n",
       "      <td>0.480939</td>\n",
       "      <td>-0.503694</td>\n",
       "      <td>1.027098</td>\n",
       "      <td>0.830152</td>\n",
       "      <td>0</td>\n",
       "      <td>1</td>\n",
       "      <td>1.503095</td>\n",
       "      <td>1</td>\n",
       "      <td>0</td>\n",
       "      <td>1</td>\n",
       "    </tr>\n",
       "    <tr>\n",
       "      <th>1247</th>\n",
       "      <td>-1.457915</td>\n",
       "      <td>-1.417129</td>\n",
       "      <td>0.461340</td>\n",
       "      <td>-1.233163</td>\n",
       "      <td>0.830152</td>\n",
       "      <td>1</td>\n",
       "      <td>0</td>\n",
       "      <td>-1.071061</td>\n",
       "      <td>0</td>\n",
       "      <td>0</td>\n",
       "      <td>1</td>\n",
       "    </tr>\n",
       "    <tr>\n",
       "      <th>3716</th>\n",
       "      <td>0.130961</td>\n",
       "      <td>-1.132419</td>\n",
       "      <td>-0.825373</td>\n",
       "      <td>1.140475</td>\n",
       "      <td>-0.891560</td>\n",
       "      <td>0</td>\n",
       "      <td>0</td>\n",
       "      <td>1.524268</td>\n",
       "      <td>1</td>\n",
       "      <td>0</td>\n",
       "      <td>0</td>\n",
       "    </tr>\n",
       "  </tbody>\n",
       "</table>\n",
       "</div>"
      ],
      "text/plain": [
       "      CreditScore       Age    Tenure   Balance  NumOfProducts  HasCrCard  \\\n",
       "7479    -0.886751 -0.373192  1.104696  1.232271      -0.891560          1   \n",
       "3411     0.608663 -0.183385  1.104696  0.600563      -0.891560          0   \n",
       "6027     2.052152  0.480939 -0.503694  1.027098       0.830152          0   \n",
       "1247    -1.457915 -1.417129  0.461340 -1.233163       0.830152          1   \n",
       "3716     0.130961 -1.132419 -0.825373  1.140475      -0.891560          0   \n",
       "\n",
       "      IsActiveMember  EstimatedSalary  Geography_Germany  Geography_Spain  \\\n",
       "7479               0        -0.187705                  0                1   \n",
       "3411               0        -0.333945                  0                0   \n",
       "6027               1         1.503095                  1                0   \n",
       "1247               0        -1.071061                  0                0   \n",
       "3716               0         1.524268                  1                0   \n",
       "\n",
       "      Gender_Male  \n",
       "7479            1  \n",
       "3411            0  \n",
       "6027            1  \n",
       "1247            1  \n",
       "3716            0  "
      ]
     },
     "metadata": {},
     "output_type": "display_data"
    },
    {
     "name": "stderr",
     "output_type": "stream",
     "text": [
      "/tmp/ipykernel_152/1289266845.py:6: SettingWithCopyWarning: \n",
      "A value is trying to be set on a copy of a slice from a DataFrame.\n",
      "Try using .loc[row_indexer,col_indexer] = value instead\n",
      "\n",
      "See the caveats in the documentation: https://pandas.pydata.org/pandas-docs/stable/user_guide/indexing.html#returning-a-view-versus-a-copy\n",
      "  features_valid[numeric] = scaler.transform(features_valid[numeric])\n",
      "/opt/conda/lib/python3.9/site-packages/pandas/core/indexing.py:1738: SettingWithCopyWarning: \n",
      "A value is trying to be set on a copy of a slice from a DataFrame.\n",
      "Try using .loc[row_indexer,col_indexer] = value instead\n",
      "\n",
      "See the caveats in the documentation: https://pandas.pydata.org/pandas-docs/stable/user_guide/indexing.html#returning-a-view-versus-a-copy\n",
      "  self._setitem_single_column(loc, value[:, i].tolist(), pi)\n"
     ]
    },
    {
     "data": {
      "text/html": [
       "<div>\n",
       "<style scoped>\n",
       "    .dataframe tbody tr th:only-of-type {\n",
       "        vertical-align: middle;\n",
       "    }\n",
       "\n",
       "    .dataframe tbody tr th {\n",
       "        vertical-align: top;\n",
       "    }\n",
       "\n",
       "    .dataframe thead th {\n",
       "        text-align: right;\n",
       "    }\n",
       "</style>\n",
       "<table border=\"1\" class=\"dataframe\">\n",
       "  <thead>\n",
       "    <tr style=\"text-align: right;\">\n",
       "      <th></th>\n",
       "      <th>CreditScore</th>\n",
       "      <th>Age</th>\n",
       "      <th>Tenure</th>\n",
       "      <th>Balance</th>\n",
       "      <th>NumOfProducts</th>\n",
       "      <th>HasCrCard</th>\n",
       "      <th>IsActiveMember</th>\n",
       "      <th>EstimatedSalary</th>\n",
       "      <th>Geography_Germany</th>\n",
       "      <th>Geography_Spain</th>\n",
       "      <th>Gender_Male</th>\n",
       "    </tr>\n",
       "  </thead>\n",
       "  <tbody>\n",
       "    <tr>\n",
       "      <th>8532</th>\n",
       "      <td>-0.699824</td>\n",
       "      <td>-0.373192</td>\n",
       "      <td>-0.825373</td>\n",
       "      <td>-1.233163</td>\n",
       "      <td>0.830152</td>\n",
       "      <td>1</td>\n",
       "      <td>0</td>\n",
       "      <td>-0.015173</td>\n",
       "      <td>0</td>\n",
       "      <td>0</td>\n",
       "      <td>0</td>\n",
       "    </tr>\n",
       "    <tr>\n",
       "      <th>5799</th>\n",
       "      <td>-0.284431</td>\n",
       "      <td>0.575842</td>\n",
       "      <td>-0.503694</td>\n",
       "      <td>-1.233163</td>\n",
       "      <td>-0.891560</td>\n",
       "      <td>1</td>\n",
       "      <td>1</td>\n",
       "      <td>1.471724</td>\n",
       "      <td>0</td>\n",
       "      <td>0</td>\n",
       "      <td>0</td>\n",
       "    </tr>\n",
       "    <tr>\n",
       "      <th>5511</th>\n",
       "      <td>0.151731</td>\n",
       "      <td>-0.657902</td>\n",
       "      <td>-1.468729</td>\n",
       "      <td>0.438711</td>\n",
       "      <td>-0.891560</td>\n",
       "      <td>1</td>\n",
       "      <td>0</td>\n",
       "      <td>-1.367107</td>\n",
       "      <td>1</td>\n",
       "      <td>0</td>\n",
       "      <td>1</td>\n",
       "    </tr>\n",
       "    <tr>\n",
       "      <th>7365</th>\n",
       "      <td>-0.876366</td>\n",
       "      <td>-0.278288</td>\n",
       "      <td>1.748053</td>\n",
       "      <td>1.239884</td>\n",
       "      <td>-0.891560</td>\n",
       "      <td>1</td>\n",
       "      <td>1</td>\n",
       "      <td>-0.786517</td>\n",
       "      <td>0</td>\n",
       "      <td>1</td>\n",
       "      <td>0</td>\n",
       "    </tr>\n",
       "    <tr>\n",
       "      <th>7367</th>\n",
       "      <td>-0.481743</td>\n",
       "      <td>0.291132</td>\n",
       "      <td>1.748053</td>\n",
       "      <td>-1.233163</td>\n",
       "      <td>0.830152</td>\n",
       "      <td>1</td>\n",
       "      <td>0</td>\n",
       "      <td>1.358533</td>\n",
       "      <td>0</td>\n",
       "      <td>1</td>\n",
       "      <td>1</td>\n",
       "    </tr>\n",
       "  </tbody>\n",
       "</table>\n",
       "</div>"
      ],
      "text/plain": [
       "      CreditScore       Age    Tenure   Balance  NumOfProducts  HasCrCard  \\\n",
       "8532    -0.699824 -0.373192 -0.825373 -1.233163       0.830152          1   \n",
       "5799    -0.284431  0.575842 -0.503694 -1.233163      -0.891560          1   \n",
       "5511     0.151731 -0.657902 -1.468729  0.438711      -0.891560          1   \n",
       "7365    -0.876366 -0.278288  1.748053  1.239884      -0.891560          1   \n",
       "7367    -0.481743  0.291132  1.748053 -1.233163       0.830152          1   \n",
       "\n",
       "      IsActiveMember  EstimatedSalary  Geography_Germany  Geography_Spain  \\\n",
       "8532               0        -0.015173                  0                0   \n",
       "5799               1         1.471724                  0                0   \n",
       "5511               0        -1.367107                  1                0   \n",
       "7365               1        -0.786517                  0                1   \n",
       "7367               0         1.358533                  0                1   \n",
       "\n",
       "      Gender_Male  \n",
       "8532            0  \n",
       "5799            0  \n",
       "5511            1  \n",
       "7365            0  \n",
       "7367            1  "
      ]
     },
     "metadata": {},
     "output_type": "display_data"
    },
    {
     "name": "stderr",
     "output_type": "stream",
     "text": [
      "/tmp/ipykernel_152/1289266845.py:8: SettingWithCopyWarning: \n",
      "A value is trying to be set on a copy of a slice from a DataFrame.\n",
      "Try using .loc[row_indexer,col_indexer] = value instead\n",
      "\n",
      "See the caveats in the documentation: https://pandas.pydata.org/pandas-docs/stable/user_guide/indexing.html#returning-a-view-versus-a-copy\n",
      "  features_test[numeric] = scaler.transform(features_test[numeric])\n",
      "/opt/conda/lib/python3.9/site-packages/pandas/core/indexing.py:1738: SettingWithCopyWarning: \n",
      "A value is trying to be set on a copy of a slice from a DataFrame.\n",
      "Try using .loc[row_indexer,col_indexer] = value instead\n",
      "\n",
      "See the caveats in the documentation: https://pandas.pydata.org/pandas-docs/stable/user_guide/indexing.html#returning-a-view-versus-a-copy\n",
      "  self._setitem_single_column(loc, value[:, i].tolist(), pi)\n"
     ]
    },
    {
     "data": {
      "text/html": [
       "<div>\n",
       "<style scoped>\n",
       "    .dataframe tbody tr th:only-of-type {\n",
       "        vertical-align: middle;\n",
       "    }\n",
       "\n",
       "    .dataframe tbody tr th {\n",
       "        vertical-align: top;\n",
       "    }\n",
       "\n",
       "    .dataframe thead th {\n",
       "        text-align: right;\n",
       "    }\n",
       "</style>\n",
       "<table border=\"1\" class=\"dataframe\">\n",
       "  <thead>\n",
       "    <tr style=\"text-align: right;\">\n",
       "      <th></th>\n",
       "      <th>CreditScore</th>\n",
       "      <th>Age</th>\n",
       "      <th>Tenure</th>\n",
       "      <th>Balance</th>\n",
       "      <th>NumOfProducts</th>\n",
       "      <th>HasCrCard</th>\n",
       "      <th>IsActiveMember</th>\n",
       "      <th>EstimatedSalary</th>\n",
       "      <th>Geography_Germany</th>\n",
       "      <th>Geography_Spain</th>\n",
       "      <th>Gender_Male</th>\n",
       "    </tr>\n",
       "  </thead>\n",
       "  <tbody>\n",
       "    <tr>\n",
       "      <th>7041</th>\n",
       "      <td>-2.226392</td>\n",
       "      <td>-0.088482</td>\n",
       "      <td>-0.825373</td>\n",
       "      <td>-1.233163</td>\n",
       "      <td>0.830152</td>\n",
       "      <td>1</td>\n",
       "      <td>0</td>\n",
       "      <td>0.647083</td>\n",
       "      <td>0</td>\n",
       "      <td>0</td>\n",
       "      <td>1</td>\n",
       "    </tr>\n",
       "    <tr>\n",
       "      <th>5709</th>\n",
       "      <td>-0.087120</td>\n",
       "      <td>0.006422</td>\n",
       "      <td>1.426375</td>\n",
       "      <td>-1.233163</td>\n",
       "      <td>-0.891560</td>\n",
       "      <td>1</td>\n",
       "      <td>0</td>\n",
       "      <td>-1.658410</td>\n",
       "      <td>0</td>\n",
       "      <td>0</td>\n",
       "      <td>0</td>\n",
       "    </tr>\n",
       "    <tr>\n",
       "      <th>7117</th>\n",
       "      <td>-0.917905</td>\n",
       "      <td>-0.752805</td>\n",
       "      <td>0.139662</td>\n",
       "      <td>0.722307</td>\n",
       "      <td>-0.891560</td>\n",
       "      <td>1</td>\n",
       "      <td>1</td>\n",
       "      <td>-1.369334</td>\n",
       "      <td>0</td>\n",
       "      <td>1</td>\n",
       "      <td>1</td>\n",
       "    </tr>\n",
       "    <tr>\n",
       "      <th>7775</th>\n",
       "      <td>-0.253277</td>\n",
       "      <td>0.101325</td>\n",
       "      <td>1.748053</td>\n",
       "      <td>-1.233163</td>\n",
       "      <td>0.830152</td>\n",
       "      <td>1</td>\n",
       "      <td>0</td>\n",
       "      <td>0.075086</td>\n",
       "      <td>0</td>\n",
       "      <td>1</td>\n",
       "      <td>1</td>\n",
       "    </tr>\n",
       "    <tr>\n",
       "      <th>8735</th>\n",
       "      <td>0.785204</td>\n",
       "      <td>-0.847708</td>\n",
       "      <td>1.748053</td>\n",
       "      <td>0.615625</td>\n",
       "      <td>-0.891560</td>\n",
       "      <td>0</td>\n",
       "      <td>1</td>\n",
       "      <td>-1.070919</td>\n",
       "      <td>0</td>\n",
       "      <td>0</td>\n",
       "      <td>1</td>\n",
       "    </tr>\n",
       "  </tbody>\n",
       "</table>\n",
       "</div>"
      ],
      "text/plain": [
       "      CreditScore       Age    Tenure   Balance  NumOfProducts  HasCrCard  \\\n",
       "7041    -2.226392 -0.088482 -0.825373 -1.233163       0.830152          1   \n",
       "5709    -0.087120  0.006422  1.426375 -1.233163      -0.891560          1   \n",
       "7117    -0.917905 -0.752805  0.139662  0.722307      -0.891560          1   \n",
       "7775    -0.253277  0.101325  1.748053 -1.233163       0.830152          1   \n",
       "8735     0.785204 -0.847708  1.748053  0.615625      -0.891560          0   \n",
       "\n",
       "      IsActiveMember  EstimatedSalary  Geography_Germany  Geography_Spain  \\\n",
       "7041               0         0.647083                  0                0   \n",
       "5709               0        -1.658410                  0                0   \n",
       "7117               1        -1.369334                  0                1   \n",
       "7775               0         0.075086                  0                1   \n",
       "8735               1        -1.070919                  0                0   \n",
       "\n",
       "      Gender_Male  \n",
       "7041            1  \n",
       "5709            0  \n",
       "7117            1  \n",
       "7775            1  \n",
       "8735            1  "
      ]
     },
     "metadata": {},
     "output_type": "display_data"
    }
   ],
   "source": [
    "numeric = ['CreditScore', 'Age', 'Tenure', 'Balance', 'NumOfProducts', 'EstimatedSalary']\n",
    "scaler = StandardScaler()\n",
    "scaler.fit(features_train[numeric])\n",
    "features_train[numeric] = scaler.transform(features_train[numeric])\n",
    "display(features_train.head())\n",
    "features_valid[numeric] = scaler.transform(features_valid[numeric])\n",
    "display(features_valid.head())\n",
    "features_test[numeric] = scaler.transform(features_test[numeric])\n",
    "display(features_test.head())\n"
   ]
  },
  {
   "cell_type": "markdown",
   "metadata": {},
   "source": [
    "## Исследование задачи"
   ]
  },
  {
   "cell_type": "markdown",
   "metadata": {},
   "source": [
    "Обучим 3 разные модели и посчитаем для них Accuracy. Для дерева решений получилось 0.858, для случайного леса 0.864, для регрессии 0.8"
   ]
  },
  {
   "cell_type": "code",
   "execution_count": 8,
   "metadata": {},
   "outputs": [
    {
     "name": "stdout",
     "output_type": "stream",
     "text": [
      "Accuracy лучшей модели дерева решений на валидационной выборке: 0.858 DecisionTreeClassifier(max_depth=6, random_state=12345)\n",
      "Accuracy наилучшей модели леса на валидационной выборке: 0.864 RandomForestClassifier(max_depth=8, n_estimators=40, random_state=12345)\n",
      "Accuracy регрессии на валидационной выборке: 0.8025\n"
     ]
    }
   ],
   "source": [
    "best_result_1 = 0\n",
    "for depth in range(1, 20):\n",
    "    model_1 = DecisionTreeClassifier(random_state=12345, max_depth=depth)\n",
    "    model_1.fit(features_train,target_train)  \n",
    "    result = model_1.score(features_valid, target_valid)\n",
    "    if result > best_result_1:\n",
    "        tree_model = model_1\n",
    "        best_result_1 = result\n",
    "        \n",
    "print(\"Accuracy лучшей модели дерева решений на валидационной выборке:\", best_result_1, tree_model)\n",
    "\n",
    "best_result_2 = 0\n",
    "for est in range(10, 51, 10):\n",
    "    for depth in range (1, 11):\n",
    "        model_2 = RandomForestClassifier(random_state=12345, n_estimators=est, max_depth=depth)\n",
    "        model_2.fit(features_train, target_train) \n",
    "        result = model_2.score(features_valid, target_valid) \n",
    "        if result > best_result_2:\n",
    "            forest_model = model_2\n",
    "            best_result_2 = result\n",
    "\n",
    "print(\"Accuracy наилучшей модели леса на валидационной выборке:\", best_result_2, forest_model)\n",
    "\n",
    "reg_model = LogisticRegression(random_state=12345, solver='liblinear', max_iter=1000)\n",
    "reg_model.fit(features_train, target_train) \n",
    "best_result_3 = reg_model.score(features_valid, target_valid)\n",
    "print(\"Accuracy регрессии на валидационной выборке:\", best_result_3)"
   ]
  },
  {
   "cell_type": "markdown",
   "metadata": {},
   "source": [
    "Рассмотрим другие метрики."
   ]
  },
  {
   "cell_type": "code",
   "execution_count": 9,
   "metadata": {},
   "outputs": [
    {
     "name": "stdout",
     "output_type": "stream",
     "text": [
      "Полнота дерево 0.44976076555023925\n",
      "Точность дерево 0.7768595041322314\n",
      "F1-мера дерево 0.5696969696969697\n",
      "AUC-ROC дерево 0.7078133789824521\n",
      "\n",
      "Полнота лес 0.4258373205741627\n",
      "Точность лес 0.8476190476190476\n",
      "F1-мера лес 0.5668789808917197\n",
      "AUC-ROC лес 0.702804880261797\n",
      "\n",
      "Полнота регрессия 0.23684210526315788\n",
      "Точность регрессия 0.5657142857142857\n",
      "F1-мера регрессия 0.33389544688026984\n",
      "AUC-ROC регрессия 0.5944008250715284\n"
     ]
    }
   ],
   "source": [
    "print(\"Полнота дерево\" , recall_score(target_valid, tree_model.predict(features_valid)))\n",
    "print(\"Точность дерево\", precision_score(target_valid, tree_model.predict(features_valid)))\n",
    "print(\"F1-мера дерево\", f1_score(target_valid, tree_model.predict(features_valid)))\n",
    "print(\"AUC-ROC дерево\", roc_auc_score(target_valid, tree_model.predict(features_valid)))\n",
    "print('')\n",
    "print(\"Полнота лес\" , recall_score(target_valid, forest_model.predict(features_valid)))\n",
    "print(\"Точность лес\", precision_score(target_valid, forest_model.predict(features_valid)))\n",
    "print(\"F1-мера лес\", f1_score(target_valid, forest_model.predict(features_valid)))\n",
    "print(\"AUC-ROC лес\", roc_auc_score(target_valid, forest_model.predict(features_valid)))\n",
    "print('')\n",
    "print(\"Полнота регрессия\" , recall_score(target_valid, reg_model.predict(features_valid)))\n",
    "print(\"Точность регрессия\", precision_score(target_valid, reg_model.predict(features_valid)))\n",
    "print(\"F1-мера регрессия\", f1_score(target_valid, reg_model.predict(features_valid)))\n",
    "print(\"AUC-ROC регрессия\", roc_auc_score(target_valid, reg_model.predict(features_valid)))"
   ]
  },
  {
   "cell_type": "markdown",
   "metadata": {},
   "source": [
    "Показатели довольно низкие, f1-мера не удовлетворяет поставленной задаче (>0.59). Полнота ниже 0.5, что говорит о том, что модель предскажет меньше половины от реальных уходов. Это неудовлетворительный результат."
   ]
  },
  {
   "cell_type": "markdown",
   "metadata": {},
   "source": [
    "## Борьба с дисбалансом"
   ]
  },
  {
   "cell_type": "markdown",
   "metadata": {},
   "source": [
    "Проверим баланс классов."
   ]
  },
  {
   "cell_type": "code",
   "execution_count": 10,
   "metadata": {},
   "outputs": [
    {
     "name": "stdout",
     "output_type": "stream",
     "text": [
      "0    4804\n",
      "1    1196\n",
      "Name: Exited, dtype: int64\n",
      "0    1582\n",
      "1     418\n",
      "Name: Exited, dtype: int64\n",
      "0    7963\n",
      "1    2037\n",
      "Name: Exited, dtype: int64\n"
     ]
    }
   ],
   "source": [
    "print(target_train.value_counts())\n",
    "print(target_valid.value_counts())\n",
    "print(target.value_counts())"
   ]
  },
  {
   "cell_type": "markdown",
   "metadata": {},
   "source": [
    "<div style=\"border:solid purple 5px; padding: 20px\"> \n",
    "<h2 align=\"center\"> Рубрика «Питонячий лайфхакер» <a class=\"tocSkip\"> </h2>\n",
    "\n",
    "<h3> Индикаторы состояния: progress и tqdm <a class=\"tocSkip\"> </h3>\n",
    "\n",
    "Как перестать беспокоиться о том, не завис ли скрипт? Вы можете создавать свои индикаторы состояния. Это весьма увлекательное занятие. Но делать то же самое с [progress](https://pypi.org/project/progress/) (ее обычно используют для работы из консоли) или [tqdm](https://pypi.org/project/tqdm/) (отлично подойдет для тетрадок) куда быстрее и надежнее.\n",
    "\n",
    "Обычно я использую эти две библиотеки, но вот [здесь](https://habr.com/ru/post/483400/) ты можешь почитать про альтернативные варианты\n",
    "\n",
    "![](https://i.ibb.co/B4SDm8Y/68747470733a2f2f7261772e6769746875622e636f6d2f7665726967616b2f70726f67726573732f6d61737465722f64656d.gif)"
   ]
  },
  {
   "cell_type": "markdown",
   "metadata": {},
   "source": [
    "Баланс классов стремится к 0 у обеих выборок примерно в соотношении 1:4. Модель будет склоняться к 0. Проверим это на разных моделях. Также проверим модели на адекватность константной моделью."
   ]
  },
  {
   "cell_type": "code",
   "execution_count": 11,
   "metadata": {},
   "outputs": [
    {
     "name": "stdout",
     "output_type": "stream",
     "text": [
      "0    1758\n",
      "1     242\n",
      "dtype: int64\n",
      "0    1790\n",
      "1     210\n",
      "dtype: int64\n",
      "0    1825\n",
      "1     175\n",
      "dtype: int64\n",
      "0.791\n"
     ]
    }
   ],
   "source": [
    "print(pd.Series(tree_model.predict(features_valid)).value_counts())\n",
    "print(pd.Series(forest_model.predict(features_valid)).value_counts())\n",
    "print(pd.Series(reg_model.predict(features_valid)).value_counts())\n",
    "\n",
    "target_constant = pd.Series([0]*len(target_valid))\n",
    "print(accuracy_score(target_valid, target_constant))"
   ]
  },
  {
   "cell_type": "markdown",
   "metadata": {},
   "source": [
    "Предположение подтвердилось, при этом \"перекос\" у модели регрессии практически 1:10. При констатной модели точность 0.791, что очень близко к точности модели регрессии. Очевидно, необходимо решить задачу дисбаланса классов. Для этого восвольщуемся техникой upsampling.\n",
    "Преобразование проходит в несколько этапов:\n",
    "1. Разделить обучающую выборку на объекты по классам;\n",
    "2. Определить тот класс, который содержит меньше объектов. Назовём его меньшим классом;\n",
    "3. Скопировать несколько раз объекты меньшего класса;\n",
    "4. С учётом полученных данных создать новую обучающую выборку;\n",
    "5. Перемешать данные.\n",
    "Выборку с положительными ответами нужно умножить в 4 раза.\n",
    "Видим, что количество положительных и отрицательных исходов почти сравнялось."
   ]
  },
  {
   "cell_type": "code",
   "execution_count": 12,
   "metadata": {},
   "outputs": [
    {
     "name": "stdout",
     "output_type": "stream",
     "text": [
      "0    4804\n",
      "1    4784\n",
      "Name: Exited, dtype: int64\n"
     ]
    }
   ],
   "source": [
    "def upsample(features, target, repeat):\n",
    "    features_zeros = features[target == 0]\n",
    "    features_ones = features[target == 1]\n",
    "    target_zeros = target[target == 0]\n",
    "    target_ones = target[target == 1]\n",
    "\n",
    "    features_upsampled = pd.concat([features_zeros] + [features_ones] * repeat)\n",
    "    target_upsampled = pd.concat([target_zeros] + [target_ones] * repeat)\n",
    "    \n",
    "    features_upsampled, target_upsampled = shuffle(\n",
    "        features_upsampled, target_upsampled, random_state=12345)\n",
    "    \n",
    "    return features_upsampled, target_upsampled\n",
    "features_train_upsampled, target_train_upsampled = upsample(features_train, target_train, 4)\n",
    "print(target_train_upsampled.value_counts())\n",
    "\n",
    "\n"
   ]
  },
  {
   "cell_type": "markdown",
   "metadata": {},
   "source": [
    "Теперь обучим модели на увеличенной выборке. и посчитаем Accuracy."
   ]
  },
  {
   "cell_type": "code",
   "execution_count": 13,
   "metadata": {},
   "outputs": [
    {
     "name": "stdout",
     "output_type": "stream",
     "text": [
      "Accuracy лучшей модели дерева решений на валидационной выборке: 0.8105 DecisionTreeClassifier(max_depth=5, random_state=12345)\n",
      "Accuracy наилучшей модели леса на валидационной выборке: 0.824 RandomForestClassifier(max_depth=10, n_estimators=20, random_state=12345)\n",
      "Accuracy регрессии на валидационной выборке: 0.701\n"
     ]
    }
   ],
   "source": [
    "best_result_1 = 0\n",
    "for depth in range(1, 20):\n",
    "    model_1 = DecisionTreeClassifier(random_state=12345, max_depth=depth)\n",
    "    model_1.fit(features_train_upsampled,target_train_upsampled)  \n",
    "    result = model_1.score(features_valid, target_valid)\n",
    "    if result > best_result_1:\n",
    "        tree_model = model_1\n",
    "        best_result_1 = result\n",
    "        \n",
    "print(\"Accuracy лучшей модели дерева решений на валидационной выборке:\", best_result_1, tree_model)\n",
    "\n",
    "best_result_2 = 0\n",
    "for est in range(10, 51, 10):\n",
    "    for depth in range (1, 11):\n",
    "        model_2 = RandomForestClassifier(random_state=12345, n_estimators=est, max_depth=depth)\n",
    "        model_2.fit(features_train_upsampled, target_train_upsampled) \n",
    "        result = model_2.score(features_valid, target_valid) \n",
    "        if result > best_result_2:\n",
    "            forest_model = model_2\n",
    "            best_result_2 = result\n",
    "\n",
    "print(\"Accuracy наилучшей модели леса на валидационной выборке:\", best_result_2, forest_model)\n",
    "\n",
    "reg_model = LogisticRegression(random_state=12345, solver='liblinear', max_iter=1000)\n",
    "reg_model.fit(features_train_upsampled, target_train_upsampled) \n",
    "best_result_3 = reg_model.score(features_valid, target_valid)\n",
    "print(\"Accuracy регрессии на валидационной выборке:\", best_result_3)"
   ]
  },
  {
   "cell_type": "markdown",
   "metadata": {},
   "source": [
    "<div class=\"alert alert-success\">\n",
    "\n",
    "\n",
    "Кстати, можно было уйти от вложенных циклов и генерить комбинации гиперпараметров с помощью библиотеки `itertools`. Ниже небольшой пример\n",
    "    \n",
    "![](https://i.ibb.co/BnJfPMk/image.png)"
   ]
  },
  {
   "cell_type": "markdown",
   "metadata": {},
   "source": [
    "Для дерева решений получилось 0.81, для случайного леса 0.8245, для регрессии 0.7. Показатели стали только хуже. Но теперь стоит изучить изменение остальных метрик."
   ]
  },
  {
   "cell_type": "code",
   "execution_count": 14,
   "metadata": {},
   "outputs": [
    {
     "name": "stdout",
     "output_type": "stream",
     "text": [
      "Полнота дерево 0.6698564593301436\n",
      "Точность дерево 0.5374280230326296\n",
      "F1-мера дерево 0.5963791267305644\n",
      "AUC-ROC дерево 0.7587588238496482\n",
      "\n",
      "Полнота лес 0.6650717703349283\n",
      "Точность лес 0.5673469387755102\n",
      "F1-мера лес 0.6123348017621146\n",
      "AUC-ROC лес 0.7655320924999546\n",
      "\n",
      "Полнота регрессия 0.6842105263157895\n",
      "Точность регрессия 0.3803191489361702\n",
      "F1-мера регрессия 0.4888888888888888\n",
      "AUC-ROC регрессия 0.6948233415396898\n"
     ]
    }
   ],
   "source": [
    "print(\"Полнота дерево\" , recall_score(target_valid, tree_model.predict(features_valid)))\n",
    "print(\"Точность дерево\", precision_score(target_valid, tree_model.predict(features_valid)))\n",
    "print(\"F1-мера дерево\", f1_score(target_valid, tree_model.predict(features_valid)))\n",
    "print(\"AUC-ROC дерево\", roc_auc_score(target_valid, tree_model.predict(features_valid)))\n",
    "print('')\n",
    "print(\"Полнота лес\" , recall_score(target_valid, forest_model.predict(features_valid)))\n",
    "print(\"Точность лес\", precision_score(target_valid, forest_model.predict(features_valid)))\n",
    "print(\"F1-мера лес\", f1_score(target_valid, forest_model.predict(features_valid)))\n",
    "print(\"AUC-ROC лес\", roc_auc_score(target_valid, forest_model.predict(features_valid)))\n",
    "print('')\n",
    "print(\"Полнота регрессия\" , recall_score(target_valid, reg_model.predict(features_valid)))\n",
    "print(\"Точность регрессия\", precision_score(target_valid, reg_model.predict(features_valid)))\n",
    "print(\"F1-мера регрессия\", f1_score(target_valid, reg_model.predict(features_valid)))\n",
    "print(\"AUC-ROC регрессия\", roc_auc_score(target_valid, reg_model.predict(features_valid)))\n",
    "\n",
    "#Данные без балансировки\n",
    "#Полнота дерево 0.44976076555023925\n",
    "#Точность дерево 0.7768595041322314\n",
    "#F1-мера дерево 0.5696969696969697\n",
    "#AUC-ROC дерево 0.7078133789824521\n",
    "#Полнота лес 0.43779904306220097\n",
    "#Точность лес 0.8356164383561644\n",
    "#F1-мера лес 0.5745682888540031\n",
    "#AUC-ROC лес 0.7075215190026555\n",
    "#Полнота регрессия 0.23684210526315788\n",
    "#Точность регрессия 0.5657142857142857\n",
    "#F1-мера регрессия 0.33389544688026984\n",
    "#AUC-ROC регрессия 0.5944008250715284"
   ]
  },
  {
   "cell_type": "markdown",
   "metadata": {},
   "source": [
    "Очевидно, что несмотря на снизившийся показатель accuracy, почти все остальные метрики улучшились. Лучший показатель f1 у случайного леса, около 0.62, при требуемых по заданию не менее 0.59. Таким образом, поставленная задача выполняется."
   ]
  },
  {
   "cell_type": "markdown",
   "metadata": {},
   "source": [
    "<span style=\"color:blue\">Теперь попробуем решить проблему дисбаланса классов техникой downsampling.\n",
    "Преобразование проходит в несколько этапов:\n",
    "1. Разделить обучающую выборку на объекты по классам;\n",
    "2. Определить тот класс, который содержит больше объектов. Назовём его большим классом;\n",
    "3. Случайным образом отбросить часть из объектов большего класса;\n",
    "4. С учётом полученных данных создать новую обучающую выборку;\n",
    "5. Перемешать данные.</span>"
   ]
  },
  {
   "cell_type": "code",
   "execution_count": 15,
   "metadata": {},
   "outputs": [
    {
     "name": "stdout",
     "output_type": "stream",
     "text": [
      "0    1201\n",
      "1    1196\n",
      "Name: Exited, dtype: int64\n"
     ]
    }
   ],
   "source": [
    "def downsample(features, target, fraction):\n",
    "    features_zeros = features[target == 0]\n",
    "    features_ones = features[target == 1]\n",
    "    target_zeros = target[target == 0]\n",
    "    target_ones = target[target == 1]\n",
    "    features_downsampled = pd.concat(\n",
    "    [features_zeros.sample(frac=fraction, random_state=12345)] + [features_ones])\n",
    "    target_downsampled = pd.concat(\n",
    "    [target_zeros.sample(frac=fraction, random_state=12345)] + [target_ones])\n",
    "    features_downsampled, target_downsampled = shuffle(\n",
    "    features_downsampled, target_downsampled, random_state=12345)\n",
    "    return features_downsampled, target_downsampled\n",
    "features_train_downsampled, target_train_downsampled = downsample(features_train, target_train, 0.25)\n",
    "print(target_train_downsampled.value_counts())\n"
   ]
  },
  {
   "cell_type": "markdown",
   "metadata": {},
   "source": [
    "Получили около 1200 строк в обоих классах."
   ]
  },
  {
   "cell_type": "code",
   "execution_count": 16,
   "metadata": {},
   "outputs": [
    {
     "name": "stdout",
     "output_type": "stream",
     "text": [
      "Accuracy лучшей модели дерева решений на валидационной выборке: 0.799 DecisionTreeClassifier(max_depth=5, random_state=12345)\n",
      "Accuracy наилучшей модели леса на валидационной выборке: 0.803 RandomForestClassifier(max_depth=10, n_estimators=20, random_state=12345)\n",
      "Accuracy регрессии на валидационной выборке: 0.7025\n"
     ]
    }
   ],
   "source": [
    "best_result_1 = 0\n",
    "for depth in range(1, 20):\n",
    "    model_1 = DecisionTreeClassifier(random_state=12345, max_depth=depth)\n",
    "    model_1.fit(features_train_downsampled,target_train_downsampled)  \n",
    "    result = model_1.score(features_valid, target_valid)\n",
    "    if result > best_result_1:\n",
    "        tree_model_down = model_1\n",
    "        best_result_1 = result\n",
    "        \n",
    "print(\"Accuracy лучшей модели дерева решений на валидационной выборке:\", best_result_1, tree_model)\n",
    "\n",
    "best_result_2 = 0\n",
    "for est in range(10, 51, 10):\n",
    "    for depth in range (1, 11):\n",
    "        model_2 = RandomForestClassifier(random_state=12345, n_estimators=est, max_depth=depth)\n",
    "        model_2.fit(features_train_downsampled, target_train_downsampled) \n",
    "        result = model_2.score(features_valid, target_valid) \n",
    "        if result > best_result_2:\n",
    "            forest_model_down = model_2\n",
    "            best_result_2 = result\n",
    "\n",
    "print(\"Accuracy наилучшей модели леса на валидационной выборке:\", best_result_2, forest_model)\n",
    "\n",
    "reg_model_down = LogisticRegression(random_state=12345, solver='liblinear', max_iter=1000)\n",
    "reg_model_down.fit(features_train_downsampled, target_train_downsampled) \n",
    "best_result_3 = reg_model_down.score(features_valid, target_valid)\n",
    "print(\"Accuracy регрессии на валидационной выборке:\", best_result_3)"
   ]
  },
  {
   "cell_type": "markdown",
   "metadata": {},
   "source": [
    "Точность во всех моделях, кроме регресиии снизилась. В модели регрессии точность не изменилась. Проверим другие метрики. И сравним с метриками, полученными с помощью upsample.\n",
    "\n",
    "Предыдущие значения:\n",
    "Полнота лес 0.6650717703349283\n",
    "Точность лес 0.5673469387755102\n",
    "F1-мера лес 0.6123348017621146\n",
    "AUC-ROC лес 0.7655320924999546"
   ]
  },
  {
   "cell_type": "code",
   "execution_count": 17,
   "metadata": {},
   "outputs": [
    {
     "name": "stdout",
     "output_type": "stream",
     "text": [
      "Полнота 0.6737588652482269\n",
      "Точность 0.504424778761062\n",
      "F1-мера 0.576923076923077\n",
      "AUC-ROC 0.7481032753634921\n"
     ]
    }
   ],
   "source": [
    "print(\"Полнота\" , recall_score(target_test, forest_model_down.predict(features_test)))\n",
    "print(\"Точность\", precision_score(target_test, forest_model_down.predict(features_test)))\n",
    "print(\"F1-мера\", f1_score(target_test, forest_model_down.predict(features_test)))\n",
    "print(\"AUC-ROC\", roc_auc_score(target_test, forest_model_down.predict(features_test)))"
   ]
  },
  {
   "cell_type": "markdown",
   "metadata": {},
   "source": [
    "Значительно ухудшилась точность, а также f1-мера теперь не входит в удовлетворящие условию значения. Очевидно,метод upsmpling удачнее. Это ожидаемо, учитывая не очень большое количество строк в исходной таблице. Данный метод лучше использовать при очень большом количестве строк."
   ]
  },
  {
   "cell_type": "markdown",
   "metadata": {},
   "source": [
    "## Тестирование модели"
   ]
  },
  {
   "cell_type": "markdown",
   "metadata": {},
   "source": [
    "Проверим модель на тестовой выборке."
   ]
  },
  {
   "cell_type": "code",
   "execution_count": 18,
   "metadata": {},
   "outputs": [
    {
     "name": "stdout",
     "output_type": "stream",
     "text": [
      "Полнота 0.6524822695035462\n",
      "Точность 0.5411764705882353\n",
      "F1-мера 0.5916398713826367\n",
      "AUC-ROC 0.7520496318982537\n"
     ]
    }
   ],
   "source": [
    "print(\"Полнота\" , recall_score(target_test, forest_model.predict(features_test)))\n",
    "print(\"Точность\", precision_score(target_test, forest_model.predict(features_test)))\n",
    "print(\"F1-мера\", f1_score(target_test, forest_model.predict(features_test)))\n",
    "print(\"AUC-ROC\", roc_auc_score(target_test, forest_model.predict(features_test)))"
   ]
  },
  {
   "cell_type": "markdown",
   "metadata": {},
   "source": [
    "F1 на тестовой выборке 0.59, что удовлетворяет поставленной задаче."
   ]
  },
  {
   "cell_type": "markdown",
   "metadata": {},
   "source": [
    "### Вывод"
   ]
  },
  {
   "cell_type": "markdown",
   "metadata": {},
   "source": [
    "1. Мы обработали первоначальные данные, удалив лишнюю информаию и обработав категориальные переменные методом OHE, а количественные масштабированием. \n",
    "\n",
    "2. Мы обучили и протестировали модели на получившейся выборке без учета дизбаланса.\n",
    "\n",
    "3. Мы увидели  дисбаланс классов в пропорции 1:4 в пользу отрицательных и устранили его методом upsampling, увеличив количество элеиентов положитедьного класса в 4 раза. Также попробовали устранить его методом downsampling, но это не принесло желаемых результатов.\n",
    "\n",
    "4. С использованием обновленных данных, метрики исследования улучшились и достигли требуемых заданием величин. Лучшей моделью оказался алгоритм случайного леса, с показателями Полнота 0.6722488038277512, Точность 0.5676767676767677, F1-мера 0.615553121577218, AUC-ROC 0.7684884979947859 при параметрах max_depth=8, n_estimators=40.\n",
    "\n",
    "5. Результаты работы модели с тестовой выборкой так же удовлетворили условию. А именно: Полнота 0.6643026004728132 Точность 0.5676767676767677 F1-мера 0.6122004357298474 AUC-ROC 0.7643009514729316\n",
    "\n",
    "Значение метрики f1 говорит о том, что модель показывает адекватные результаты. Достаточно высокий показатель полноты говорит о том, что модель достаточно хорошо предсказывает уход клиента, если он произойдет. При этом показатель точности ниже, хоть и выше 0.5. Это означает, что ошибочных предсказаний об уходе будет достаточно много. При этом показатель AUC-ROC значительно выше 0.5, что говорит о том, что модель намного качественнее случайной. Вероятно, более точное предсказание реального ухода клиента важнее, чем ошибочное предсказание о его уходе. "
   ]
  },
  {
   "cell_type": "markdown",
   "metadata": {},
   "source": [
    "## Чек-лист готовности проекта"
   ]
  },
  {
   "cell_type": "markdown",
   "metadata": {},
   "source": [
    "Поставьте 'x' в выполненных пунктах. Далее нажмите Shift+Enter."
   ]
  },
  {
   "cell_type": "markdown",
   "metadata": {},
   "source": [
    "- [x]  Jupyter Notebook открыт\n",
    "- [х]  Весь код выполняется без ошибок\n",
    "- [х]  Ячейки с кодом расположены в порядке исполнения\n",
    "- [х]  Выполнен шаг 1: данные подготовлены\n",
    "- [х]  Выполнен шаг 2: задача исследована\n",
    "    - [х]  Исследован баланс классов\n",
    "    - [х]  Изучены модели без учёта дисбаланса\n",
    "    - [х]  Написаны выводы по результатам исследования\n",
    "- [х]  Выполнен шаг 3: учтён дисбаланс\n",
    "    - [х]  Применено несколько способов борьбы с дисбалансом\n",
    "    - [х]  Написаны выводы по результатам исследования\n",
    "- [х]  Выполнен шаг 4: проведено тестирование\n",
    "- [х]  Удалось достичь *F1*-меры не менее 0.59\n",
    "- [х]  Исследована метрика *AUC-ROC*"
   ]
  },
  {
   "cell_type": "code",
   "execution_count": null,
   "metadata": {},
   "outputs": [],
   "source": []
  }
 ],
 "metadata": {
  "ExecuteTimeLog": [
   {
    "duration": 1075,
    "start_time": "2022-11-17T08:13:56.547Z"
   },
   {
    "duration": 90,
    "start_time": "2022-11-17T08:14:17.579Z"
   },
   {
    "duration": 70,
    "start_time": "2022-11-17T08:14:28.007Z"
   },
   {
    "duration": 94,
    "start_time": "2022-11-17T08:14:33.691Z"
   },
   {
    "duration": 150,
    "start_time": "2022-11-17T08:15:23.883Z"
   },
   {
    "duration": 53,
    "start_time": "2022-11-17T08:15:29.103Z"
   },
   {
    "duration": 61,
    "start_time": "2022-11-17T08:15:36.511Z"
   },
   {
    "duration": 62,
    "start_time": "2022-11-17T08:17:36.887Z"
   },
   {
    "duration": 56,
    "start_time": "2022-11-17T08:17:48.947Z"
   },
   {
    "duration": 58,
    "start_time": "2022-11-17T08:18:31.427Z"
   },
   {
    "duration": 63,
    "start_time": "2022-11-17T08:19:43.519Z"
   },
   {
    "duration": 8,
    "start_time": "2022-11-17T08:22:25.047Z"
   },
   {
    "duration": 10,
    "start_time": "2022-11-17T08:23:14.363Z"
   },
   {
    "duration": 9,
    "start_time": "2022-11-17T08:23:38.875Z"
   },
   {
    "duration": 68,
    "start_time": "2022-11-17T08:26:05.807Z"
   },
   {
    "duration": 64,
    "start_time": "2022-11-17T08:26:22.275Z"
   },
   {
    "duration": 66,
    "start_time": "2022-11-17T08:26:53.863Z"
   },
   {
    "duration": 68,
    "start_time": "2022-11-17T08:27:03.603Z"
   },
   {
    "duration": 69,
    "start_time": "2022-11-17T08:27:50.031Z"
   },
   {
    "duration": 68,
    "start_time": "2022-11-17T08:28:03.916Z"
   },
   {
    "duration": 11,
    "start_time": "2022-11-17T08:28:07.508Z"
   },
   {
    "duration": 5,
    "start_time": "2022-11-17T08:32:17.707Z"
   },
   {
    "duration": 9,
    "start_time": "2022-11-17T08:33:04.356Z"
   },
   {
    "duration": 10,
    "start_time": "2022-11-17T08:33:34.615Z"
   },
   {
    "duration": 10,
    "start_time": "2022-11-17T08:34:14.167Z"
   },
   {
    "duration": 16,
    "start_time": "2022-11-17T08:34:52.595Z"
   },
   {
    "duration": 20,
    "start_time": "2022-11-17T08:36:33.564Z"
   },
   {
    "duration": 3,
    "start_time": "2022-11-17T08:36:38.311Z"
   },
   {
    "duration": 35,
    "start_time": "2022-11-17T08:36:42.032Z"
   },
   {
    "duration": 40,
    "start_time": "2022-11-17T08:37:37.875Z"
   },
   {
    "duration": 47,
    "start_time": "2022-11-17T08:37:52.711Z"
   },
   {
    "duration": 60,
    "start_time": "2022-11-17T08:38:37.203Z"
   },
   {
    "duration": 58,
    "start_time": "2022-11-17T08:38:46.084Z"
   },
   {
    "duration": 67,
    "start_time": "2022-11-17T08:39:25.428Z"
   },
   {
    "duration": 5,
    "start_time": "2022-11-17T08:39:53.758Z"
   },
   {
    "duration": 57,
    "start_time": "2022-11-17T08:39:55.355Z"
   },
   {
    "duration": 13,
    "start_time": "2022-11-17T08:40:08.720Z"
   },
   {
    "duration": 66,
    "start_time": "2022-11-17T08:40:39.023Z"
   },
   {
    "duration": 12,
    "start_time": "2022-11-17T08:40:41.243Z"
   },
   {
    "duration": 10,
    "start_time": "2022-11-17T08:41:11.507Z"
   },
   {
    "duration": 58,
    "start_time": "2022-11-17T08:44:47.011Z"
   },
   {
    "duration": 59,
    "start_time": "2022-11-17T08:51:19.994Z"
   },
   {
    "duration": 12,
    "start_time": "2022-11-17T09:00:23.682Z"
   },
   {
    "duration": 11,
    "start_time": "2022-11-17T09:00:26.182Z"
   },
   {
    "duration": 10,
    "start_time": "2022-11-17T09:02:18.558Z"
   },
   {
    "duration": 54,
    "start_time": "2022-11-17T09:05:40.793Z"
   },
   {
    "duration": 3,
    "start_time": "2022-11-17T09:11:06.334Z"
   },
   {
    "duration": 1087,
    "start_time": "2022-11-17T10:24:54.456Z"
   },
   {
    "duration": 68,
    "start_time": "2022-11-17T10:24:55.545Z"
   },
   {
    "duration": 13,
    "start_time": "2022-11-17T10:24:55.614Z"
   },
   {
    "duration": 22,
    "start_time": "2022-11-17T10:24:55.629Z"
   },
   {
    "duration": 10,
    "start_time": "2022-11-17T10:24:55.653Z"
   },
   {
    "duration": 55,
    "start_time": "2022-11-17T10:24:55.664Z"
   },
   {
    "duration": 1103,
    "start_time": "2022-11-17T10:26:19.047Z"
   },
   {
    "duration": 66,
    "start_time": "2022-11-17T10:26:20.151Z"
   },
   {
    "duration": 13,
    "start_time": "2022-11-17T10:26:20.219Z"
   },
   {
    "duration": 18,
    "start_time": "2022-11-17T10:26:20.234Z"
   },
   {
    "duration": 14,
    "start_time": "2022-11-17T10:26:20.254Z"
   },
   {
    "duration": 56,
    "start_time": "2022-11-17T10:26:20.270Z"
   },
   {
    "duration": 22626,
    "start_time": "2022-11-17T10:26:20.328Z"
   },
   {
    "duration": 6326,
    "start_time": "2022-11-17T10:27:12.327Z"
   },
   {
    "duration": 9,
    "start_time": "2022-11-17T10:29:37.251Z"
   },
   {
    "duration": 11,
    "start_time": "2022-11-17T10:29:52.511Z"
   },
   {
    "duration": 7,
    "start_time": "2022-11-17T10:30:10.854Z"
   },
   {
    "duration": 5,
    "start_time": "2022-11-17T10:37:38.522Z"
   },
   {
    "duration": 93,
    "start_time": "2022-11-17T10:37:46.114Z"
   },
   {
    "duration": 6,
    "start_time": "2022-11-17T10:38:02.613Z"
   },
   {
    "duration": 9,
    "start_time": "2022-11-17T10:44:03.600Z"
   },
   {
    "duration": 10,
    "start_time": "2022-11-17T10:44:43.484Z"
   },
   {
    "duration": 6,
    "start_time": "2022-11-17T10:45:17.740Z"
   },
   {
    "duration": 11,
    "start_time": "2022-11-17T10:45:30.416Z"
   },
   {
    "duration": 13,
    "start_time": "2022-11-17T10:45:54.379Z"
   },
   {
    "duration": 6,
    "start_time": "2022-11-17T10:46:02.225Z"
   },
   {
    "duration": 28,
    "start_time": "2022-11-17T10:46:15.224Z"
   },
   {
    "duration": 27,
    "start_time": "2022-11-17T10:46:29.175Z"
   },
   {
    "duration": 68,
    "start_time": "2022-11-17T10:52:45.960Z"
   },
   {
    "duration": 31,
    "start_time": "2022-11-17T10:52:51.856Z"
   },
   {
    "duration": 72,
    "start_time": "2022-11-17T10:58:36.611Z"
   },
   {
    "duration": 8,
    "start_time": "2022-11-17T10:58:42.107Z"
   },
   {
    "duration": 6196,
    "start_time": "2022-11-17T10:59:55.064Z"
   },
   {
    "duration": 6729,
    "start_time": "2022-11-17T11:01:22.457Z"
   },
   {
    "duration": 10,
    "start_time": "2022-11-17T11:02:34.399Z"
   },
   {
    "duration": 6265,
    "start_time": "2022-11-17T11:02:39.287Z"
   },
   {
    "duration": 95,
    "start_time": "2022-11-17T11:02:45.557Z"
   },
   {
    "duration": 13,
    "start_time": "2022-11-17T11:02:45.654Z"
   },
   {
    "duration": 18,
    "start_time": "2022-11-17T11:28:07.769Z"
   },
   {
    "duration": 4,
    "start_time": "2022-11-17T11:28:13.322Z"
   },
   {
    "duration": 16,
    "start_time": "2022-11-17T11:28:17.727Z"
   },
   {
    "duration": 11505,
    "start_time": "2022-11-17T11:29:59.354Z"
   },
   {
    "duration": 1112,
    "start_time": "2022-11-17T11:30:13.655Z"
   },
   {
    "duration": 70,
    "start_time": "2022-11-17T11:30:14.768Z"
   },
   {
    "duration": 12,
    "start_time": "2022-11-17T11:30:14.840Z"
   },
   {
    "duration": 11,
    "start_time": "2022-11-17T11:30:14.854Z"
   },
   {
    "duration": 13,
    "start_time": "2022-11-17T11:30:14.866Z"
   },
   {
    "duration": 78,
    "start_time": "2022-11-17T11:30:14.880Z"
   },
   {
    "duration": 6295,
    "start_time": "2022-11-17T11:30:14.960Z"
   },
   {
    "duration": 96,
    "start_time": "2022-11-17T11:30:21.256Z"
   },
   {
    "duration": 125,
    "start_time": "2022-11-17T11:30:21.354Z"
   },
   {
    "duration": 12001,
    "start_time": "2022-11-17T11:30:21.554Z"
   },
   {
    "duration": 12299,
    "start_time": "2022-11-17T11:33:21.154Z"
   },
   {
    "duration": 16,
    "start_time": "2022-11-17T11:34:14.146Z"
   },
   {
    "duration": 14,
    "start_time": "2022-11-17T11:34:23.202Z"
   },
   {
    "duration": 12,
    "start_time": "2022-11-17T11:34:26.854Z"
   },
   {
    "duration": 8302,
    "start_time": "2022-11-17T11:34:31.854Z"
   },
   {
    "duration": 6,
    "start_time": "2022-11-17T11:38:39.885Z"
   },
   {
    "duration": 29,
    "start_time": "2022-11-17T11:39:55.437Z"
   },
   {
    "duration": 21,
    "start_time": "2022-11-17T11:40:43.082Z"
   },
   {
    "duration": 12,
    "start_time": "2022-11-17T11:40:56.702Z"
   },
   {
    "duration": 14,
    "start_time": "2022-11-17T11:41:19.545Z"
   },
   {
    "duration": 12,
    "start_time": "2022-11-17T11:42:11.310Z"
   },
   {
    "duration": 24,
    "start_time": "2022-11-17T11:42:51.292Z"
   },
   {
    "duration": 23,
    "start_time": "2022-11-17T11:43:03.209Z"
   },
   {
    "duration": 34,
    "start_time": "2022-11-17T11:43:32.098Z"
   },
   {
    "duration": 30,
    "start_time": "2022-11-17T11:43:49.524Z"
   },
   {
    "duration": 147,
    "start_time": "2022-11-17T11:44:22.954Z"
   },
   {
    "duration": 39,
    "start_time": "2022-11-17T11:44:36.417Z"
   },
   {
    "duration": 36,
    "start_time": "2022-11-17T11:44:59.825Z"
   },
   {
    "duration": 1227,
    "start_time": "2022-11-17T11:45:16.445Z"
   },
   {
    "duration": 69,
    "start_time": "2022-11-17T11:45:17.674Z"
   },
   {
    "duration": 14,
    "start_time": "2022-11-17T11:45:17.745Z"
   },
   {
    "duration": 30,
    "start_time": "2022-11-17T11:45:17.761Z"
   },
   {
    "duration": 11,
    "start_time": "2022-11-17T11:45:17.793Z"
   },
   {
    "duration": 73,
    "start_time": "2022-11-17T11:45:17.806Z"
   },
   {
    "duration": 7092,
    "start_time": "2022-11-17T11:45:17.880Z"
   },
   {
    "duration": 10,
    "start_time": "2022-11-17T11:45:25.053Z"
   },
   {
    "duration": 44,
    "start_time": "2022-11-17T11:45:25.065Z"
   },
   {
    "duration": 142,
    "start_time": "2022-11-17T11:45:25.160Z"
   },
   {
    "duration": 9208,
    "start_time": "2022-11-17T11:45:25.304Z"
   },
   {
    "duration": 13,
    "start_time": "2022-11-17T11:46:47.517Z"
   },
   {
    "duration": 74,
    "start_time": "2022-11-17T11:46:53.409Z"
   },
   {
    "duration": 15,
    "start_time": "2022-11-17T11:46:57.097Z"
   },
   {
    "duration": 12,
    "start_time": "2022-11-17T11:48:06.533Z"
   },
   {
    "duration": 79,
    "start_time": "2022-11-17T11:48:10.162Z"
   },
   {
    "duration": 78,
    "start_time": "2022-11-17T11:48:15.089Z"
   },
   {
    "duration": 19,
    "start_time": "2022-11-17T11:48:18.564Z"
   },
   {
    "duration": 8842,
    "start_time": "2022-11-17T11:52:41.444Z"
   },
   {
    "duration": 110,
    "start_time": "2022-11-17T11:56:20.489Z"
   },
   {
    "duration": 19,
    "start_time": "2022-11-17T11:58:21.982Z"
   },
   {
    "duration": 191,
    "start_time": "2022-11-17T12:00:00.070Z"
   },
   {
    "duration": 195,
    "start_time": "2022-11-17T12:00:45.074Z"
   },
   {
    "duration": 191,
    "start_time": "2022-11-17T12:01:33.577Z"
   },
   {
    "duration": 1139,
    "start_time": "2022-11-17T12:01:53.971Z"
   },
   {
    "duration": 78,
    "start_time": "2022-11-17T12:01:55.112Z"
   },
   {
    "duration": 12,
    "start_time": "2022-11-17T12:01:55.192Z"
   },
   {
    "duration": 22,
    "start_time": "2022-11-17T12:01:55.206Z"
   },
   {
    "duration": 22,
    "start_time": "2022-11-17T12:01:55.230Z"
   },
   {
    "duration": 66,
    "start_time": "2022-11-17T12:01:55.254Z"
   },
   {
    "duration": 6632,
    "start_time": "2022-11-17T12:01:55.322Z"
   },
   {
    "duration": 301,
    "start_time": "2022-11-17T12:02:01.959Z"
   },
   {
    "duration": 90,
    "start_time": "2022-11-17T12:02:02.263Z"
   },
   {
    "duration": 106,
    "start_time": "2022-11-17T12:02:02.356Z"
   },
   {
    "duration": 99,
    "start_time": "2022-11-17T12:02:02.464Z"
   },
   {
    "duration": 9199,
    "start_time": "2022-11-17T12:02:02.566Z"
   },
   {
    "duration": 302,
    "start_time": "2022-11-17T12:02:11.865Z"
   },
   {
    "duration": 80,
    "start_time": "2022-11-17T12:13:32.286Z"
   },
   {
    "duration": 106,
    "start_time": "2022-11-17T12:15:35.822Z"
   },
   {
    "duration": 46,
    "start_time": "2022-11-18T09:20:29.940Z"
   },
   {
    "duration": 1051,
    "start_time": "2022-11-18T09:20:34.849Z"
   },
   {
    "duration": 207,
    "start_time": "2022-11-18T09:20:37.244Z"
   },
   {
    "duration": 3,
    "start_time": "2022-11-18T09:20:40.000Z"
   },
   {
    "duration": 13,
    "start_time": "2022-11-18T09:20:47.848Z"
   },
   {
    "duration": 12,
    "start_time": "2022-11-18T09:20:51.972Z"
   },
   {
    "duration": 10,
    "start_time": "2022-11-18T09:20:54.364Z"
   },
   {
    "duration": 52,
    "start_time": "2022-11-18T09:20:56.780Z"
   },
   {
    "duration": 6448,
    "start_time": "2022-11-18T09:21:00.876Z"
   },
   {
    "duration": 177,
    "start_time": "2022-11-18T09:21:20.748Z"
   },
   {
    "duration": 190,
    "start_time": "2022-11-18T09:21:40.328Z"
   },
   {
    "duration": 212,
    "start_time": "2022-11-18T09:23:22.008Z"
   },
   {
    "duration": 333,
    "start_time": "2022-11-18T09:23:30.183Z"
   },
   {
    "duration": 6,
    "start_time": "2022-11-18T09:23:41.972Z"
   },
   {
    "duration": 32,
    "start_time": "2022-11-18T09:23:46.540Z"
   },
   {
    "duration": 13,
    "start_time": "2022-11-18T09:23:55.639Z"
   },
   {
    "duration": 8660,
    "start_time": "2022-11-18T09:23:59.664Z"
   },
   {
    "duration": 145,
    "start_time": "2022-11-18T09:24:54.780Z"
   },
   {
    "duration": 8637,
    "start_time": "2022-11-18T09:25:08.604Z"
   },
   {
    "duration": 170,
    "start_time": "2022-11-18T09:25:55.753Z"
   },
   {
    "duration": 221,
    "start_time": "2022-11-18T09:26:15.396Z"
   },
   {
    "duration": 50,
    "start_time": "2022-11-18T09:26:39.460Z"
   },
   {
    "duration": 50,
    "start_time": "2022-11-18T09:50:55.208Z"
   },
   {
    "duration": 3,
    "start_time": "2022-11-18T09:50:58.643Z"
   },
   {
    "duration": 11,
    "start_time": "2022-11-18T09:51:46.204Z"
   },
   {
    "duration": 13,
    "start_time": "2022-11-18T09:51:56.704Z"
   },
   {
    "duration": 70,
    "start_time": "2022-11-18T09:53:31.108Z"
   },
   {
    "duration": 3993,
    "start_time": "2022-11-18T09:53:56.356Z"
   },
   {
    "duration": 54,
    "start_time": "2022-11-18T09:54:56.740Z"
   },
   {
    "duration": 28,
    "start_time": "2022-11-18T09:55:23.329Z"
   },
   {
    "duration": 1077,
    "start_time": "2022-11-18T10:05:19.522Z"
   },
   {
    "duration": 71,
    "start_time": "2022-11-18T10:05:20.601Z"
   },
   {
    "duration": 4,
    "start_time": "2022-11-18T10:05:20.673Z"
   },
   {
    "duration": 15,
    "start_time": "2022-11-18T10:05:20.679Z"
   },
   {
    "duration": 11,
    "start_time": "2022-11-18T10:05:20.696Z"
   },
   {
    "duration": 15,
    "start_time": "2022-11-18T10:05:20.708Z"
   },
   {
    "duration": 55,
    "start_time": "2022-11-18T10:05:20.724Z"
   },
   {
    "duration": 6734,
    "start_time": "2022-11-18T10:05:20.781Z"
   },
   {
    "duration": 502,
    "start_time": "2022-11-18T10:05:27.518Z"
   },
   {
    "duration": 99,
    "start_time": "2022-11-18T10:05:28.023Z"
   },
   {
    "duration": 123,
    "start_time": "2022-11-18T10:05:28.124Z"
   },
   {
    "duration": 107,
    "start_time": "2022-11-18T10:05:28.316Z"
   },
   {
    "duration": 8491,
    "start_time": "2022-11-18T10:05:28.425Z"
   },
   {
    "duration": 496,
    "start_time": "2022-11-18T10:05:36.920Z"
   },
   {
    "duration": 105,
    "start_time": "2022-11-18T10:05:37.418Z"
   },
   {
    "duration": 4108,
    "start_time": "2022-11-18T10:05:37.525Z"
   },
   {
    "duration": 196,
    "start_time": "2022-11-18T10:05:41.636Z"
   },
   {
    "duration": 26,
    "start_time": "2022-11-18T10:05:41.833Z"
   },
   {
    "duration": 1021,
    "start_time": "2022-11-18T10:07:07.072Z"
   },
   {
    "duration": 70,
    "start_time": "2022-11-18T10:07:08.095Z"
   },
   {
    "duration": 3,
    "start_time": "2022-11-18T10:07:08.166Z"
   },
   {
    "duration": 22,
    "start_time": "2022-11-18T10:07:08.172Z"
   },
   {
    "duration": 14,
    "start_time": "2022-11-18T10:07:08.196Z"
   },
   {
    "duration": 10,
    "start_time": "2022-11-18T10:07:08.212Z"
   },
   {
    "duration": 53,
    "start_time": "2022-11-18T10:07:08.223Z"
   },
   {
    "duration": 6442,
    "start_time": "2022-11-18T10:07:08.278Z"
   },
   {
    "duration": 402,
    "start_time": "2022-11-18T10:07:14.721Z"
   },
   {
    "duration": 94,
    "start_time": "2022-11-18T10:07:15.126Z"
   },
   {
    "duration": 191,
    "start_time": "2022-11-18T10:07:15.225Z"
   },
   {
    "duration": 104,
    "start_time": "2022-11-18T10:07:15.422Z"
   },
   {
    "duration": 8688,
    "start_time": "2022-11-18T10:07:15.527Z"
   },
   {
    "duration": 303,
    "start_time": "2022-11-18T10:07:24.218Z"
   },
   {
    "duration": 103,
    "start_time": "2022-11-18T10:07:24.523Z"
   },
   {
    "duration": 4164,
    "start_time": "2022-11-18T10:07:24.628Z"
   },
   {
    "duration": 0,
    "start_time": "2022-11-18T10:07:28.794Z"
   },
   {
    "duration": 0,
    "start_time": "2022-11-18T10:07:28.796Z"
   },
   {
    "duration": 1146,
    "start_time": "2022-11-18T10:09:01.505Z"
   },
   {
    "duration": 74,
    "start_time": "2022-11-18T10:09:02.653Z"
   },
   {
    "duration": 3,
    "start_time": "2022-11-18T10:09:02.729Z"
   },
   {
    "duration": 15,
    "start_time": "2022-11-18T10:09:02.734Z"
   },
   {
    "duration": 12,
    "start_time": "2022-11-18T10:09:02.751Z"
   },
   {
    "duration": 10,
    "start_time": "2022-11-18T10:09:02.764Z"
   },
   {
    "duration": 80,
    "start_time": "2022-11-18T10:09:02.776Z"
   },
   {
    "duration": 6481,
    "start_time": "2022-11-18T10:09:02.858Z"
   },
   {
    "duration": 302,
    "start_time": "2022-11-18T10:09:09.417Z"
   },
   {
    "duration": 96,
    "start_time": "2022-11-18T10:09:09.723Z"
   },
   {
    "duration": 194,
    "start_time": "2022-11-18T10:09:09.821Z"
   },
   {
    "duration": 15,
    "start_time": "2022-11-18T10:09:10.017Z"
   },
   {
    "duration": 8694,
    "start_time": "2022-11-18T10:09:10.033Z"
   },
   {
    "duration": 490,
    "start_time": "2022-11-18T10:09:18.730Z"
   },
   {
    "duration": 105,
    "start_time": "2022-11-18T10:09:19.222Z"
   },
   {
    "duration": 4187,
    "start_time": "2022-11-18T10:09:19.329Z"
   },
   {
    "duration": 123,
    "start_time": "2022-11-18T10:09:23.519Z"
   },
   {
    "duration": 52,
    "start_time": "2022-11-18T10:09:23.715Z"
   },
   {
    "duration": 45,
    "start_time": "2022-12-01T10:54:29.281Z"
   },
   {
    "duration": 1074,
    "start_time": "2022-12-01T10:54:43.994Z"
   },
   {
    "duration": 189,
    "start_time": "2022-12-01T10:54:45.070Z"
   },
   {
    "duration": 3,
    "start_time": "2022-12-01T10:54:45.261Z"
   },
   {
    "duration": 14,
    "start_time": "2022-12-01T10:54:45.266Z"
   },
   {
    "duration": 11,
    "start_time": "2022-12-01T10:54:45.281Z"
   },
   {
    "duration": 12,
    "start_time": "2022-12-01T10:54:45.294Z"
   },
   {
    "duration": 77,
    "start_time": "2022-12-01T10:54:45.308Z"
   },
   {
    "duration": 6295,
    "start_time": "2022-12-01T10:54:45.386Z"
   },
   {
    "duration": 400,
    "start_time": "2022-12-01T10:54:51.683Z"
   },
   {
    "duration": 94,
    "start_time": "2022-12-01T10:54:52.087Z"
   },
   {
    "duration": 118,
    "start_time": "2022-12-01T10:54:52.183Z"
   },
   {
    "duration": 103,
    "start_time": "2022-12-01T10:54:52.377Z"
   },
   {
    "duration": 8335,
    "start_time": "2022-12-01T10:54:52.481Z"
   },
   {
    "duration": 270,
    "start_time": "2022-12-01T10:55:00.818Z"
   },
   {
    "duration": 104,
    "start_time": "2022-12-01T10:55:01.181Z"
   },
   {
    "duration": 4015,
    "start_time": "2022-12-01T10:55:01.286Z"
   },
   {
    "duration": 189,
    "start_time": "2022-12-01T10:55:05.305Z"
   },
   {
    "duration": 46,
    "start_time": "2022-12-01T10:55:05.496Z"
   }
  ],
  "kernelspec": {
   "display_name": "Python 3",
   "language": "python",
   "name": "python3"
  },
  "language_info": {
   "codemirror_mode": {
    "name": "ipython",
    "version": 3
   },
   "file_extension": ".py",
   "mimetype": "text/x-python",
   "name": "python",
   "nbconvert_exporter": "python",
   "pygments_lexer": "ipython3",
   "version": "3.8.3"
  },
  "toc": {
   "base_numbering": 1,
   "nav_menu": {},
   "number_sections": true,
   "sideBar": true,
   "skip_h1_title": true,
   "title_cell": "Содержание",
   "title_sidebar": "Contents",
   "toc_cell": true,
   "toc_position": {},
   "toc_section_display": true,
   "toc_window_display": false
  }
 },
 "nbformat": 4,
 "nbformat_minor": 2
}

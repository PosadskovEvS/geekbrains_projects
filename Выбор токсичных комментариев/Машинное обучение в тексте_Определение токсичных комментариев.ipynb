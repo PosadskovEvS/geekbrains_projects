{
 "cells": [
  {
   "cell_type": "markdown",
   "metadata": {},
   "source": [
    "# Проект для «Викишоп»"
   ]
  },
  {
   "cell_type": "markdown",
   "metadata": {},
   "source": [
    "Интернет-магазин «Викишоп» запускает новый сервис. Теперь пользователи могут редактировать и дополнять описания товаров, как в вики-сообществах. То есть клиенты предлагают свои правки и комментируют изменения других. Магазину нужен инструмент, который будет искать токсичные комментарии и отправлять их на модерацию. \n",
    "\n",
    "Обучите модель классифицировать комментарии на позитивные и негативные. В вашем распоряжении набор данных с разметкой о токсичности правок.\n",
    "\n",
    "Постройте модель со значением метрики качества *F1* не меньше 0.75. \n",
    "\n",
    "**Инструкция по выполнению проекта**\n",
    "\n",
    "1. Загрузите и подготовьте данные.\n",
    "2. Обучите разные модели. \n",
    "3. Сделайте выводы.\n",
    "\n",
    "Для выполнения проекта применять *BERT* необязательно, но вы можете попробовать.\n",
    "\n",
    "**Описание данных**\n",
    "\n",
    "Данные находятся в файле `toxic_comments.csv`. Столбец *text* в нём содержит текст комментария, а *toxic* — целевой признак."
   ]
  },
  {
   "cell_type": "markdown",
   "metadata": {},
   "source": [
    "## Подготовка"
   ]
  },
  {
   "cell_type": "markdown",
   "metadata": {},
   "source": [
    "Подгружаем необходимые бибилиотеки и фиксируем псевдослучайную последовательность."
   ]
  },
  {
   "cell_type": "code",
   "execution_count": 1,
   "metadata": {},
   "outputs": [
    {
     "name": "stderr",
     "output_type": "stream",
     "text": [
      "[nltk_data] Downloading package stopwords to /home/jovyan/nltk_data...\n",
      "[nltk_data]   Package stopwords is already up-to-date!\n"
     ]
    },
    {
     "name": "stdout",
     "output_type": "stream",
     "text": [
      "Requirement already satisfied: spacy in /opt/conda/lib/python3.9/site-packages (3.2.0)\n",
      "Requirement already satisfied: thinc<8.1.0,>=8.0.12 in /opt/conda/lib/python3.9/site-packages (from spacy) (8.0.17)\n",
      "Requirement already satisfied: numpy>=1.15.0 in /opt/conda/lib/python3.9/site-packages (from spacy) (1.21.1)\n",
      "Requirement already satisfied: wasabi<1.1.0,>=0.8.1 in /opt/conda/lib/python3.9/site-packages (from spacy) (0.10.1)\n",
      "Requirement already satisfied: spacy-legacy<3.1.0,>=3.0.8 in /opt/conda/lib/python3.9/site-packages (from spacy) (3.0.10)\n",
      "Requirement already satisfied: setuptools in /opt/conda/lib/python3.9/site-packages (from spacy) (49.6.0.post20210108)\n",
      "Requirement already satisfied: blis<0.8.0,>=0.4.0 in /opt/conda/lib/python3.9/site-packages (from spacy) (0.7.8)\n",
      "Requirement already satisfied: cymem<2.1.0,>=2.0.2 in /opt/conda/lib/python3.9/site-packages (from spacy) (2.0.6)\n",
      "Requirement already satisfied: requests<3.0.0,>=2.13.0 in /opt/conda/lib/python3.9/site-packages (from spacy) (2.25.1)\n",
      "Requirement already satisfied: packaging>=20.0 in /opt/conda/lib/python3.9/site-packages (from spacy) (21.3)\n",
      "Requirement already satisfied: jinja2 in /opt/conda/lib/python3.9/site-packages (from spacy) (3.0.1)\n",
      "Requirement already satisfied: typer<0.5.0,>=0.3.0 in /opt/conda/lib/python3.9/site-packages (from spacy) (0.4.2)\n",
      "Requirement already satisfied: srsly<3.0.0,>=2.4.1 in /opt/conda/lib/python3.9/site-packages (from spacy) (2.4.4)\n",
      "Requirement already satisfied: preshed<3.1.0,>=3.0.2 in /opt/conda/lib/python3.9/site-packages (from spacy) (3.0.7)\n",
      "Requirement already satisfied: pydantic!=1.8,!=1.8.1,<1.9.0,>=1.7.4 in /opt/conda/lib/python3.9/site-packages (from spacy) (1.8.2)\n",
      "Requirement already satisfied: spacy-loggers<2.0.0,>=1.0.0 in /opt/conda/lib/python3.9/site-packages (from spacy) (1.0.3)\n",
      "Requirement already satisfied: langcodes<4.0.0,>=3.2.0 in /opt/conda/lib/python3.9/site-packages (from spacy) (3.3.0)\n",
      "Requirement already satisfied: tqdm<5.0.0,>=4.38.0 in /opt/conda/lib/python3.9/site-packages (from spacy) (4.61.2)\n",
      "Requirement already satisfied: murmurhash<1.1.0,>=0.28.0 in /opt/conda/lib/python3.9/site-packages (from spacy) (1.0.8)\n",
      "Requirement already satisfied: catalogue<2.1.0,>=2.0.6 in /opt/conda/lib/python3.9/site-packages (from spacy) (2.0.8)\n",
      "Requirement already satisfied: pathy>=0.3.5 in /opt/conda/lib/python3.9/site-packages (from spacy) (0.6.2)\n",
      "Requirement already satisfied: pyparsing!=3.0.5,>=2.0.2 in /opt/conda/lib/python3.9/site-packages (from packaging>=20.0->spacy) (2.4.7)\n",
      "Requirement already satisfied: smart-open<6.0.0,>=5.2.1 in /opt/conda/lib/python3.9/site-packages (from pathy>=0.3.5->spacy) (5.2.1)\n",
      "Requirement already satisfied: typing-extensions>=3.7.4.3 in /opt/conda/lib/python3.9/site-packages (from pydantic!=1.8,!=1.8.1,<1.9.0,>=1.7.4->spacy) (4.3.0)\n",
      "Requirement already satisfied: certifi>=2017.4.17 in /opt/conda/lib/python3.9/site-packages (from requests<3.0.0,>=2.13.0->spacy) (2022.6.15)\n",
      "Requirement already satisfied: urllib3<1.27,>=1.21.1 in /opt/conda/lib/python3.9/site-packages (from requests<3.0.0,>=2.13.0->spacy) (1.26.6)\n",
      "Requirement already satisfied: chardet<5,>=3.0.2 in /opt/conda/lib/python3.9/site-packages (from requests<3.0.0,>=2.13.0->spacy) (4.0.0)\n",
      "Requirement already satisfied: idna<3,>=2.5 in /opt/conda/lib/python3.9/site-packages (from requests<3.0.0,>=2.13.0->spacy) (2.10)\n",
      "Requirement already satisfied: click<9.0.0,>=7.1.1 in /opt/conda/lib/python3.9/site-packages (from typer<0.5.0,>=0.3.0->spacy) (8.1.3)\n",
      "Requirement already satisfied: MarkupSafe>=2.0 in /opt/conda/lib/python3.9/site-packages (from jinja2->spacy) (2.1.1)\n",
      "\u001b[38;5;3m⚠ As of spaCy v3.0, shortcuts like 'en' are deprecated. Please use the\n",
      "full pipeline package name 'en_core_web_sm' instead.\u001b[0m\n",
      "Collecting en-core-web-sm==3.2.0\n",
      "  Downloading https://github.com/explosion/spacy-models/releases/download/en_core_web_sm-3.2.0/en_core_web_sm-3.2.0-py3-none-any.whl (13.9 MB)\n",
      "\u001b[K     |████████████████████████████████| 13.9 MB 44.0 MB/s eta 0:00:01\n",
      "\u001b[?25hRequirement already satisfied: spacy<3.3.0,>=3.2.0 in /opt/conda/lib/python3.9/site-packages (from en-core-web-sm==3.2.0) (3.2.0)\n",
      "Requirement already satisfied: murmurhash<1.1.0,>=0.28.0 in /opt/conda/lib/python3.9/site-packages (from spacy<3.3.0,>=3.2.0->en-core-web-sm==3.2.0) (1.0.8)\n",
      "Requirement already satisfied: langcodes<4.0.0,>=3.2.0 in /opt/conda/lib/python3.9/site-packages (from spacy<3.3.0,>=3.2.0->en-core-web-sm==3.2.0) (3.3.0)\n",
      "Requirement already satisfied: thinc<8.1.0,>=8.0.12 in /opt/conda/lib/python3.9/site-packages (from spacy<3.3.0,>=3.2.0->en-core-web-sm==3.2.0) (8.0.17)\n",
      "Requirement already satisfied: srsly<3.0.0,>=2.4.1 in /opt/conda/lib/python3.9/site-packages (from spacy<3.3.0,>=3.2.0->en-core-web-sm==3.2.0) (2.4.4)\n",
      "Requirement already satisfied: cymem<2.1.0,>=2.0.2 in /opt/conda/lib/python3.9/site-packages (from spacy<3.3.0,>=3.2.0->en-core-web-sm==3.2.0) (2.0.6)\n",
      "Requirement already satisfied: wasabi<1.1.0,>=0.8.1 in /opt/conda/lib/python3.9/site-packages (from spacy<3.3.0,>=3.2.0->en-core-web-sm==3.2.0) (0.10.1)\n",
      "Requirement already satisfied: pydantic!=1.8,!=1.8.1,<1.9.0,>=1.7.4 in /opt/conda/lib/python3.9/site-packages (from spacy<3.3.0,>=3.2.0->en-core-web-sm==3.2.0) (1.8.2)\n",
      "Requirement already satisfied: requests<3.0.0,>=2.13.0 in /opt/conda/lib/python3.9/site-packages (from spacy<3.3.0,>=3.2.0->en-core-web-sm==3.2.0) (2.25.1)\n",
      "Requirement already satisfied: catalogue<2.1.0,>=2.0.6 in /opt/conda/lib/python3.9/site-packages (from spacy<3.3.0,>=3.2.0->en-core-web-sm==3.2.0) (2.0.8)\n",
      "Requirement already satisfied: blis<0.8.0,>=0.4.0 in /opt/conda/lib/python3.9/site-packages (from spacy<3.3.0,>=3.2.0->en-core-web-sm==3.2.0) (0.7.8)\n",
      "Requirement already satisfied: typer<0.5.0,>=0.3.0 in /opt/conda/lib/python3.9/site-packages (from spacy<3.3.0,>=3.2.0->en-core-web-sm==3.2.0) (0.4.2)\n",
      "Requirement already satisfied: jinja2 in /opt/conda/lib/python3.9/site-packages (from spacy<3.3.0,>=3.2.0->en-core-web-sm==3.2.0) (3.0.1)\n",
      "Requirement already satisfied: setuptools in /opt/conda/lib/python3.9/site-packages (from spacy<3.3.0,>=3.2.0->en-core-web-sm==3.2.0) (49.6.0.post20210108)\n",
      "Requirement already satisfied: preshed<3.1.0,>=3.0.2 in /opt/conda/lib/python3.9/site-packages (from spacy<3.3.0,>=3.2.0->en-core-web-sm==3.2.0) (3.0.7)\n",
      "Requirement already satisfied: spacy-legacy<3.1.0,>=3.0.8 in /opt/conda/lib/python3.9/site-packages (from spacy<3.3.0,>=3.2.0->en-core-web-sm==3.2.0) (3.0.10)\n",
      "Requirement already satisfied: pathy>=0.3.5 in /opt/conda/lib/python3.9/site-packages (from spacy<3.3.0,>=3.2.0->en-core-web-sm==3.2.0) (0.6.2)\n",
      "Requirement already satisfied: spacy-loggers<2.0.0,>=1.0.0 in /opt/conda/lib/python3.9/site-packages (from spacy<3.3.0,>=3.2.0->en-core-web-sm==3.2.0) (1.0.3)\n",
      "Requirement already satisfied: packaging>=20.0 in /opt/conda/lib/python3.9/site-packages (from spacy<3.3.0,>=3.2.0->en-core-web-sm==3.2.0) (21.3)\n",
      "Requirement already satisfied: tqdm<5.0.0,>=4.38.0 in /opt/conda/lib/python3.9/site-packages (from spacy<3.3.0,>=3.2.0->en-core-web-sm==3.2.0) (4.61.2)\n",
      "Requirement already satisfied: numpy>=1.15.0 in /opt/conda/lib/python3.9/site-packages (from spacy<3.3.0,>=3.2.0->en-core-web-sm==3.2.0) (1.21.1)\n",
      "Requirement already satisfied: pyparsing!=3.0.5,>=2.0.2 in /opt/conda/lib/python3.9/site-packages (from packaging>=20.0->spacy<3.3.0,>=3.2.0->en-core-web-sm==3.2.0) (2.4.7)\n",
      "Requirement already satisfied: smart-open<6.0.0,>=5.2.1 in /opt/conda/lib/python3.9/site-packages (from pathy>=0.3.5->spacy<3.3.0,>=3.2.0->en-core-web-sm==3.2.0) (5.2.1)\n",
      "Requirement already satisfied: typing-extensions>=3.7.4.3 in /opt/conda/lib/python3.9/site-packages (from pydantic!=1.8,!=1.8.1,<1.9.0,>=1.7.4->spacy<3.3.0,>=3.2.0->en-core-web-sm==3.2.0) (4.3.0)\n",
      "Requirement already satisfied: chardet<5,>=3.0.2 in /opt/conda/lib/python3.9/site-packages (from requests<3.0.0,>=2.13.0->spacy<3.3.0,>=3.2.0->en-core-web-sm==3.2.0) (4.0.0)\n",
      "Requirement already satisfied: urllib3<1.27,>=1.21.1 in /opt/conda/lib/python3.9/site-packages (from requests<3.0.0,>=2.13.0->spacy<3.3.0,>=3.2.0->en-core-web-sm==3.2.0) (1.26.6)\n",
      "Requirement already satisfied: idna<3,>=2.5 in /opt/conda/lib/python3.9/site-packages (from requests<3.0.0,>=2.13.0->spacy<3.3.0,>=3.2.0->en-core-web-sm==3.2.0) (2.10)\n",
      "Requirement already satisfied: certifi>=2017.4.17 in /opt/conda/lib/python3.9/site-packages (from requests<3.0.0,>=2.13.0->spacy<3.3.0,>=3.2.0->en-core-web-sm==3.2.0) (2022.6.15)\n",
      "Requirement already satisfied: click<9.0.0,>=7.1.1 in /opt/conda/lib/python3.9/site-packages (from typer<0.5.0,>=0.3.0->spacy<3.3.0,>=3.2.0->en-core-web-sm==3.2.0) (8.1.3)\n",
      "Requirement already satisfied: MarkupSafe>=2.0 in /opt/conda/lib/python3.9/site-packages (from jinja2->spacy<3.3.0,>=3.2.0->en-core-web-sm==3.2.0) (2.1.1)\n",
      "\u001b[38;5;2m✔ Download and installation successful\u001b[0m\n",
      "You can now load the package via spacy.load('en_core_web_sm')\n"
     ]
    }
   ],
   "source": [
    "import pandas as pd \n",
    "import numpy as np \n",
    "import matplotlib.pyplot as plt\n",
    "from sklearn.pipeline import Pipeline\n",
    "import re\n",
    "import nltk\n",
    "from pymystem3 import Mystem\n",
    "from nltk.corpus import stopwords as nltk_stopwords\n",
    "nltk.download('stopwords')\n",
    "stopwords = set(nltk_stopwords.words('english'))\n",
    "from nltk.probability import FreqDist\n",
    "\n",
    "import sys\n",
    "!{sys.executable} -m pip install spacy\n",
    "!{sys.executable} -m spacy download en\n",
    "import spacy\n",
    "\n",
    "import time \n",
    "\n",
    "from sklearn.utils import shuffle\n",
    "from sklearn.metrics import f1_score\n",
    "from sklearn.feature_extraction.text import TfidfVectorizer \n",
    "from sklearn.linear_model import LogisticRegression, SGDClassifier\n",
    "from sklearn.ensemble import RandomForestClassifier\n",
    "from sklearn.model_selection import train_test_split, GridSearchCV, cross_val_score\n",
    "\n",
    "from lightgbm import LGBMClassifier\n",
    "\n",
    "import warnings\n",
    "warnings.filterwarnings('ignore')\n",
    "\n",
    "state = 12345"
   ]
  },
  {
   "cell_type": "markdown",
   "metadata": {},
   "source": [
    "Изучаем данные. Проверяем их на повторы, количество уникальных значений, распределение целевого значения."
   ]
  },
  {
   "cell_type": "code",
   "execution_count": 2,
   "metadata": {},
   "outputs": [
    {
     "data": {
      "text/html": [
       "<div>\n",
       "<style scoped>\n",
       "    .dataframe tbody tr th:only-of-type {\n",
       "        vertical-align: middle;\n",
       "    }\n",
       "\n",
       "    .dataframe tbody tr th {\n",
       "        vertical-align: top;\n",
       "    }\n",
       "\n",
       "    .dataframe thead th {\n",
       "        text-align: right;\n",
       "    }\n",
       "</style>\n",
       "<table border=\"1\" class=\"dataframe\">\n",
       "  <thead>\n",
       "    <tr style=\"text-align: right;\">\n",
       "      <th></th>\n",
       "      <th>Unnamed: 0</th>\n",
       "      <th>text</th>\n",
       "      <th>toxic</th>\n",
       "    </tr>\n",
       "  </thead>\n",
       "  <tbody>\n",
       "    <tr>\n",
       "      <th>105139</th>\n",
       "      <td>105236</td>\n",
       "      <td>Hello \\n\\nGo back to your own country you brit...</td>\n",
       "      <td>1</td>\n",
       "    </tr>\n",
       "    <tr>\n",
       "      <th>92004</th>\n",
       "      <td>92095</td>\n",
       "      <td>\"\\n\\nReply Remove Incorrect Libelous Comment B...</td>\n",
       "      <td>0</td>\n",
       "    </tr>\n",
       "    <tr>\n",
       "      <th>57898</th>\n",
       "      <td>57962</td>\n",
       "      <td>Agreed.  Alan cites Cecil Papers, iv. pp. 394-...</td>\n",
       "      <td>0</td>\n",
       "    </tr>\n",
       "    <tr>\n",
       "      <th>16670</th>\n",
       "      <td>16687</td>\n",
       "      <td>\"\\n\\nNot enough in-line citations\\nPerhaps you...</td>\n",
       "      <td>0</td>\n",
       "    </tr>\n",
       "    <tr>\n",
       "      <th>16029</th>\n",
       "      <td>16046</td>\n",
       "      <td>Fine, I won't do it again. Still, that doesn't...</td>\n",
       "      <td>0</td>\n",
       "    </tr>\n",
       "    <tr>\n",
       "      <th>57293</th>\n",
       "      <td>57354</td>\n",
       "      <td>\"\\n\\nEven so, that does not imply that: Mexico...</td>\n",
       "      <td>0</td>\n",
       "    </tr>\n",
       "    <tr>\n",
       "      <th>16937</th>\n",
       "      <td>16954</td>\n",
       "      <td>\"\\nWell, I see what you are talking about, but...</td>\n",
       "      <td>0</td>\n",
       "    </tr>\n",
       "    <tr>\n",
       "      <th>55007</th>\n",
       "      <td>55068</td>\n",
       "      <td>HELLO RODENT\\nHello there partisan liberal age...</td>\n",
       "      <td>1</td>\n",
       "    </tr>\n",
       "    <tr>\n",
       "      <th>66863</th>\n",
       "      <td>66930</td>\n",
       "      <td>I have removed speedy delete tag per above</td>\n",
       "      <td>0</td>\n",
       "    </tr>\n",
       "    <tr>\n",
       "      <th>42523</th>\n",
       "      <td>42573</td>\n",
       "      <td>Inaccurate pressure/wind graphic \\nThe arrows ...</td>\n",
       "      <td>0</td>\n",
       "    </tr>\n",
       "  </tbody>\n",
       "</table>\n",
       "</div>"
      ],
      "text/plain": [
       "        Unnamed: 0                                               text  toxic\n",
       "105139      105236  Hello \\n\\nGo back to your own country you brit...      1\n",
       "92004        92095  \"\\n\\nReply Remove Incorrect Libelous Comment B...      0\n",
       "57898        57962  Agreed.  Alan cites Cecil Papers, iv. pp. 394-...      0\n",
       "16670        16687  \"\\n\\nNot enough in-line citations\\nPerhaps you...      0\n",
       "16029        16046  Fine, I won't do it again. Still, that doesn't...      0\n",
       "57293        57354  \"\\n\\nEven so, that does not imply that: Mexico...      0\n",
       "16937        16954  \"\\nWell, I see what you are talking about, but...      0\n",
       "55007        55068  HELLO RODENT\\nHello there partisan liberal age...      1\n",
       "66863        66930         I have removed speedy delete tag per above      0\n",
       "42523        42573  Inaccurate pressure/wind graphic \\nThe arrows ...      0"
      ]
     },
     "metadata": {},
     "output_type": "display_data"
    },
    {
     "name": "stdout",
     "output_type": "stream",
     "text": [
      "<class 'pandas.core.frame.DataFrame'>\n",
      "RangeIndex: 159292 entries, 0 to 159291\n",
      "Data columns (total 3 columns):\n",
      " #   Column      Non-Null Count   Dtype \n",
      "---  ------      --------------   ----- \n",
      " 0   Unnamed: 0  159292 non-null  int64 \n",
      " 1   text        159292 non-null  object\n",
      " 2   toxic       159292 non-null  int64 \n",
      "dtypes: int64(2), object(1)\n",
      "memory usage: 3.6+ MB\n"
     ]
    },
    {
     "data": {
      "text/plain": [
       "None"
      ]
     },
     "metadata": {},
     "output_type": "display_data"
    },
    {
     "data": {
      "text/plain": [
       "0"
      ]
     },
     "metadata": {},
     "output_type": "display_data"
    },
    {
     "data": {
      "text/plain": [
       "count    159292.000000\n",
       "mean          0.101612\n",
       "std           0.302139\n",
       "min           0.000000\n",
       "25%           0.000000\n",
       "50%           0.000000\n",
       "75%           0.000000\n",
       "max           1.000000\n",
       "Name: toxic, dtype: float64"
      ]
     },
     "metadata": {},
     "output_type": "display_data"
    },
    {
     "data": {
      "text/plain": [
       "Unnamed: 0    0\n",
       "text          0\n",
       "toxic         0\n",
       "dtype: int64"
      ]
     },
     "metadata": {},
     "output_type": "display_data"
    },
    {
     "data": {
      "text/plain": [
       "2"
      ]
     },
     "metadata": {},
     "output_type": "display_data"
    },
    {
     "data": {
      "text/plain": [
       "0    143106\n",
       "1     16186\n",
       "Name: toxic, dtype: int64"
      ]
     },
     "metadata": {},
     "output_type": "display_data"
    }
   ],
   "source": [
    "data = pd.read_csv('/datasets/toxic_comments.csv')\n",
    "display(data.sample(10))\n",
    "display(data.info())\n",
    "display(data.duplicated().sum())   \n",
    "display(data['toxic'].describe())\n",
    "display(data.isna().sum())\n",
    "display(data['toxic'].nunique())  \n",
    "display(data['toxic'].value_counts())  "
   ]
  },
  {
   "cell_type": "markdown",
   "metadata": {},
   "source": [
    "Видно, что в данных нет пропусков. Но также очевидно, что выборка разбалансирована. Далее необходимо будет учесть этот момент для более качественного обучения моделей."
   ]
  },
  {
   "cell_type": "markdown",
   "metadata": {},
   "source": [
    "Проведем лемматизацию и очистку всех текстов с помощью spacy."
   ]
  },
  {
   "cell_type": "code",
   "execution_count": 3,
   "metadata": {},
   "outputs": [
    {
     "name": "stdout",
     "output_type": "stream",
     "text": [
      "CPU times: user 20min 28s, sys: 5.54 s, total: 20min 34s\n",
      "Wall time: 20min 35s\n"
     ]
    }
   ],
   "source": [
    "%%time\n",
    "nlp = spacy.load('en_core_web_sm', disable=['parser', 'ner'])\n",
    "def lemmatize(text_l):\n",
    "    text_l = text_l.lower()\n",
    "    doc = nlp(text_l)\n",
    "    lemm_text = \" \".join([token.lemma_ for token in doc])\n",
    "    cleared_lemm = re.sub(r'[^a-zA-Z]', ' ', lemm_text) \n",
    "    return (\" \".join(cleared_lemm.split()))\n",
    "\n",
    "\n",
    "data['lemm_text'] = data['text'].apply(lemmatize)\n",
    "data = data.drop(['text'], axis=1)"
   ]
  },
  {
   "cell_type": "markdown",
   "metadata": {},
   "source": [
    "Лемматизация заняла 20 минут, 35 секунд. Далее проверим ее успешность, а также выведем список наиболее употребляемых слов и вихуализируем эти данные."
   ]
  },
  {
   "cell_type": "code",
   "execution_count": 4,
   "metadata": {},
   "outputs": [
    {
     "data": {
      "text/html": [
       "<div>\n",
       "<style scoped>\n",
       "    .dataframe tbody tr th:only-of-type {\n",
       "        vertical-align: middle;\n",
       "    }\n",
       "\n",
       "    .dataframe tbody tr th {\n",
       "        vertical-align: top;\n",
       "    }\n",
       "\n",
       "    .dataframe thead th {\n",
       "        text-align: right;\n",
       "    }\n",
       "</style>\n",
       "<table border=\"1\" class=\"dataframe\">\n",
       "  <thead>\n",
       "    <tr style=\"text-align: right;\">\n",
       "      <th></th>\n",
       "      <th>Unnamed: 0</th>\n",
       "      <th>toxic</th>\n",
       "      <th>lemm_text</th>\n",
       "    </tr>\n",
       "  </thead>\n",
       "  <tbody>\n",
       "    <tr>\n",
       "      <th>110503</th>\n",
       "      <td>110600</td>\n",
       "      <td>0</td>\n",
       "      <td>you currently appear to be engage in an edit w...</td>\n",
       "    </tr>\n",
       "    <tr>\n",
       "      <th>39588</th>\n",
       "      <td>39638</td>\n",
       "      <td>0</td>\n",
       "      <td>the precise definition of race be under disput...</td>\n",
       "    </tr>\n",
       "    <tr>\n",
       "      <th>119990</th>\n",
       "      <td>120095</td>\n",
       "      <td>0</td>\n",
       "      <td>I be not go to rise to the bait that I have to...</td>\n",
       "    </tr>\n",
       "    <tr>\n",
       "      <th>2300</th>\n",
       "      <td>2300</td>\n",
       "      <td>0</td>\n",
       "      <td>interesting only way to keep the pov go be to ...</td>\n",
       "    </tr>\n",
       "    <tr>\n",
       "      <th>62816</th>\n",
       "      <td>62883</td>\n",
       "      <td>0</td>\n",
       "      <td>it be shaka s single minded ambition and deter...</td>\n",
       "    </tr>\n",
       "    <tr>\n",
       "      <th>14640</th>\n",
       "      <td>14656</td>\n",
       "      <td>0</td>\n",
       "      <td>a tag have be place on diminish light band req...</td>\n",
       "    </tr>\n",
       "    <tr>\n",
       "      <th>24556</th>\n",
       "      <td>24579</td>\n",
       "      <td>0</td>\n",
       "      <td>do now what his ministry be and what type of s...</td>\n",
       "    </tr>\n",
       "    <tr>\n",
       "      <th>39577</th>\n",
       "      <td>39627</td>\n",
       "      <td>1</td>\n",
       "      <td>my personal opinion be that you be a fucking w...</td>\n",
       "    </tr>\n",
       "    <tr>\n",
       "      <th>58895</th>\n",
       "      <td>58961</td>\n",
       "      <td>0</td>\n",
       "      <td>thank you for point it out talk contrib</td>\n",
       "    </tr>\n",
       "    <tr>\n",
       "      <th>53448</th>\n",
       "      <td>53509</td>\n",
       "      <td>0</td>\n",
       "      <td>to an article I have create</td>\n",
       "    </tr>\n",
       "  </tbody>\n",
       "</table>\n",
       "</div>"
      ],
      "text/plain": [
       "        Unnamed: 0  toxic                                          lemm_text\n",
       "110503      110600      0  you currently appear to be engage in an edit w...\n",
       "39588        39638      0  the precise definition of race be under disput...\n",
       "119990      120095      0  I be not go to rise to the bait that I have to...\n",
       "2300          2300      0  interesting only way to keep the pov go be to ...\n",
       "62816        62883      0  it be shaka s single minded ambition and deter...\n",
       "14640        14656      0  a tag have be place on diminish light band req...\n",
       "24556        24579      0  do now what his ministry be and what type of s...\n",
       "39577        39627      1  my personal opinion be that you be a fucking w...\n",
       "58895        58961      0            thank you for point it out talk contrib\n",
       "53448        53509      0                        to an article I have create"
      ]
     },
     "metadata": {},
     "output_type": "display_data"
    },
    {
     "name": "stdout",
     "output_type": "stream",
     "text": [
      "<FreqDist with 153774 samples and 10856069 outcomes>\n",
      "         Word  Frequency\n",
      "0          be     526263\n",
      "1         the     496114\n",
      "2          to     297635\n",
      "3           i     279091\n",
      "4          of     224547\n",
      "5         and     223638\n",
      "6         you     219623\n",
      "7           a     216969\n",
      "8        that     161280\n",
      "9         not     159496\n",
      "10         it     148306\n",
      "11         in     145514\n",
      "12       have     121927\n",
      "13         do     115866\n",
      "14        for     102730\n",
      "15       this      97408\n",
      "16         on      89787\n",
      "17         as      77272\n",
      "18    article      74143\n",
      "19       your      63695\n",
      "20       with      59446\n",
      "21         if      58525\n",
      "22       page      57035\n",
      "23         or      53289\n",
      "24        but      50963\n",
      "25  wikipedia      48566\n",
      "26         my      45542\n",
      "27         an      44941\n",
      "28       they      43888\n",
      "29        can      43375\n",
      "30       from      41420\n",
      "31         by      41072\n",
      "32          s      40545\n",
      "33       talk      40386\n",
      "34         at      39473\n",
      "35         he      37205\n",
      "36      about      37092\n",
      "37         so      36523\n",
      "38      would      35903\n",
      "39       what      35829\n"
     ]
    }
   ],
   "source": [
    "display(data.sample(10))\n",
    "\n",
    "#print(pd.Series(' '.join(data.lemm_text).split()).value_counts()[:10])\n",
    "\n",
    "\n",
    "a = data['lemm_text'].str.lower().str.cat(sep=' ')\n",
    "words = nltk.tokenize.word_tokenize(a)\n",
    "word_dist = nltk.FreqDist(words)\n",
    "print (word_dist)\n",
    "\n",
    "\n",
    "rslt = pd.DataFrame(word_dist.most_common(40),\n",
    "                    columns=['Word', 'Frequency'])\n",
    "print(rslt)"
   ]
  },
  {
   "cell_type": "code",
   "execution_count": 5,
   "metadata": {},
   "outputs": [
    {
     "data": {
      "text/plain": [
       "<AxesSubplot:title={'center':'График встречаемости слов'}, xlabel='Word', ylabel='Frequency'>"
      ]
     },
     "execution_count": 5,
     "metadata": {},
     "output_type": "execute_result"
    },
    {
     "data": {
      "image/png": "[encoded data removed]",
      "text/plain": [
       "<Figure size 1080x576 with 1 Axes>"
      ]
     },
     "metadata": {
      "needs_background": "light"
     },
     "output_type": "display_data"
    }
   ],
   "source": [
    "rslt[['Word', 'Frequency']].plot(figsize=(15,8),\n",
    "                                 title='График встречаемости слов',\n",
    "                                 ylabel='Frequency',\n",
    "                                 xlabel='Word',\n",
    "                                 x=\"Word\",\n",
    "                                 y=\"Frequency\",\n",
    "                                 kind=\"bar\",\n",
    "                                 fontsize=15)"
   ]
  },
  {
   "cell_type": "markdown",
   "metadata": {},
   "source": [
    "## Обучение"
   ]
  },
  {
   "cell_type": "markdown",
   "metadata": {},
   "source": [
    "Выделим целевой признак и разделим выборку на тренировочную и тестовую в процпорции 4:1"
   ]
  },
  {
   "cell_type": "code",
   "execution_count": 6,
   "metadata": {},
   "outputs": [],
   "source": [
    "target = data['toxic']\n",
    "features = data.drop(['toxic'], axis=1)\n",
    "\n",
    "features_train, features_test, target_train, target_test = train_test_split(features, \n",
    "                                                                              target, \n",
    "                                                                              test_size=0.2, \n",
    "                                                                              random_state=state, stratify=target)"
   ]
  },
  {
   "cell_type": "markdown",
   "metadata": {},
   "source": [
    "Подсчитаем насколько разбалансированы классы."
   ]
  },
  {
   "cell_type": "code",
   "execution_count": 7,
   "metadata": {},
   "outputs": [],
   "source": [
    "#count_tf_idf = TfidfVectorizer(stop_words=stopwords,  ngram_range=(1, 2)) \n",
    "#features_train = count_tf_idf.fit_transform(features_train['lemm_text'])\n",
    "#features_test = count_tf_idf.transform(features_test['lemm_text'])\n",
    "#print(features_train.shape)\n",
    "#print(features_test.shape)"
   ]
  },
  {
   "cell_type": "code",
   "execution_count": 8,
   "metadata": {},
   "outputs": [
    {
     "data": {
      "text/plain": [
       "8.841146034442815"
      ]
     },
     "metadata": {},
     "output_type": "display_data"
    }
   ],
   "source": [
    "display(target_train.value_counts()[0]/target_train.value_counts()[1])"
   ]
  },
  {
   "cell_type": "markdown",
   "metadata": {},
   "source": [
    "Видно, что соотношение классов примерно равно 8.84. Далее обучим модель логистической регрессии на тренировочной выборке с помощью пайплайн и балансировки классов, посчитаем f1."
   ]
  },
  {
   "cell_type": "code",
   "execution_count": 13,
   "metadata": {},
   "outputs": [
    {
     "name": "stdout",
     "output_type": "stream",
     "text": [
      "{'clf__C': 10, 'clf__class_weight': 'balanced', 'clf__solver': 'lbfgs'}\n",
      "0.7740039301446314\n",
      "CPU times: user 8min 19s, sys: 7min 6s, total: 15min 25s\n",
      "Wall time: 15min 26s\n"
     ]
    }
   ],
   "source": [
    "%%time\n",
    "lr_pipe = Pipeline([\n",
    "    ('tfidf', TfidfVectorizer(ngram_range=(1,2), min_df=3, max_df=0.9, stop_words=stopwords)),\n",
    "    ('clf', LogisticRegression(random_state=state))])\n",
    "\n",
    "params = {'clf__C': [1, 10, 100],\n",
    "          'clf__class_weight': ['balanced'],\n",
    "          'clf__solver' : ['lbfgs', 'liblinear']}\n",
    "\n",
    "lr_grid = GridSearchCV(estimator=lr_pipe, param_grid=params, cv=3, scoring='f1', n_jobs=-1)\n",
    "lr_grid.fit(features_train['lemm_text'], target_train)\n",
    "lr_best_paramms = lr_grid.best_params_\n",
    "\n",
    "print(lr_best_paramms)\n",
    "print(lr_grid.best_score_)\n",
    "print(lr_grid.best_estimator_)"
   ]
  },
  {
   "cell_type": "markdown",
   "metadata": {},
   "source": [
    "Результат на тренировочной выборке получился 0.7740, время обучения 15 минут, 26 секунд."
   ]
  },
  {
   "cell_type": "markdown",
   "metadata": {},
   "source": [
    "<div class=\"alert alert-success\">\n",
    "\n",
    "\n",
    "О pipeline:\n",
    "\n",
    "[Pipeline](https://scikit-learn.org/stable/modules/generated/sklearn.pipeline.Pipeline.html), это тема которая сразу затрагивает кроссвалидацию, тюнинг \"векторайз\", подбор гиперпараметров модели и о том что код стоит делать компактным.\n",
    "    \n",
    "    \n",
    "- в TfidfVectorizer(stop_words=stopwords) у тебя по умолчанию ngram_range=(1, 1), тут можно подбирать разное число n- грамм (и другие параметры), максимизируя метрику, но как объединить перебор по ngram_range с обучением моделей, чтобы не делать это по отдельности или с использованием цикла?! pipeline! Готовый [пример для работы с текстами](https://medium.com/@yoni.levine/how-to-grid-search-with-a-pipeline-93147835d916). Всё что нужно там есть, хотя очень лаконично. Можешь погуглить по:\n",
    "\n",
    "\n",
    "    \n",
    "    pipeline nlp gridsearchcv\n",
    "\n",
    "\n",
    "\n",
    "- как избежать ошибки подглядывания в будущее, когда мы предварительно работаем с данными (шкалирование, нормализация, TfidfVectorizer итп итд)? pipeline! особенно это важно, когда мы используем кроссвалидацию. Для TfidfVectorizer делаем .fit (обучаемся) на train, а transform на test, но точно также нужно сделать для валидационной выборки. Но GS делает валидационные внутри себя, спрашивается как добраться до нее и избежать подглядывания в будущее? Казалось бы никак, но нет! Pipeline! ) \n",
    "    \n",
    "    \n",
    "- pipeline позволяет делать наш код компактней и читабельней, это большой плюс, когда код будет раздуваться     \n",
    "    \n",
    "    \n",
    "\n",
    "         \n",
    "Если раньше не использовалА pipeline то могу посоветовать видео в котором [индус](https://www.youtube.com/watch?v=mOYJCR0IDk8&ab_channel=HimanshuChandra) на английском с сильным акцентом, но на пальцах обьясняет  самое непонятное (по моему опыту): сопряженность методов fit и transform. Там же есть и код и ссылка на текст. Мне помогло )\n",
    "    \n",
    "<div>   "
   ]
  },
  {
   "cell_type": "markdown",
   "metadata": {},
   "source": [
    "Далее обучим модель LGBM на тренировочной выборке с помощью пайплайн и балансировки классов, посчитаем f1."
   ]
  },
  {
   "cell_type": "code",
   "execution_count": 29,
   "metadata": {},
   "outputs": [
    {
     "name": "stdout",
     "output_type": "stream",
     "text": [
      "{'clf__learning_rate': 0.1, 'clf__num_leaves': 100, 'clf__random_state': 12345}\n",
      "0.7735301437876312\n",
      "Pipeline(steps=[('tfidf',\n",
      "                 TfidfVectorizer(max_df=0.9, min_df=3, ngram_range=(1, 2),\n",
      "                                 stop_words={'a', 'about', 'above', 'after',\n",
      "                                             'again', 'against', 'ain', 'all',\n",
      "                                             'am', 'an', 'and', 'any', 'are',\n",
      "                                             'aren', \"aren't\", 'as', 'at', 'be',\n",
      "                                             'because', 'been', 'before',\n",
      "                                             'being', 'below', 'between',\n",
      "                                             'both', 'but', 'by', 'can',\n",
      "                                             'couldn', \"couldn't\", ...})),\n",
      "                ('clf', LGBMClassifier(num_leaves=100, random_state=12345))])\n",
      "CPU times: user 29min 19s, sys: 6.48 s, total: 29min 25s\n",
      "Wall time: 29min 33s\n"
     ]
    }
   ],
   "source": [
    "%%time\n",
    "LGBM_pipe = Pipeline([\n",
    "    ('tfidf', TfidfVectorizer(ngram_range=(1,2), min_df=3, max_df=0.9, stop_words=stopwords)),\n",
    "    ('clf', LGBMClassifier(random_state=state))])\n",
    "\n",
    "params = {'clf__num_leaves':[30, 100],\n",
    "        'clf__random_state' : [state],\n",
    "        'clf__learning_rate' :[0.1]} \n",
    "\n",
    "LGBM_grid = GridSearchCV(estimator=LGBM_pipe, param_grid=params, cv=3, scoring='f1', n_jobs=-1)\n",
    "LGBM_grid.fit(features_train['lemm_text'], target_train)\n",
    "LGBM_best_paramms = LGBM_grid.best_params_\n",
    "\n",
    "print(LGBM_best_paramms)\n",
    "print(LGBM_grid.best_score_)\n",
    "print(LGBM_grid.best_estimator_)"
   ]
  },
  {
   "cell_type": "markdown",
   "metadata": {},
   "source": [
    "Результат метрики 0.7735, время обучения 29 минут, 33 секунды. Результаты у обеих моделей очень близки, хотя модель логистической регрессии обучается примерно в 2 раза быстрее. Есть смысл проверить модели на тестовой выборке, учитывая близость показателей."
   ]
  },
  {
   "cell_type": "code",
   "execution_count": 35,
   "metadata": {},
   "outputs": [
    {
     "name": "stdout",
     "output_type": "stream",
     "text": [
      "Показатель модели логистической регрессии на тестовых данных 0.7844202898550724\n",
      "Показатель модели LGBM на тестовых данных 0.7796726959517657\n"
     ]
    }
   ],
   "source": [
    "model_lr=lr_grid.best_estimator_\n",
    "predict = model_lr.predict(features_test['lemm_text'])\n",
    "test_f1_lr = f1_score(target_test, predict)\n",
    "print('Показатель модели логистической регрессии на тестовых данных', test_f1_lr)\n",
    "\n",
    "model_LGBM=LGBM_grid.best_estimator_\n",
    "predict = model_LGBM.predict(features_test['lemm_text'])\n",
    "test_f1_LGBM = f1_score(target_test, predict)\n",
    "print('Показатель модели LGBM на тестовых данных', test_f1_LGBM)"
   ]
  },
  {
   "cell_type": "markdown",
   "metadata": {},
   "source": [
    "Видно, что показатели на тестовых выборках также очень близки, но все же у логистической регрессии немного лучше: 0.784 против 0.779. Учитывая, что она обучается быстрее, она является лучшей моделью. Также оба показателя удовлетворяют условию (>0,75)"
   ]
  },
  {
   "cell_type": "markdown",
   "metadata": {},
   "source": [
    "## Выводы"
   ]
  },
  {
   "cell_type": "markdown",
   "metadata": {},
   "source": [
    "1. Были изучены и проанализированы входные данные. Мы рассмотрели распределение данных, проанализировали их. Обнаружили разбалансированность классов и устраниили ее.\n",
    "2. Мы обучили 2 разные модели с пайплайном, перебором гиперпараметров и кросс-валидацией, вычислили для каждой из них метрику качества f1 и время обучения и предсказания.\n",
    "3. С учетом условия задачи, лучшей моделью быа выбрана LogisticRegression.\n",
    "4. Для нее был выполнен расчет метрики f1 на тестовой выборке, метрика показала 0.784, что больше 0.75, а значит соответствует условию."
   ]
  },
  {
   "cell_type": "markdown",
   "metadata": {},
   "source": [
    "\n",
    "<div class=\"alert alert-info\">\n",
    "\n",
    "<font color='green'><b>Полезные (и просто интересные) материалы:</b> \\\n",
    "Для работы с текстами используют и другие подходы. Например, сейчас активно используются RNN (LSTM) и трансформеры (BERT и другие с улицы Сезам, например, ELMO). НО! Они не являются панацеей, не всегда они нужны, так как и TF-IDF или Word2Vec + модели из классического ML тоже могут справляться. \\\n",
    "BERT тяжелый, существует много его вариаций для разных задач, есть готовые модели, есть надстройки над библиотекой transformers. Если, обучать BERT на GPU (можно в Google Colab или Kaggle), то должно быть побыстрее.\\\n",
    "https://huggingface.co/transformers/model_doc/bert.html \\\n",
    "https://t.me/renat_alimbekov \\\n",
    "https://colah.github.io/posts/2015-08-Understanding-LSTMs/ - Про LSTM \\\n",
    "https://web.stanford.edu/~jurafsky/slp3/10.pdf - про энкодер-декодер модели, этеншены\\\n",
    "https://pytorch.org/tutorials/beginner/transformer_tutorial.html - официальный гайд\n",
    "по трансформеру от создателей pytorch\\\n",
    "https://transformer.huggingface.co/ - поболтать с трансформером \\\n",
    "Библиотеки: allennlp, fairseq, transformers, tensorflow-text — множествореализованных\n",
    "методов для трансформеров методов NLP \\\n",
    "Word2Vec https://radimrehurek.com/gensim/models/word2vec.html \n",
    "\n",
    "\n",
    "Если понравилась работа с текстами, то можешь посмотреть очень интересный (но очень-очень сложный) курс лекций: https://github.com/yandexdataschool/nlp_course .\n",
    "</font>\n"
   ]
  },
  {
   "cell_type": "markdown",
   "metadata": {},
   "source": [
    "## Чек-лист проверки"
   ]
  },
  {
   "cell_type": "markdown",
   "metadata": {},
   "source": [
    "- [x]  Jupyter Notebook открыт\n",
    "- [x]  Весь код выполняется без ошибок\n",
    "- [x]  Ячейки с кодом расположены в порядке исполнения\n",
    "- [x]  Данные загружены и подготовлены\n",
    "- [x]  Модели обучены\n",
    "- [x]  Значение метрики *F1* не меньше 0.75\n",
    "- [x]  Выводы написаны"
   ]
  },
  {
   "cell_type": "code",
   "execution_count": null,
   "metadata": {},
   "outputs": [],
   "source": []
  }
 ],
 "metadata": {
  "ExecuteTimeLog": [
   {
    "duration": 2114,
    "start_time": "2023-02-10T07:08:03.818Z"
   },
   {
    "duration": 2579,
    "start_time": "2023-02-10T07:09:48.578Z"
   },
   {
    "duration": 839,
    "start_time": "2023-02-10T07:10:05.214Z"
   },
   {
    "duration": 1292,
    "start_time": "2023-02-10T07:10:33.646Z"
   },
   {
    "duration": 1059,
    "start_time": "2023-02-10T07:11:59.050Z"
   },
   {
    "duration": 999,
    "start_time": "2023-02-10T07:12:12.401Z"
   },
   {
    "duration": 880,
    "start_time": "2023-02-10T07:20:07.031Z"
   },
   {
    "duration": 865,
    "start_time": "2023-02-10T08:03:34.722Z"
   },
   {
    "duration": 151,
    "start_time": "2023-02-10T08:09:12.309Z"
   },
   {
    "duration": 144,
    "start_time": "2023-02-10T08:09:15.629Z"
   },
   {
    "duration": 23,
    "start_time": "2023-02-10T08:09:18.233Z"
   },
   {
    "duration": 1911,
    "start_time": "2023-02-10T08:15:04.880Z"
   },
   {
    "duration": 923,
    "start_time": "2023-02-10T08:15:06.793Z"
   },
   {
    "duration": 122,
    "start_time": "2023-02-10T08:15:07.718Z"
   },
   {
    "duration": 863,
    "start_time": "2023-02-10T08:15:39.328Z"
   },
   {
    "duration": 757,
    "start_time": "2023-02-10T08:15:58.811Z"
   },
   {
    "duration": 703,
    "start_time": "2023-02-10T08:16:07.936Z"
   },
   {
    "duration": 734,
    "start_time": "2023-02-10T08:16:30.481Z"
   },
   {
    "duration": 1897,
    "start_time": "2023-02-10T08:18:07.784Z"
   },
   {
    "duration": 926,
    "start_time": "2023-02-10T08:18:09.683Z"
   },
   {
    "duration": 1879,
    "start_time": "2023-02-10T08:18:31.592Z"
   },
   {
    "duration": 881,
    "start_time": "2023-02-10T08:18:33.474Z"
   },
   {
    "duration": 91621,
    "start_time": "2023-02-10T08:18:34.357Z"
   },
   {
    "duration": 915,
    "start_time": "2023-02-10T08:20:50.525Z"
   },
   {
    "duration": 8,
    "start_time": "2023-02-10T08:21:14.080Z"
   },
   {
    "duration": 1924,
    "start_time": "2023-02-10T08:22:14.716Z"
   },
   {
    "duration": 941,
    "start_time": "2023-02-10T08:22:16.643Z"
   },
   {
    "duration": 1929,
    "start_time": "2023-02-10T08:22:30.067Z"
   },
   {
    "duration": 959,
    "start_time": "2023-02-10T08:22:31.997Z"
   },
   {
    "duration": 1925,
    "start_time": "2023-02-10T08:23:48.669Z"
   },
   {
    "duration": 968,
    "start_time": "2023-02-10T08:23:50.596Z"
   },
   {
    "duration": 948,
    "start_time": "2023-02-10T08:23:51.565Z"
   },
   {
    "duration": 1809,
    "start_time": "2023-02-10T08:24:30.383Z"
   },
   {
    "duration": 1278,
    "start_time": "2023-02-10T08:24:32.194Z"
   },
   {
    "duration": 2014,
    "start_time": "2023-02-10T08:24:48.924Z"
   },
   {
    "duration": 942,
    "start_time": "2023-02-10T08:24:50.940Z"
   },
   {
    "duration": 53,
    "start_time": "2023-02-10T08:28:16.447Z"
   },
   {
    "duration": 1906,
    "start_time": "2023-02-10T08:28:24.019Z"
   },
   {
    "duration": 868,
    "start_time": "2023-02-10T08:28:25.927Z"
   },
   {
    "duration": 843,
    "start_time": "2023-02-10T08:28:26.797Z"
   },
   {
    "duration": 1849,
    "start_time": "2023-02-10T08:32:55.985Z"
   },
   {
    "duration": 994,
    "start_time": "2023-02-10T08:32:57.836Z"
   },
   {
    "duration": 102822,
    "start_time": "2023-02-10T08:32:58.832Z"
   },
   {
    "duration": 24,
    "start_time": "2023-02-10T08:34:58.854Z"
   },
   {
    "duration": 32,
    "start_time": "2023-02-10T08:35:12.198Z"
   },
   {
    "duration": 104797,
    "start_time": "2023-02-10T08:35:48.314Z"
   },
   {
    "duration": 2082,
    "start_time": "2023-02-10T08:38:57.070Z"
   },
   {
    "duration": 138,
    "start_time": "2023-02-10T08:44:56.049Z"
   },
   {
    "duration": 11,
    "start_time": "2023-02-10T08:45:25.425Z"
   },
   {
    "duration": 2179,
    "start_time": "2023-02-10T08:46:34.508Z"
   },
   {
    "duration": 2438,
    "start_time": "2023-02-10T08:46:36.690Z"
   },
   {
    "duration": 105620,
    "start_time": "2023-02-10T08:46:39.130Z"
   },
   {
    "duration": 2120,
    "start_time": "2023-02-10T08:48:24.753Z"
   },
   {
    "duration": 2008,
    "start_time": "2023-02-10T08:49:36.552Z"
   },
   {
    "duration": 2465,
    "start_time": "2023-02-10T08:49:38.563Z"
   },
   {
    "duration": 110387,
    "start_time": "2023-02-10T08:49:41.037Z"
   },
   {
    "duration": 2092,
    "start_time": "2023-02-10T08:51:31.427Z"
   },
   {
    "duration": 1932,
    "start_time": "2023-02-10T08:52:06.669Z"
   },
   {
    "duration": 2456,
    "start_time": "2023-02-10T08:52:08.603Z"
   },
   {
    "duration": 106226,
    "start_time": "2023-02-10T08:52:11.061Z"
   },
   {
    "duration": 2008,
    "start_time": "2023-02-10T08:54:10.585Z"
   },
   {
    "duration": 2651,
    "start_time": "2023-02-10T08:54:12.596Z"
   },
   {
    "duration": 125063,
    "start_time": "2023-02-10T08:54:15.249Z"
   },
   {
    "duration": 13524,
    "start_time": "2023-02-10T08:56:20.315Z"
   },
   {
    "duration": 50,
    "start_time": "2023-02-12T11:37:03.050Z"
   },
   {
    "duration": 1959,
    "start_time": "2023-02-12T11:37:06.961Z"
   },
   {
    "duration": 2671,
    "start_time": "2023-02-12T11:37:08.923Z"
   },
   {
    "duration": 88460,
    "start_time": "2023-02-12T11:37:19.685Z"
   },
   {
    "duration": 11472,
    "start_time": "2023-02-12T11:38:48.147Z"
   },
   {
    "duration": 114,
    "start_time": "2023-02-12T11:38:59.620Z"
   },
   {
    "duration": 7,
    "start_time": "2023-02-12T11:40:05.070Z"
   },
   {
    "duration": 5,
    "start_time": "2023-02-12T11:40:30.945Z"
   },
   {
    "duration": 17,
    "start_time": "2023-02-12T11:41:26.781Z"
   },
   {
    "duration": 51,
    "start_time": "2023-02-12T11:41:41.905Z"
   },
   {
    "duration": 44,
    "start_time": "2023-02-12T11:42:15.885Z"
   },
   {
    "duration": 5,
    "start_time": "2023-02-12T11:42:35.652Z"
   },
   {
    "duration": 6,
    "start_time": "2023-02-12T11:42:47.030Z"
   },
   {
    "duration": 6,
    "start_time": "2023-02-12T11:42:50.350Z"
   },
   {
    "duration": 5,
    "start_time": "2023-02-12T11:43:05.665Z"
   },
   {
    "duration": 45,
    "start_time": "2023-02-12T11:43:23.089Z"
   },
   {
    "duration": 10,
    "start_time": "2023-02-12T11:46:13.165Z"
   },
   {
    "duration": 6,
    "start_time": "2023-02-12T11:46:23.737Z"
   },
   {
    "duration": 1849,
    "start_time": "2023-02-12T11:47:12.012Z"
   },
   {
    "duration": 817,
    "start_time": "2023-02-12T11:47:13.863Z"
   },
   {
    "duration": 96706,
    "start_time": "2023-02-12T11:47:14.681Z"
   },
   {
    "duration": 40,
    "start_time": "2023-02-12T11:48:51.390Z"
   },
   {
    "duration": 12,
    "start_time": "2023-02-12T11:48:51.432Z"
   },
   {
    "duration": 168,
    "start_time": "2023-02-12T11:48:51.447Z"
   },
   {
    "duration": 0,
    "start_time": "2023-02-12T11:48:51.617Z"
   },
   {
    "duration": 5,
    "start_time": "2023-02-12T11:49:28.429Z"
   },
   {
    "duration": 47,
    "start_time": "2023-02-12T11:49:31.213Z"
   },
   {
    "duration": 11962,
    "start_time": "2023-02-12T11:49:43.964Z"
   },
   {
    "duration": 10,
    "start_time": "2023-02-12T11:50:23.664Z"
   },
   {
    "duration": 9,
    "start_time": "2023-02-12T11:50:26.868Z"
   },
   {
    "duration": 11958,
    "start_time": "2023-02-12T11:52:02.104Z"
   },
   {
    "duration": 3,
    "start_time": "2023-02-12T11:52:56.859Z"
   },
   {
    "duration": 3,
    "start_time": "2023-02-12T11:53:14.072Z"
   },
   {
    "duration": 21,
    "start_time": "2023-02-12T11:53:35.287Z"
   },
   {
    "duration": 15,
    "start_time": "2023-02-12T11:54:54.391Z"
   },
   {
    "duration": 15,
    "start_time": "2023-02-12T11:55:14.896Z"
   },
   {
    "duration": 16,
    "start_time": "2023-02-12T11:55:18.804Z"
   },
   {
    "duration": 71,
    "start_time": "2023-02-12T11:56:58.187Z"
   },
   {
    "duration": 5,
    "start_time": "2023-02-12T11:57:07.835Z"
   },
   {
    "duration": 1757,
    "start_time": "2023-02-12T11:57:15.160Z"
   },
   {
    "duration": 891,
    "start_time": "2023-02-12T11:57:16.919Z"
   },
   {
    "duration": 96740,
    "start_time": "2023-02-12T11:57:17.812Z"
   },
   {
    "duration": 42,
    "start_time": "2023-02-12T11:58:54.555Z"
   },
   {
    "duration": 4,
    "start_time": "2023-02-12T11:58:54.599Z"
   },
   {
    "duration": 47,
    "start_time": "2023-02-12T11:58:54.604Z"
   },
   {
    "duration": 22,
    "start_time": "2023-02-12T11:58:54.653Z"
   },
   {
    "duration": 7,
    "start_time": "2023-02-12T11:58:54.677Z"
   },
   {
    "duration": 16193,
    "start_time": "2023-02-12T11:58:54.686Z"
   },
   {
    "duration": 6,
    "start_time": "2023-02-12T11:59:10.882Z"
   },
   {
    "duration": 4,
    "start_time": "2023-02-12T11:59:32.703Z"
   },
   {
    "duration": 126,
    "start_time": "2023-02-12T11:59:58.071Z"
   },
   {
    "duration": 7,
    "start_time": "2023-02-12T12:00:19.963Z"
   },
   {
    "duration": 11,
    "start_time": "2023-02-12T12:00:24.907Z"
   },
   {
    "duration": 184975,
    "start_time": "2023-02-12T12:08:48.191Z"
   },
   {
    "duration": 80,
    "start_time": "2023-02-12T12:12:08.084Z"
   },
   {
    "duration": 155846,
    "start_time": "2023-02-12T12:13:30.237Z"
   },
   {
    "duration": 103,
    "start_time": "2023-02-12T12:16:18.997Z"
   },
   {
    "duration": 13,
    "start_time": "2023-02-12T12:20:07.208Z"
   },
   {
    "duration": 57994,
    "start_time": "2023-02-12T12:21:20.684Z"
   },
   {
    "duration": 8,
    "start_time": "2023-02-12T12:24:30.344Z"
   },
   {
    "duration": 55123,
    "start_time": "2023-02-12T12:24:35.784Z"
   },
   {
    "duration": 5265,
    "start_time": "2023-02-12T12:35:10.173Z"
   },
   {
    "duration": 456394,
    "start_time": "2023-02-12T12:35:17.527Z"
   },
   {
    "duration": 26252,
    "start_time": "2023-02-12T12:44:46.397Z"
   },
   {
    "duration": 98,
    "start_time": "2023-02-13T07:18:03.848Z"
   },
   {
    "duration": 1961,
    "start_time": "2023-02-13T07:18:09.140Z"
   },
   {
    "duration": 1526,
    "start_time": "2023-02-13T07:18:11.104Z"
   },
   {
    "duration": 114589,
    "start_time": "2023-02-13T07:18:12.631Z"
   },
   {
    "duration": 66,
    "start_time": "2023-02-13T07:20:07.222Z"
   },
   {
    "duration": 7,
    "start_time": "2023-02-13T07:20:07.290Z"
   },
   {
    "duration": 55,
    "start_time": "2023-02-13T07:20:07.298Z"
   },
   {
    "duration": 4,
    "start_time": "2023-02-13T07:20:07.355Z"
   },
   {
    "duration": 19778,
    "start_time": "2023-02-13T07:20:07.370Z"
   },
   {
    "duration": 7,
    "start_time": "2023-02-13T07:20:27.150Z"
   },
   {
    "duration": 424543,
    "start_time": "2023-02-13T07:20:27.170Z"
   },
   {
    "duration": 23037,
    "start_time": "2023-02-13T07:27:31.715Z"
   },
   {
    "duration": 297,
    "start_time": "2023-02-13T07:27:54.755Z"
   },
   {
    "duration": 123874,
    "start_time": "2023-02-13T07:27:55.054Z"
   },
   {
    "duration": 132,
    "start_time": "2023-02-13T07:29:58.930Z"
   },
   {
    "duration": 185,
    "start_time": "2023-02-13T07:30:01.932Z"
   },
   {
    "duration": 115835,
    "start_time": "2023-02-13T07:30:19.009Z"
   },
   {
    "duration": 511862,
    "start_time": "2023-02-13T07:36:14.279Z"
   },
   {
    "duration": 30914,
    "start_time": "2023-02-13T07:46:03.595Z"
   },
   {
    "duration": 115,
    "start_time": "2023-02-13T07:52:28.659Z"
   },
   {
    "duration": 6,
    "start_time": "2023-02-13T07:53:10.951Z"
   },
   {
    "duration": 91859,
    "start_time": "2023-02-13T07:53:16.735Z"
   },
   {
    "duration": 86947,
    "start_time": "2023-02-13T07:56:44.146Z"
   },
   {
    "duration": 83208,
    "start_time": "2023-02-13T07:58:21.851Z"
   },
   {
    "duration": 742,
    "start_time": "2023-02-13T08:03:40.780Z"
   },
   {
    "duration": 17,
    "start_time": "2023-02-13T08:07:13.283Z"
   },
   {
    "duration": 15,
    "start_time": "2023-02-13T08:07:31.084Z"
   },
   {
    "duration": 1970,
    "start_time": "2023-02-13T08:13:16.934Z"
   },
   {
    "duration": 1378,
    "start_time": "2023-02-13T08:13:18.914Z"
   },
   {
    "duration": 110459,
    "start_time": "2023-02-13T08:13:20.295Z"
   },
   {
    "duration": 67,
    "start_time": "2023-02-13T08:15:10.757Z"
   },
   {
    "duration": 6,
    "start_time": "2023-02-13T08:15:10.825Z"
   },
   {
    "duration": 84,
    "start_time": "2023-02-13T08:15:10.833Z"
   },
   {
    "duration": 11,
    "start_time": "2023-02-13T08:15:10.918Z"
   },
   {
    "duration": 20082,
    "start_time": "2023-02-13T08:15:10.930Z"
   },
   {
    "duration": 12,
    "start_time": "2023-02-13T08:15:31.015Z"
   },
   {
    "duration": 432026,
    "start_time": "2023-02-13T08:15:31.029Z"
   },
   {
    "duration": 25405,
    "start_time": "2023-02-13T08:22:43.056Z"
   },
   {
    "duration": 111953,
    "start_time": "2023-02-13T08:23:08.463Z"
   },
   {
    "duration": 88792,
    "start_time": "2023-02-13T08:25:00.419Z"
   },
   {
    "duration": 733,
    "start_time": "2023-02-13T08:26:29.213Z"
   },
   {
    "duration": 34,
    "start_time": "2023-02-13T08:26:29.948Z"
   },
   {
    "duration": 2061,
    "start_time": "2023-02-13T10:52:01.254Z"
   },
   {
    "duration": 2568,
    "start_time": "2023-02-13T10:52:24.250Z"
   },
   {
    "duration": 1056,
    "start_time": "2023-02-13T10:53:46.558Z"
   },
   {
    "duration": 10704,
    "start_time": "2023-02-14T07:13:10.025Z"
   },
   {
    "duration": 11416,
    "start_time": "2023-02-14T07:13:49.737Z"
   },
   {
    "duration": 1026,
    "start_time": "2023-02-14T07:14:07.713Z"
   },
   {
    "duration": 11595,
    "start_time": "2023-02-14T07:16:09.937Z"
   },
   {
    "duration": 15715,
    "start_time": "2023-02-14T07:25:14.379Z"
   },
   {
    "duration": 1126,
    "start_time": "2023-02-14T07:25:30.096Z"
   },
   {
    "duration": 119436,
    "start_time": "2023-02-14T07:25:31.223Z"
   },
   {
    "duration": 0,
    "start_time": "2023-02-14T07:27:30.662Z"
   },
   {
    "duration": 0,
    "start_time": "2023-02-14T07:27:30.664Z"
   },
   {
    "duration": 0,
    "start_time": "2023-02-14T07:27:30.666Z"
   },
   {
    "duration": 0,
    "start_time": "2023-02-14T07:27:30.666Z"
   },
   {
    "duration": 0,
    "start_time": "2023-02-14T07:27:30.668Z"
   },
   {
    "duration": 0,
    "start_time": "2023-02-14T07:27:30.681Z"
   },
   {
    "duration": 0,
    "start_time": "2023-02-14T07:27:30.683Z"
   },
   {
    "duration": 0,
    "start_time": "2023-02-14T07:27:30.684Z"
   },
   {
    "duration": 0,
    "start_time": "2023-02-14T07:27:30.686Z"
   },
   {
    "duration": 0,
    "start_time": "2023-02-14T07:27:30.687Z"
   },
   {
    "duration": 0,
    "start_time": "2023-02-14T07:27:30.688Z"
   },
   {
    "duration": 0,
    "start_time": "2023-02-14T07:27:30.689Z"
   },
   {
    "duration": 0,
    "start_time": "2023-02-14T07:27:30.690Z"
   },
   {
    "duration": 466,
    "start_time": "2023-02-14T07:27:32.113Z"
   },
   {
    "duration": 489,
    "start_time": "2023-02-14T07:27:39.579Z"
   },
   {
    "duration": 14028,
    "start_time": "2023-02-14T07:27:46.964Z"
   },
   {
    "duration": 1097,
    "start_time": "2023-02-14T07:28:00.994Z"
   },
   {
    "duration": 798,
    "start_time": "2023-02-14T07:28:02.093Z"
   },
   {
    "duration": 0,
    "start_time": "2023-02-14T07:28:02.893Z"
   },
   {
    "duration": 0,
    "start_time": "2023-02-14T07:28:02.895Z"
   },
   {
    "duration": 0,
    "start_time": "2023-02-14T07:28:02.896Z"
   },
   {
    "duration": 0,
    "start_time": "2023-02-14T07:28:02.897Z"
   },
   {
    "duration": 0,
    "start_time": "2023-02-14T07:28:02.899Z"
   },
   {
    "duration": 0,
    "start_time": "2023-02-14T07:28:02.900Z"
   },
   {
    "duration": 0,
    "start_time": "2023-02-14T07:28:02.902Z"
   },
   {
    "duration": 0,
    "start_time": "2023-02-14T07:28:02.903Z"
   },
   {
    "duration": 0,
    "start_time": "2023-02-14T07:28:02.904Z"
   },
   {
    "duration": 0,
    "start_time": "2023-02-14T07:28:02.906Z"
   },
   {
    "duration": 0,
    "start_time": "2023-02-14T07:28:02.907Z"
   },
   {
    "duration": 0,
    "start_time": "2023-02-14T07:28:02.908Z"
   },
   {
    "duration": 0,
    "start_time": "2023-02-14T07:28:02.910Z"
   },
   {
    "duration": 62545,
    "start_time": "2023-02-14T07:28:45.584Z"
   },
   {
    "duration": 0,
    "start_time": "2023-02-14T07:29:48.130Z"
   },
   {
    "duration": 486,
    "start_time": "2023-02-14T07:30:30.437Z"
   },
   {
    "duration": 484,
    "start_time": "2023-02-14T07:31:06.165Z"
   },
   {
    "duration": 423,
    "start_time": "2023-02-14T07:31:24.993Z"
   },
   {
    "duration": 449,
    "start_time": "2023-02-14T07:31:34.504Z"
   },
   {
    "duration": 769,
    "start_time": "2023-02-14T07:32:25.180Z"
   },
   {
    "duration": 807,
    "start_time": "2023-02-14T07:33:03.752Z"
   },
   {
    "duration": 352519,
    "start_time": "2023-02-14T07:35:00.265Z"
   },
   {
    "duration": 42,
    "start_time": "2023-02-14T07:49:55.260Z"
   },
   {
    "duration": 10408,
    "start_time": "2023-02-14T07:50:05.628Z"
   },
   {
    "duration": 1096080,
    "start_time": "2023-02-14T07:50:24.559Z"
   },
   {
    "duration": 241,
    "start_time": "2023-02-14T08:08:40.642Z"
   },
   {
    "duration": 784,
    "start_time": "2023-02-14T08:24:21.569Z"
   },
   {
    "duration": 735,
    "start_time": "2023-02-14T08:25:19.685Z"
   },
   {
    "duration": 311,
    "start_time": "2023-02-14T08:26:46.017Z"
   },
   {
    "duration": 4,
    "start_time": "2023-02-14T08:27:17.750Z"
   },
   {
    "duration": 1239,
    "start_time": "2023-02-14T08:27:21.757Z"
   },
   {
    "duration": 328,
    "start_time": "2023-02-14T08:27:56.453Z"
   },
   {
    "duration": 308,
    "start_time": "2023-02-14T08:28:08.257Z"
   },
   {
    "duration": 427,
    "start_time": "2023-02-14T08:28:27.635Z"
   },
   {
    "duration": 428,
    "start_time": "2023-02-14T08:28:34.733Z"
   },
   {
    "duration": 430,
    "start_time": "2023-02-14T08:28:39.954Z"
   },
   {
    "duration": 0,
    "start_time": "2023-02-14T08:29:33.565Z"
   },
   {
    "duration": 787,
    "start_time": "2023-02-14T08:29:43.457Z"
   },
   {
    "duration": 107,
    "start_time": "2023-02-14T08:30:33.829Z"
   },
   {
    "duration": 31,
    "start_time": "2023-02-14T08:30:56.457Z"
   },
   {
    "duration": 26,
    "start_time": "2023-02-14T08:31:50.957Z"
   },
   {
    "duration": 29,
    "start_time": "2023-02-14T08:31:56.917Z"
   },
   {
    "duration": 155,
    "start_time": "2023-02-14T08:32:04.114Z"
   },
   {
    "duration": 185,
    "start_time": "2023-02-14T08:42:51.300Z"
   },
   {
    "duration": 285,
    "start_time": "2023-02-14T08:43:02.260Z"
   },
   {
    "duration": 284,
    "start_time": "2023-02-14T08:43:43.139Z"
   },
   {
    "duration": 270,
    "start_time": "2023-02-14T08:44:02.955Z"
   },
   {
    "duration": 288,
    "start_time": "2023-02-14T08:44:16.427Z"
   },
   {
    "duration": 262,
    "start_time": "2023-02-14T08:44:26.716Z"
   },
   {
    "duration": 3630,
    "start_time": "2023-02-14T08:47:23.644Z"
   },
   {
    "duration": 3480,
    "start_time": "2023-02-14T08:47:36.279Z"
   },
   {
    "duration": 38511,
    "start_time": "2023-02-14T08:50:07.338Z"
   },
   {
    "duration": 39565,
    "start_time": "2023-02-14T08:51:03.183Z"
   },
   {
    "duration": 37120,
    "start_time": "2023-02-14T08:53:55.854Z"
   },
   {
    "duration": 303,
    "start_time": "2023-02-14T08:55:03.972Z"
   },
   {
    "duration": 128,
    "start_time": "2023-02-14T08:55:34.967Z"
   },
   {
    "duration": 235,
    "start_time": "2023-02-14T08:55:42.679Z"
   },
   {
    "duration": 107,
    "start_time": "2023-02-14T08:55:54.458Z"
   },
   {
    "duration": 74,
    "start_time": "2023-02-14T08:56:12.458Z"
   },
   {
    "duration": 1379,
    "start_time": "2023-02-14T08:56:23.411Z"
   },
   {
    "duration": 107,
    "start_time": "2023-02-14T09:02:12.246Z"
   },
   {
    "duration": 113,
    "start_time": "2023-02-14T09:04:49.382Z"
   },
   {
    "duration": 258,
    "start_time": "2023-02-14T09:06:00.527Z"
   },
   {
    "duration": 257,
    "start_time": "2023-02-14T09:06:38.895Z"
   },
   {
    "duration": 265,
    "start_time": "2023-02-14T09:07:01.611Z"
   },
   {
    "duration": 276,
    "start_time": "2023-02-14T09:11:35.950Z"
   },
   {
    "duration": 267,
    "start_time": "2023-02-14T09:11:51.823Z"
   },
   {
    "duration": 1439,
    "start_time": "2023-02-14T09:12:24.319Z"
   },
   {
    "duration": 414,
    "start_time": "2023-02-14T09:13:04.443Z"
   },
   {
    "duration": 447,
    "start_time": "2023-02-14T09:13:23.034Z"
   },
   {
    "duration": 348,
    "start_time": "2023-02-14T09:13:28.631Z"
   },
   {
    "duration": 375,
    "start_time": "2023-02-14T09:13:33.147Z"
   },
   {
    "duration": 9905,
    "start_time": "2023-02-14T09:15:15.042Z"
   },
   {
    "duration": 29,
    "start_time": "2023-02-14T09:16:56.712Z"
   },
   {
    "duration": 53,
    "start_time": "2023-02-14T09:17:04.807Z"
   },
   {
    "duration": 72,
    "start_time": "2023-02-14T09:17:53.522Z"
   },
   {
    "duration": 1657,
    "start_time": "2023-02-14T09:17:59.227Z"
   },
   {
    "duration": 6372,
    "start_time": "2023-02-14T09:18:14.575Z"
   },
   {
    "duration": 18,
    "start_time": "2023-02-14T09:18:52.428Z"
   },
   {
    "duration": 7,
    "start_time": "2023-02-14T09:19:02.403Z"
   },
   {
    "duration": 320027,
    "start_time": "2023-02-14T09:19:34.874Z"
   },
   {
    "duration": 5,
    "start_time": "2023-02-14T09:32:18.902Z"
   },
   {
    "duration": 3,
    "start_time": "2023-02-14T09:32:33.214Z"
   },
   {
    "duration": 15,
    "start_time": "2023-02-14T09:33:08.463Z"
   },
   {
    "duration": 15,
    "start_time": "2023-02-14T09:33:22.195Z"
   },
   {
    "duration": 144,
    "start_time": "2023-02-14T09:35:21.630Z"
   },
   {
    "duration": 283135,
    "start_time": "2023-02-14T09:36:06.846Z"
   },
   {
    "duration": 3,
    "start_time": "2023-02-14T09:42:13.376Z"
   },
   {
    "duration": 20,
    "start_time": "2023-02-14T09:42:16.223Z"
   },
   {
    "duration": 103,
    "start_time": "2023-02-14T09:45:53.239Z"
   },
   {
    "duration": 10209,
    "start_time": "2023-02-14T09:46:58.124Z"
   },
   {
    "duration": 383,
    "start_time": "2023-02-14T09:47:20.267Z"
   },
   {
    "duration": 1607933,
    "start_time": "2023-02-14T09:47:34.607Z"
   },
   {
    "duration": 22,
    "start_time": "2023-02-14T10:15:11.732Z"
   },
   {
    "duration": 4970,
    "start_time": "2023-02-14T10:15:59.217Z"
   },
   {
    "duration": 40,
    "start_time": "2023-02-14T10:17:29.243Z"
   },
   {
    "duration": 21,
    "start_time": "2023-02-14T10:17:39.831Z"
   },
   {
    "duration": 21,
    "start_time": "2023-02-14T10:17:48.727Z"
   },
   {
    "duration": 24,
    "start_time": "2023-02-14T10:18:00.329Z"
   },
   {
    "duration": 14611,
    "start_time": "2023-02-14T10:18:15.611Z"
   },
   {
    "duration": 1098,
    "start_time": "2023-02-14T10:18:30.224Z"
   },
   {
    "duration": 1131179,
    "start_time": "2023-02-14T10:18:31.323Z"
   },
   {
    "duration": 39122,
    "start_time": "2023-02-14T10:37:22.505Z"
   },
   {
    "duration": 753,
    "start_time": "2023-02-14T10:38:01.629Z"
   },
   {
    "duration": 73,
    "start_time": "2023-02-14T10:38:02.383Z"
   },
   {
    "duration": 99,
    "start_time": "2023-02-14T10:38:02.458Z"
   },
   {
    "duration": 0,
    "start_time": "2023-02-14T10:38:02.559Z"
   },
   {
    "duration": 0,
    "start_time": "2023-02-14T10:38:02.560Z"
   },
   {
    "duration": 0,
    "start_time": "2023-02-14T10:38:02.562Z"
   },
   {
    "duration": 0,
    "start_time": "2023-02-14T10:38:02.563Z"
   },
   {
    "duration": 0,
    "start_time": "2023-02-14T10:38:02.564Z"
   },
   {
    "duration": 0,
    "start_time": "2023-02-14T10:38:02.566Z"
   },
   {
    "duration": 0,
    "start_time": "2023-02-14T10:38:02.567Z"
   },
   {
    "duration": 0,
    "start_time": "2023-02-14T10:38:02.568Z"
   },
   {
    "duration": 0,
    "start_time": "2023-02-14T10:38:02.569Z"
   },
   {
    "duration": 39372,
    "start_time": "2023-02-14T10:41:46.861Z"
   },
   {
    "duration": 88,
    "start_time": "2023-02-14T10:42:26.235Z"
   },
   {
    "duration": 24854,
    "start_time": "2023-02-14T10:42:54.477Z"
   },
   {
    "duration": 7,
    "start_time": "2023-02-14T10:43:34.529Z"
   },
   {
    "duration": 773823,
    "start_time": "2023-02-14T10:43:37.665Z"
   },
   {
    "duration": 3,
    "start_time": "2023-02-14T10:56:31.490Z"
   },
   {
    "duration": 29,
    "start_time": "2023-02-14T10:56:31.494Z"
   },
   {
    "duration": 159,
    "start_time": "2023-02-14T11:13:11.565Z"
   },
   {
    "duration": 7,
    "start_time": "2023-02-14T11:20:04.088Z"
   },
   {
    "duration": 6,
    "start_time": "2023-02-14T11:20:07.930Z"
   },
   {
    "duration": 107,
    "start_time": "2023-02-14T11:20:37.331Z"
   },
   {
    "duration": 14010,
    "start_time": "2023-02-14T11:21:11.106Z"
   },
   {
    "duration": 2613,
    "start_time": "2023-02-14T11:21:25.118Z"
   },
   {
    "duration": 1858,
    "start_time": "2023-02-14T13:51:12.978Z"
   },
   {
    "duration": 10252,
    "start_time": "2023-02-14T13:51:35.041Z"
   },
   {
    "duration": 1075,
    "start_time": "2023-02-14T13:51:45.295Z"
   },
   {
    "duration": 1234020,
    "start_time": "2023-02-14T13:51:55.337Z"
   },
   {
    "duration": 750,
    "start_time": "2023-02-14T14:28:03.257Z"
   },
   {
    "duration": 43859,
    "start_time": "2023-02-14T14:30:51.058Z"
   },
   {
    "duration": 0,
    "start_time": "2023-02-14T14:31:34.918Z"
   },
   {
    "duration": 0,
    "start_time": "2023-02-14T14:31:34.920Z"
   },
   {
    "duration": 0,
    "start_time": "2023-02-14T14:31:34.921Z"
   },
   {
    "duration": 2291,
    "start_time": "2023-02-14T14:31:40.315Z"
   },
   {
    "duration": 11925,
    "start_time": "2023-02-14T14:31:48.882Z"
   },
   {
    "duration": 1776,
    "start_time": "2023-02-14T14:32:03.786Z"
   },
   {
    "duration": 1835,
    "start_time": "2023-02-14T14:32:08.846Z"
   },
   {
    "duration": 1065,
    "start_time": "2023-02-14T14:32:14.586Z"
   },
   {
    "duration": 14557,
    "start_time": "2023-02-14T14:32:28.714Z"
   },
   {
    "duration": 1223,
    "start_time": "2023-02-14T14:32:43.273Z"
   },
   {
    "duration": 16521,
    "start_time": "2023-02-14T14:35:47.901Z"
   },
   {
    "duration": 1115,
    "start_time": "2023-02-14T14:36:04.424Z"
   },
   {
    "duration": 1235359,
    "start_time": "2023-02-14T14:36:05.541Z"
   },
   {
    "duration": 41715,
    "start_time": "2023-02-14T14:56:40.902Z"
   },
   {
    "duration": 750,
    "start_time": "2023-02-14T14:57:22.619Z"
   },
   {
    "duration": 74,
    "start_time": "2023-02-14T14:57:23.371Z"
   },
   {
    "duration": 3,
    "start_time": "2023-02-14T14:57:23.447Z"
   },
   {
    "duration": 22,
    "start_time": "2023-02-14T14:57:23.451Z"
   },
   {
    "duration": 494,
    "start_time": "2023-02-14T14:57:23.475Z"
   },
   {
    "duration": 24,
    "start_time": "2023-02-14T14:57:23.970Z"
   },
   {
    "duration": 0,
    "start_time": "2023-02-14T14:57:23.996Z"
   },
   {
    "duration": 1,
    "start_time": "2023-02-14T14:57:23.997Z"
   },
   {
    "duration": 0,
    "start_time": "2023-02-14T14:57:23.999Z"
   },
   {
    "duration": 0,
    "start_time": "2023-02-14T14:57:24.000Z"
   },
   {
    "duration": 859512,
    "start_time": "2023-02-14T15:02:13.344Z"
   },
   {
    "duration": 22,
    "start_time": "2023-02-14T15:19:53.325Z"
   },
   {
    "duration": 926062,
    "start_time": "2023-02-14T15:23:22.225Z"
   },
   {
    "duration": 3,
    "start_time": "2023-02-14T15:40:26.946Z"
   },
   {
    "duration": 29,
    "start_time": "2023-02-14T15:40:37.850Z"
   },
   {
    "duration": 31,
    "start_time": "2023-02-14T15:40:54.322Z"
   },
   {
    "duration": 28,
    "start_time": "2023-02-14T15:41:28.513Z"
   },
   {
    "duration": 22,
    "start_time": "2023-02-14T15:41:41.758Z"
   },
   {
    "duration": 26,
    "start_time": "2023-02-14T15:41:44.893Z"
   },
   {
    "duration": 21,
    "start_time": "2023-02-14T15:42:14.237Z"
   },
   {
    "duration": 24,
    "start_time": "2023-02-14T15:42:39.650Z"
   },
   {
    "duration": 33,
    "start_time": "2023-02-14T15:42:45.597Z"
   },
   {
    "duration": 8,
    "start_time": "2023-02-14T15:42:55.361Z"
   },
   {
    "duration": 132,
    "start_time": "2023-02-14T15:48:51.815Z"
   },
   {
    "duration": 1606459,
    "start_time": "2023-02-14T15:49:16.878Z"
   },
   {
    "duration": 34,
    "start_time": "2023-02-14T16:16:51.636Z"
   },
   {
    "duration": 21,
    "start_time": "2023-02-14T16:18:14.340Z"
   },
   {
    "duration": 20,
    "start_time": "2023-02-14T16:18:44.796Z"
   },
   {
    "duration": 1773919,
    "start_time": "2023-02-14T16:25:00.684Z"
   },
   {
    "duration": 37,
    "start_time": "2023-02-14T16:54:34.605Z"
   },
   {
    "duration": 31,
    "start_time": "2023-02-14T16:55:18.182Z"
   },
   {
    "duration": 2592,
    "start_time": "2023-02-14T16:56:12.719Z"
   },
   {
    "duration": 8228,
    "start_time": "2023-02-14T16:57:25.545Z"
   },
   {
    "duration": 2587,
    "start_time": "2023-02-14T17:01:59.811Z"
   },
   {
    "duration": 10820,
    "start_time": "2023-02-14T17:06:37.874Z"
   },
   {
    "duration": 76,
    "start_time": "2023-02-15T10:40:36.682Z"
   }
  ],
  "kernelspec": {
   "display_name": "Python 3",
   "language": "python",
   "name": "python3"
  },
  "language_info": {
   "codemirror_mode": {
    "name": "ipython",
    "version": 3
   },
   "file_extension": ".py",
   "mimetype": "text/x-python",
   "name": "python",
   "nbconvert_exporter": "python",
   "pygments_lexer": "ipython3",
   "version": "3.8.3"
  },
  "toc": {
   "base_numbering": 1,
   "nav_menu": {},
   "number_sections": true,
   "sideBar": true,
   "skip_h1_title": true,
   "title_cell": "Содержание",
   "title_sidebar": "Contents",
   "toc_cell": true,
   "toc_position": {
    "height": "calc(100% - 180px)",
    "left": "10px",
    "top": "150px",
    "width": "302.391px"
   },
   "toc_section_display": true,
   "toc_window_display": false
  }
 },
 "nbformat": 4,
 "nbformat_minor": 2
}
